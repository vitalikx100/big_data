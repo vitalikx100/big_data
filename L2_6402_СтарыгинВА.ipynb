{
  "nbformat": 4,
  "nbformat_minor": 0,
  "metadata": {
    "colab": {
      "provenance": [],
      "authorship_tag": "ABX9TyNWbD7aBKfO50X0KsfO0lQ0"
    },
    "kernelspec": {
      "name": "python3",
      "display_name": "Python 3"
    },
    "language_info": {
      "name": "python"
    }
  },
  "cells": [
    {
      "cell_type": "code",
      "execution_count": null,
      "metadata": {
        "id": "BzIaano3Iuc2"
      },
      "outputs": [],
      "source": [
        "import os\n",
        "import sys\n",
        "from pyspark.sql import Row\n",
        "from pyspark.sql import SparkSession\n",
        "from pyspark.sql.functions import col"
      ]
    },
    {
      "cell_type": "markdown",
      "source": [
        "Настройка переменных окружения"
      ],
      "metadata": {
        "id": "QCCAiGCLgmpP"
      }
    },
    {
      "cell_type": "code",
      "source": [
        "os.environ['PYSPARK_PYTHON'] = sys.executable #устанавливает текущий интерпретатор Python\n",
        "os.environ['PYSPARK_DRIVER_PYTHON'] = sys.executable #устанавливает текущий интерпретатор Python для драйвера Spark\n",
        "os.environ['PYSPARK_SUBMIT_ARGS'] = '--packages com.databricks:spark-xml_2.12:0.17.0 pyspark-shell' #подключение пакета для работы с XML в Spark и запуск PySpark в интерактивном режиме"
      ],
      "metadata": {
        "id": "wJ9Jqv3RSBOm"
      },
      "execution_count": null,
      "outputs": []
    },
    {
      "cell_type": "code",
      "source": [
        "spark = SparkSession.builder.appName(\"L2\").getOrCreate()"
      ],
      "metadata": {
        "id": "mNlmabvefHnV"
      },
      "execution_count": null,
      "outputs": []
    },
    {
      "cell_type": "code",
      "source": [
        "if not os.path.exists('posts_sample.xml'):\n",
        "    !wget https://git.ai.ssau.ru/tk/big_data/src/branch/bachelor/data/posts_sample.xml\n",
        "\n",
        "posts_sample_data = spark.read.format('xml') \\\n",
        "    .option('rowTag', 'row') \\\n",
        "    .option(\"timestampFormat\", 'yyyy/MM/dd HH:mm:ss') \\\n",
        "    .load('posts_sample.xml')"
      ],
      "metadata": {
        "id": "XqVD3cnsh5GE"
      },
      "execution_count": null,
      "outputs": []
    },
    {
      "cell_type": "code",
      "source": [
        "if posts_sample_data.isEmpty():\n",
        "    print(\"DataFrame не содержит данных\")\n",
        "else:\n",
        "    posts_sample_data.printSchema()\n",
        "    posts_sample_data.show(5)"
      ],
      "metadata": {
        "id": "7FNdI17sjV-t",
        "colab": {
          "base_uri": "https://localhost:8080/"
        },
        "outputId": "09734fa5-7ed7-4710-e3ca-25af5fb87519"
      },
      "execution_count": null,
      "outputs": [
        {
          "output_type": "stream",
          "name": "stdout",
          "text": [
            "root\n",
            " |-- _AcceptedAnswerId: long (nullable = true)\n",
            " |-- _AnswerCount: long (nullable = true)\n",
            " |-- _Body: string (nullable = true)\n",
            " |-- _ClosedDate: timestamp (nullable = true)\n",
            " |-- _CommentCount: long (nullable = true)\n",
            " |-- _CommunityOwnedDate: timestamp (nullable = true)\n",
            " |-- _CreationDate: timestamp (nullable = true)\n",
            " |-- _FavoriteCount: long (nullable = true)\n",
            " |-- _Id: long (nullable = true)\n",
            " |-- _LastActivityDate: timestamp (nullable = true)\n",
            " |-- _LastEditDate: timestamp (nullable = true)\n",
            " |-- _LastEditorDisplayName: string (nullable = true)\n",
            " |-- _LastEditorUserId: long (nullable = true)\n",
            " |-- _OwnerDisplayName: string (nullable = true)\n",
            " |-- _OwnerUserId: long (nullable = true)\n",
            " |-- _ParentId: long (nullable = true)\n",
            " |-- _PostTypeId: long (nullable = true)\n",
            " |-- _Score: long (nullable = true)\n",
            " |-- _Tags: string (nullable = true)\n",
            " |-- _Title: string (nullable = true)\n",
            " |-- _ViewCount: long (nullable = true)\n",
            "\n",
            "+-----------------+------------+--------------------+-----------+-------------+--------------------+--------------------+--------------+---+--------------------+--------------------+----------------------+-----------------+-----------------+------------+---------+-----------+------+--------------------+--------------------+----------+\n",
            "|_AcceptedAnswerId|_AnswerCount|               _Body|_ClosedDate|_CommentCount| _CommunityOwnedDate|       _CreationDate|_FavoriteCount|_Id|   _LastActivityDate|       _LastEditDate|_LastEditorDisplayName|_LastEditorUserId|_OwnerDisplayName|_OwnerUserId|_ParentId|_PostTypeId|_Score|               _Tags|              _Title|_ViewCount|\n",
            "+-----------------+------------+--------------------+-----------+-------------+--------------------+--------------------+--------------+---+--------------------+--------------------+----------------------+-----------------+-----------------+------------+---------+-----------+------+--------------------+--------------------+----------+\n",
            "|                7|          13|<p>I want to use ...|       NULL|            2|2012-10-31 16:42:...|2008-07-31 21:42:...|            48|  4|2019-07-19 01:39:...|2019-07-19 01:39:...|                Rich B|          3641067|             NULL|           8|     NULL|          1|   630|<c#><floating-poi...|Convert Decimal t...|     42817|\n",
            "|               31|           6|<p>I have an abso...|       NULL|            0|                NULL|2008-07-31 22:08:...|            10|  6|2019-07-19 01:43:...|2019-07-19 01:43:...|                Rich B|          3641067|             NULL|           9|     NULL|          1|   281|<html><css><inter...|Percentage width ...|     18214|\n",
            "|             NULL|        NULL|<p>An explicit ca...|       NULL|            0|                NULL|2008-07-31 22:17:...|          NULL|  7|2017-12-16 05:06:...|2017-12-16 05:06:...|                  NULL|          4020527|             NULL|           9|        4|          2|   425|                NULL|                NULL|      NULL|\n",
            "|             1404|          63|<p>Given a <code>...|       NULL|            5|2011-08-16 19:40:...|2008-07-31 23:40:...|           436|  9|2019-06-26 15:25:...|2018-04-21 17:48:...|                Rich B|          3956566|             NULL|           1|     NULL|          1|  1742|<c#><.net><datetime>|How do I calculat...|    555183|\n",
            "|             1248|          37|<p>Given a specif...|       NULL|            3|2009-09-04 13:15:...|2008-07-31 23:55:...|           539| 11|2019-05-26 02:31:...|2017-06-04 15:51:...|           user2370523|          6479704|             NULL|           1|     NULL|          1|  1444|<c#><datetime><ti...|Calculate relativ...|    149445|\n",
            "+-----------------+------------+--------------------+-----------+-------------+--------------------+--------------------+--------------+---+--------------------+--------------------+----------------------+-----------------+-----------------+------------+---------+-----------+------+--------------------+--------------------+----------+\n",
            "only showing top 5 rows\n",
            "\n"
          ]
        }
      ]
    },
    {
      "cell_type": "code",
      "source": [
        "if not os.path.exists('programming-languages.csv'):\n",
        "  !wget https://git.ai.ssau.ru/tk/big_data/src/branch/bachelor/data/programming-languages.csv\n",
        "\n",
        "languages_data = spark.read.format('csv') \\\n",
        "    .option('header', 'true') \\\n",
        "    .option(\"inferSchema\", True) \\\n",
        "    .load('programming-languages.csv') \\\n",
        "    .dropna()"
      ],
      "metadata": {
        "id": "taWdNeP1swTD"
      },
      "execution_count": null,
      "outputs": []
    },
    {
      "cell_type": "code",
      "source": [
        "if languages_data.isEmpty():\n",
        "    print(\"DataFrame не содержит данных\")\n",
        "else:\n",
        "    languages_data.printSchema()\n",
        "    languages_data.show(5)"
      ],
      "metadata": {
        "colab": {
          "base_uri": "https://localhost:8080/"
        },
        "id": "pbC6VmGoswHB",
        "outputId": "32f7c98b-be97-4f69-80b1-516eaf153bdc"
      },
      "execution_count": null,
      "outputs": [
        {
          "output_type": "stream",
          "name": "stdout",
          "text": [
            "root\n",
            " |-- name: string (nullable = true)\n",
            " |-- wikipedia_url: string (nullable = true)\n",
            "\n",
            "+----------+--------------------+\n",
            "|      name|       wikipedia_url|\n",
            "+----------+--------------------+\n",
            "|   A# .NET|https://en.wikipe...|\n",
            "|A# (Axiom)|https://en.wikipe...|\n",
            "|A-0 System|https://en.wikipe...|\n",
            "|        A+|https://en.wikipe...|\n",
            "|       A++|https://en.wikipe...|\n",
            "+----------+--------------------+\n",
            "only showing top 5 rows\n",
            "\n"
          ]
        }
      ]
    },
    {
      "cell_type": "code",
      "source": [
        "start_date, end_date = \"2010-01-01\", \"2020-12-31\"\n",
        "posts_filtered = posts_sample_data.filter(col(\"_CreationDate\").between(start_date, end_date))\n",
        "\n",
        "posts_filtered.show(10)"
      ],
      "metadata": {
        "id": "g5ZLL-xylB8y",
        "colab": {
          "base_uri": "https://localhost:8080/"
        },
        "outputId": "919a440b-7118-4300-c267-7044f5e273fe"
      },
      "execution_count": null,
      "outputs": [
        {
          "output_type": "stream",
          "name": "stdout",
          "text": [
            "+-----------------+------------+--------------------+-----------+-------------+--------------------+--------------------+--------------+-------+--------------------+--------------------+----------------------+-----------------+-----------------+------------+---------+-----------+------+-----+------+----------+\n",
            "|_AcceptedAnswerId|_AnswerCount|               _Body|_ClosedDate|_CommentCount| _CommunityOwnedDate|       _CreationDate|_FavoriteCount|    _Id|   _LastActivityDate|       _LastEditDate|_LastEditorDisplayName|_LastEditorUserId|_OwnerDisplayName|_OwnerUserId|_ParentId|_PostTypeId|_Score|_Tags|_Title|_ViewCount|\n",
            "+-----------------+------------+--------------------+-----------+-------------+--------------------+--------------------+--------------+-------+--------------------+--------------------+----------------------+-----------------+-----------------+------------+---------+-----------+------+-----+------+----------+\n",
            "|             NULL|        NULL|<p>No. (And more ...|       NULL|            6|                NULL|2010-09-20 16:18:...|          NULL|3753373|2010-09-20 16:18:...|                NULL|                  NULL|             NULL|             NULL|       10293|  3753364|          2|    13| NULL|  NULL|      NULL|\n",
            "|             NULL|        NULL|<p>I am not aware...|       NULL|            2|                NULL|2010-09-20 18:36:...|          NULL|3754384|2010-09-20 18:43:...|2010-09-20 18:43:...|                  NULL|           140185|             NULL|      140185|  3754279|          2|     2| NULL|  NULL|      NULL|\n",
            "|             NULL|        NULL|<p>If you want a ...|       NULL|            2|                NULL|2010-09-20 19:04:...|          NULL|3754601|2010-09-20 19:04:...|                NULL|                  NULL|             NULL|             NULL|        7280|  3754553|          2|     1| NULL|  NULL|      NULL|\n",
            "|             NULL|        NULL|<p>The very first...|       NULL|            0|                NULL|2010-09-21 02:07:...|          NULL|3756831|2010-09-21 02:07:...|                NULL|                  NULL|             NULL|             NULL|      349130|  3756770|          2|     9| NULL|  NULL|      NULL|\n",
            "|             NULL|        NULL|<p>It seems to me...|       NULL|            3|                NULL|2010-09-21 07:33:...|          NULL|3758183|2010-09-21 07:33:...|                NULL|                  NULL|             NULL|             NULL|       15168|  3754526|          2|     0| NULL|  NULL|      NULL|\n",
            "|             NULL|        NULL|<p>In Django orig...|       NULL|            3|2010-09-21 11:46:...|2010-09-21 11:46:...|          NULL|3759958|2010-09-21 13:40:...|2010-09-21 13:40:...|                  NULL|           377095|             NULL|      377095|  3759524|          2|     1| NULL|  NULL|      NULL|\n",
            "|             NULL|        NULL|<p>You can't. Mic...|       NULL|            0|                NULL|2010-09-21 12:07:...|          NULL|3760101|2010-09-21 12:07:...|                NULL|                  NULL|             NULL|             NULL|      155641|  3760066|          2|     1| NULL|  NULL|      NULL|\n",
            "|             NULL|        NULL|<p>I don't know, ...|       NULL|            0|                NULL|2010-09-21 13:16:...|          NULL|3760630|2010-09-21 13:16:...|                NULL|                  NULL|             NULL|             NULL|      417143|  2739558|          2|     0| NULL|  NULL|      NULL|\n",
            "|             NULL|        NULL|<p>You can't unle...|       NULL|            2|                NULL|2010-09-21 15:09:...|          NULL|3761678|2010-09-21 15:09:...|                NULL|                  NULL|             NULL|             NULL|       77409|  3761429|          2|     2| NULL|  NULL|      NULL|\n",
            "|             NULL|        NULL|<p>Assume your se...|       NULL|            0|                NULL|2010-09-21 16:22:...|          NULL|3762339|2010-09-21 16:22:...|                NULL|                  NULL|             NULL|             NULL|        4280|  3761757|          2|     0| NULL|  NULL|      NULL|\n",
            "+-----------------+------------+--------------------+-----------+-------------+--------------------+--------------------+--------------+-------+--------------------+--------------------+----------------------+-----------------+-----------------+------------+---------+-----------+------+-----+------+----------+\n",
            "only showing top 10 rows\n",
            "\n"
          ]
        }
      ]
    },
    {
      "cell_type": "code",
      "source": [
        "language_names = [row['name'] for row in languages_data.collect()]\n",
        "print(language_names)\n",
        "\n",
        "def includes_name(row):\n",
        "    creation_date = row[\"_CreationDate\"]\n",
        "    tags = str(row[\"_Tags\"]).lower() if row[\"_Tags\"] else \"\"\n",
        "    for name in language_names:\n",
        "        if f\"<{name.lower()}>\" in tags:\n",
        "            return (creation_date, name)\n",
        "    return (creation_date, 'None')"
      ],
      "metadata": {
        "id": "rldZila6mLf3",
        "colab": {
          "base_uri": "https://localhost:8080/"
        },
        "outputId": "9d4412fd-12d8-4ed5-a2a4-03761796852e"
      },
      "execution_count": null,
      "outputs": [
        {
          "output_type": "stream",
          "name": "stdout",
          "text": [
            "['A# .NET', 'A# (Axiom)', 'A-0 System', 'A+', 'A++', 'ABAP', 'ABC', 'ABC ALGOL', 'ABSET', 'ABSYS', 'ACC', 'Accent', 'Ace DASL', 'ACL2', 'ACT-III', 'Action!', 'ActionScript', 'Ada', 'Adenine', 'Agda', 'Agilent VEE', 'Agora', 'AIMMS', 'Alef', 'ALF', 'ALGOL 58', 'ALGOL 60', 'ALGOL 68', 'ALGOL W', 'Alice', 'Alma-0', 'AmbientTalk', 'Amiga E', 'AMOS', 'AMPL', 'Apex (Salesforce.com)', 'APL', \"App Inventor for Android's visual block language\", 'AppleScript', 'Arc', 'ARexx', 'Argus', 'AspectJ', 'Assembly language', 'ATS', 'Ateji PX', 'AutoHotkey', 'Autocoder', 'AutoIt', 'AutoLISP / Visual LISP', 'Averest', 'AWK', 'Axum', 'B', 'Babbage', 'Bash', 'BASIC', 'bc', 'BCPL', 'BeanShell', 'Batch (Windows/Dos)', 'Bertrand', 'BETA', 'Bigwig', 'Bistro', 'BitC', 'BLISS', 'Blockly', 'BlooP', 'Blue', 'Boo', 'Boomerang', 'Bourne shell (including', 'bash and', 'ksh )', 'BREW', 'BPEL', 'C', 'C--', 'C++ – ISO/IEC 14882', 'C# – ISO/IEC 23270', 'C/AL', 'Caché ObjectScript', 'C Shell', 'Caml', 'Cayenne', 'CDuce', 'Cecil', 'Cel', 'Cesil', 'Ceylon', 'CFEngine', 'CFML', 'Cg', 'Ch', 'Chapel', 'CHAIN', 'Charity', 'Charm', 'Chef', 'CHILL', 'CHIP-8', 'chomski', 'ChucK', 'CICS', 'Cilk', 'Citrine (programming language)', 'CL (IBM)', 'Claire', 'Clarion', 'Clean', 'Clipper', 'CLIST', 'Clojure', 'CLU', 'CMS-2', 'COBOL – ISO/IEC 1989', 'Cobra', 'CODE', 'CoffeeScript', 'ColdFusion', 'COMAL', 'Combined Programming Language (CPL)', 'COMIT', 'Common Intermediate Language (CIL)', 'Common Lisp (also known as CL)', 'COMPASS', 'Component Pascal', 'Constraint Handling Rules (CHR)', 'Converge', 'Cool', 'Coq', 'Coral 66', 'Corn', 'CorVision', 'COWSEL', 'CPL', 'Cryptol', 'csh', 'Csound', 'CSP', 'CUDA', 'Curl', 'Curry', 'Cyclone', 'Cython', 'D', \"DASL (Datapoint's Advanced Systems Language)\", 'DASL (Distributed Application Specification Language)', 'Dart', 'DataFlex', 'Datalog', 'DATATRIEVE', 'dBase', 'dc', 'DCL', 'Deesel (formerly G)', 'Delphi', 'DinkC', 'DIBOL', 'Dog', 'Draco', 'DRAKON', 'Dylan', 'DYNAMO', 'E', 'E#', 'Ease', 'Easy PL/I', 'Easy Programming Language', 'EASYTRIEVE PLUS', 'ECMAScript', 'Edinburgh IMP', 'EGL', 'Eiffel', 'ELAN', 'Elixir', 'Elm', 'Emacs Lisp', 'Emerald', 'Epigram', 'EPL', 'Erlang', 'es', 'Escher', 'ESPOL', 'Esterel', 'Etoys', 'Euclid', 'Euler', 'Euphoria', 'EusLisp Robot Programming Language', 'CMS EXEC (EXEC)', 'EXEC 2', 'Executable UML', 'F', 'F#', 'Factor', 'Falcon', 'Fantom', 'FAUST', 'FFP', 'Fjölnir', 'FL', 'Flavors', 'Flex', 'FlooP', 'FLOW-MATIC', 'FOCAL', 'FOCUS', 'FOIL', 'FORMAC', '@Formula', 'Forth', 'Fortran – ISO/IEC 1539', 'Fortress', 'FoxBase', 'FoxPro', 'FP', 'FPr', 'Franz Lisp', 'Frege', 'F-Script', 'G', 'Game Maker Language', 'GameMonkey Script', 'GAMS', 'GAP', 'G-code', 'Genie', 'GDL', 'GJ', 'GEORGE', 'GLSL', 'GNU E', 'GM', 'Go', 'Go!', 'GOAL', 'Gödel', 'Godiva', 'Golo', 'GOM (Good Old Mad)', 'Google Apps Script', 'Gosu', 'GOTRAN', 'GPSS', 'GraphTalk', 'GRASS', 'Groovy', 'Hack', 'HAL/S', 'Hamilton C shell', 'Harbour', 'Hartmann pipelines', 'Haskell', 'Haxe', 'High Level Assembly', 'HLSL', 'Hop', 'Hopscotch', 'Hope', 'Hugo', 'Hume', 'HyperTalk', 'IBM Basic assembly language', 'IBM HAScript', 'IBM Informix-4GL', 'IBM RPG', 'ICI', 'Icon', 'Id', 'IDL', 'Idris', 'IMP', 'Inform', 'Io', 'Ioke', 'IPL', 'IPTSCRAE', 'ISLISP', 'ISPF', 'ISWIM', 'J', 'J#', 'J++', 'JADE', 'Jako', 'JAL', 'Janus (concurrent constraint programming language)', 'Janus (time-reversible computing programming language)', 'JASS', 'Java', 'JavaScript', 'JCL', 'JEAN', 'Join Java', 'JOSS', 'Joule', 'JOVIAL', 'Joy', 'JScript', 'JScript .NET', 'JavaFX Script', 'Julia', 'Jython', 'K', 'Kaleidoscope', 'Karel', 'Karel++', 'KEE', 'Kixtart', 'Klerer-May System', 'KIF', 'Kojo', 'Kotlin', 'KRC', 'KRL', 'KUKA Robot Language)', 'KRYPTON', 'ksh', 'L', 'L# .NET', 'LabVIEW', 'Ladder', 'Lagoona', 'LANSA', 'Lasso', 'LaTeX', 'Lava', 'LC-3', 'Leda', 'Legoscript', 'LIL', 'LilyPond', 'Limbo', 'Limnor', 'LINC', 'Lingo', 'LIS', 'LISA', 'Lisaac', 'Lisp – ISO/IEC 13816', 'Lite-C', 'Lithe', 'Little b', 'Logo', 'Logtalk', 'LotusScript', 'LPC', 'LSE', 'LSL', 'LiveCode', 'LiveScript', 'Lua', 'Lucid', 'Lustre', 'LYaPAS', 'Lynx', 'M2001', 'M4', 'M#', 'Machine code', 'MAD (Michigan Algorithm Decoder)', 'MAD/I', 'Magik', 'Magma', 'make', 'Maple', 'MAPPER now part of BIS', 'MARK-IV now VISION:BUILDER', 'Mary', 'MASM Microsoft Assembly x86', 'MATH-MATIC', 'Mathematica', 'MATLAB', 'Maxima (see also', 'Macsyma )', 'Max (Max Msp – Graphical Programming Environment)', 'MaxScript internal language 3D Studio Max', 'Maya (MEL)', 'MDL', 'Mercury', 'Mesa', 'Metacard', 'Metafont', 'Microcode', 'MicroScript', 'MIIS', 'MillScript', 'MIMIC', 'Mirah', 'Miranda', 'MIVA Script', 'ML', 'Moby', 'Model 204', 'Modelica', 'Modula', 'Modula-2', 'Modula-3', 'Mohol', 'MOO', 'Mortran', 'Mouse', 'MPD', 'CIL', 'MSL', 'MUMPS', 'Mystic Programming Language (MPL)', 'NASM', 'Napier88', 'Neko', 'Nemerle', 'nesC', 'NESL', 'Net.Data', 'NetLogo', 'NetRexx', 'NewLISP', 'NEWP', 'Newspeak', 'NewtonScript', 'NGL', 'Nial', 'Nice', 'Nickle', 'Nim', 'NPL', 'Not eXactly C (NXC)', 'Not Quite C (NQC)', 'NSIS', 'Nu', 'NWScript', 'NXT-G', 'o:XML', 'Oak', 'Oberon', 'OBJ2', 'Object Lisp', 'ObjectLOGO', 'Object REXX', 'Object Pascal', 'Objective-C', 'Objective-J', 'Obliq', 'OCaml', 'occam', 'occam-π', 'Octave', 'OmniMark', 'Onyx', 'Opa', 'Opal', 'OpenCL', 'OpenEdge ABL', 'OPL', 'OPS5', 'OptimJ', 'Orc', 'ORCA/Modula-2', 'Oriel', 'Orwell', 'Oxygene', 'Oz', 'P′′', 'P#', 'ParaSail (programming language)', 'PARI/GP', 'Pascal – ISO 7185', 'PCASTL', 'PCF', 'PEARL', 'PeopleCode', 'Perl', 'PDL', 'Perl6', 'Pharo', 'PHP', 'Phrogram', 'Pico', 'Picolisp', 'Pict', 'Pike', 'PIKT', 'PILOT', 'Pipelines', 'Pizza', 'PL-11', 'PL/0', 'PL/B', 'PL/C', 'PL/I – ISO 6160', 'PL/M', 'PL/P', 'PL/SQL', 'PL360', 'PLANC', 'Plankalkül', 'Planner', 'PLEX', 'PLEXIL', 'Plus', 'POP-11', 'PostScript', 'PortablE', 'Powerhouse', 'PowerBuilder – 4GL GUI applcation generator from Sybase', 'PowerShell', 'PPL', 'Processing', 'Processing.js', 'Prograph', 'PROIV', 'Prolog', 'PROMAL', 'Promela', 'PROSE modeling language', 'PROTEL', 'ProvideX', 'Pro*C', 'Pure', 'Python', 'Q (equational programming language)', 'Q (programming language from Kx Systems)', 'Qalb', 'QtScript', 'QuakeC', 'QPL', 'R', 'R++', 'Racket', 'RAPID', 'Rapira', 'Ratfiv', 'Ratfor', 'rc', 'REBOL', 'Red', 'Redcode', 'REFAL', 'Reia', 'Revolution', 'REXX', 'Rlab', 'ROOP', 'RPG', 'RPL', 'RSL', 'RTL/2', 'Ruby', 'RuneScript', 'Rust', 'S', 'S2', 'S3', 'S-Lang', 'S-PLUS', 'SA-C', 'SabreTalk', 'SAIL', 'SALSA', 'SAM76', 'SAS', 'SASL', 'Sather', 'Sawzall', 'SBL', 'Scala', 'Scheme', 'Scilab', 'Scratch', 'Script.NET', 'Sed', 'Seed7', 'Self', 'SenseTalk', 'SequenceL', 'SETL', 'SIMPOL', 'SIGNAL', 'SiMPLE', 'SIMSCRIPT', 'Simula', 'Simulink', 'SISAL', 'SLIP', 'SMALL', 'Smalltalk', 'Small Basic', 'SML', 'Snap!', 'SNOBOL (', 'SPITBOL )', 'Snowball', 'SOL', 'Span', 'SPARK', 'Speedcode', 'SPIN', 'SP/k', 'SPS', 'SQR', 'Squeak', 'Squirrel', 'SR', 'S/SL', 'Stackless Python', 'Starlogo', 'Strand', 'Stata', 'Stateflow', 'Subtext', 'SuperCollider', 'SuperTalk', 'Swift (Apple programming language)', 'Swift (parallel scripting language)', 'SYMPL', 'SyncCharts', 'SystemVerilog', 'T', 'TACL', 'TACPOL', 'TADS', 'TAL', 'Tcl', 'Tea', 'TECO', 'TELCOMP', 'TeX', 'TEX', 'TIE', 'Timber', 'TMG , compiler-compiler', 'Tom', 'TOM', 'TouchDevelop', 'Topspeed', 'TPU', 'Trac', 'TTM', 'T-SQL', 'TTCN', 'Turing', 'TUTOR', 'TXL', 'TypeScript', 'Turbo C++', 'Ubercode', 'UCSD Pascal', 'Umple', 'Unicon', 'Uniface', 'UNITY', 'Unix shell', 'UnrealScript', 'Vala', 'Visual DataFlex', 'Visual DialogScript', 'Visual Fortran', 'Visual FoxPro', 'Visual J++', 'Visual J#', 'Visual Objects', 'Visual Prolog', 'VSXu', 'vvvv', 'WATFIV, WATFOR', 'WebDNA', 'WebQL', 'Whiley', 'Windows PowerShell', 'Winbatch', 'Wolfram Language', 'Wyvern', 'X++', 'X#', 'X10', 'XBL', 'XC (exploits', 'XMOS architecture )', 'xHarbour', 'XL', 'Xojo', 'XOTcl', 'XPL', 'XPL0', 'XQuery', 'XSB', 'XSLT – see', 'XPath', 'Xtend', 'Yorick', 'YQL', 'Z notation', 'Zeno', 'ZOPL', 'Zsh', 'ZPL']\n"
          ]
        }
      ]
    },
    {
      "cell_type": "code",
      "source": [
        "posts_filtered_rdd = posts_filtered.rdd \\\n",
        "    .map(includes_name) \\\n",
        "    .filter(lambda x: x[1] != 'None')\n",
        "\n",
        "posts_aggregate = posts_filtered_rdd \\\n",
        "    .keyBy(lambda row: (row[0].year, row[1])) \\\n",
        "    .aggregateByKey(0, lambda x, _: x + 1, lambda x1, x2: x1 + x2) \\\n",
        "    .sortBy(lambda x: x[1], ascending=False) \\\n",
        "    .collect()\n",
        "\n",
        "years = list(range(2010, 2021))\n",
        "years_df = []\n",
        "\n",
        "for year in years:\n",
        "    first_languages = [row for row in posts_aggregate if row[0][0] == year][:10]\n",
        "    years_df.extend(first_languages)\n",
        "\n",
        "row_name = Row('Year', 'Language', 'Count')\n",
        "result_df = spark.createDataFrame([\n",
        "    row_name(year, lang, count) for ((year, lang), count) in years_df\n",
        "])\n",
        "\n",
        "result_df.show(100 ,truncate=False)\n",
        "result_df.write.mode(\"overwrite\").parquet(\"result_lang.parquet\")"
      ],
      "metadata": {
        "id": "TnCRxqJ7mL4j",
        "colab": {
          "base_uri": "https://localhost:8080/"
        },
        "outputId": "0ba9ce46-2da8-41df-8525-984efc951308"
      },
      "execution_count": null,
      "outputs": [
        {
          "output_type": "stream",
          "name": "stdout",
          "text": [
            "+----+-----------+-----+\n",
            "|Year|Language   |Count|\n",
            "+----+-----------+-----+\n",
            "|2010|Java       |52   |\n",
            "|2010|JavaScript |44   |\n",
            "|2010|PHP        |42   |\n",
            "|2010|Python     |25   |\n",
            "|2010|Objective-C|23   |\n",
            "|2010|C          |20   |\n",
            "|2010|Ruby       |11   |\n",
            "|2010|Delphi     |7    |\n",
            "|2010|R          |3    |\n",
            "|2010|AppleScript|3    |\n",
            "|2011|PHP        |97   |\n",
            "|2011|Java       |92   |\n",
            "|2011|JavaScript |82   |\n",
            "|2011|Python     |35   |\n",
            "|2011|Objective-C|33   |\n",
            "|2011|C          |24   |\n",
            "|2011|Ruby       |17   |\n",
            "|2011|Delphi     |8    |\n",
            "|2011|Perl       |8    |\n",
            "|2011|Bash       |7    |\n",
            "|2012|PHP        |136  |\n",
            "|2012|JavaScript |129  |\n",
            "|2012|Java       |124  |\n",
            "|2012|Python     |65   |\n",
            "|2012|Objective-C|45   |\n",
            "|2012|C          |27   |\n",
            "|2012|Ruby       |25   |\n",
            "|2012|R          |9    |\n",
            "|2012|Bash       |9    |\n",
            "|2012|MATLAB     |6    |\n",
            "|2013|JavaScript |196  |\n",
            "|2013|Java       |191  |\n",
            "|2013|PHP        |173  |\n",
            "|2013|Python     |87   |\n",
            "|2013|Objective-C|40   |\n",
            "|2013|C          |36   |\n",
            "|2013|Ruby       |30   |\n",
            "|2013|R          |25   |\n",
            "|2013|Bash       |11   |\n",
            "|2013|Scala      |10   |\n",
            "|2014|JavaScript |235  |\n",
            "|2014|Java       |228  |\n",
            "|2014|PHP        |154  |\n",
            "|2014|Python     |103  |\n",
            "|2014|C          |52   |\n",
            "|2014|Objective-C|49   |\n",
            "|2014|R          |28   |\n",
            "|2014|Ruby       |20   |\n",
            "|2014|MATLAB     |16   |\n",
            "|2014|Bash       |13   |\n",
            "|2015|JavaScript |270  |\n",
            "|2015|Java       |208  |\n",
            "|2015|PHP        |147  |\n",
            "|2015|Python     |119  |\n",
            "|2015|R          |43   |\n",
            "|2015|C          |38   |\n",
            "|2015|Objective-C|30   |\n",
            "|2015|Ruby       |21   |\n",
            "|2015|MATLAB     |16   |\n",
            "|2015|Scala      |13   |\n",
            "|2016|JavaScript |272  |\n",
            "|2016|Java       |179  |\n",
            "|2016|Python     |141  |\n",
            "|2016|PHP        |126  |\n",
            "|2016|R          |50   |\n",
            "|2016|C          |32   |\n",
            "|2016|Ruby       |21   |\n",
            "|2016|Bash       |16   |\n",
            "|2016|Scala      |16   |\n",
            "|2016|MATLAB     |15   |\n",
            "|2017|JavaScript |244  |\n",
            "|2017|Java       |204  |\n",
            "|2017|Python     |185  |\n",
            "|2017|PHP        |122  |\n",
            "|2017|R          |53   |\n",
            "|2017|C          |24   |\n",
            "|2017|Objective-C|19   |\n",
            "|2017|Ruby       |16   |\n",
            "|2017|TypeScript |14   |\n",
            "|2017|PowerShell |14   |\n",
            "|2018|Python     |214  |\n",
            "|2018|JavaScript |196  |\n",
            "|2018|Java       |145  |\n",
            "|2018|PHP        |99   |\n",
            "|2018|R          |63   |\n",
            "|2018|C          |24   |\n",
            "|2018|Scala      |22   |\n",
            "|2018|TypeScript |21   |\n",
            "|2018|PowerShell |13   |\n",
            "|2018|Bash       |12   |\n",
            "|2019|Python     |162  |\n",
            "|2019|JavaScript |131  |\n",
            "|2019|Java       |95   |\n",
            "|2019|PHP        |59   |\n",
            "|2019|R          |36   |\n",
            "|2019|C          |14   |\n",
            "|2019|Dart       |9    |\n",
            "|2019|MATLAB     |9    |\n",
            "|2019|Go         |9    |\n",
            "|2019|Bash       |8    |\n",
            "+----+-----------+-----+\n",
            "\n"
          ]
        }
      ]
    }
  ]
}