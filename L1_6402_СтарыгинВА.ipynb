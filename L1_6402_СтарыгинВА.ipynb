{
  "nbformat": 4,
  "nbformat_minor": 0,
  "metadata": {
    "colab": {
      "provenance": [],
      "authorship_tag": "ABX9TyPZKA0H5pWM2suyAPWZMr5b",
      "include_colab_link": true
    },
    "kernelspec": {
      "name": "python3",
      "display_name": "Python 3"
    },
    "language_info": {
      "name": "python"
    }
  },
  "cells": [
    {
      "cell_type": "markdown",
      "metadata": {
        "id": "view-in-github",
        "colab_type": "text"
      },
      "source": [
        "<a href=\"https://colab.research.google.com/github/vitalikx100/big_data/blob/master/L1_6402_%D0%A1%D1%82%D0%B0%D1%80%D1%8B%D0%B3%D0%B8%D0%BD%D0%92%D0%90.ipynb\" target=\"_parent\"><img src=\"https://colab.research.google.com/assets/colab-badge.svg\" alt=\"Open In Colab\"/></a>"
      ]
    },
    {
      "cell_type": "code",
      "execution_count": 157,
      "metadata": {
        "id": "BB4chjUHGbwr"
      },
      "outputs": [],
      "source": [
        "from pyspark.sql import SparkSession\n",
        "from pyspark.sql.functions import col, max, sqrt, pow, radians, sin, cos, asin, sum as func_sum\n",
        "\n",
        "spark = SparkSession.builder.appName(\"L1_Analysis\").getOrCreate()"
      ]
    },
    {
      "cell_type": "markdown",
      "source": [
        "1. Найти велосипед с максимальным временем пробега."
      ],
      "metadata": {
        "id": "nwAZ0OfUlcur"
      }
    },
    {
      "cell_type": "code",
      "source": [
        "tripData = spark.read\\\n",
        ".option(\"header\", True)\\\n",
        ".option(\"inferSchema\", True)\\\n",
        ".option(\"timestampFormat\", 'M/d/y H:m')\\\n",
        ".csv(\"L1_csv_data/trip.csv\")\n",
        "\n",
        "tripData.printSchema()\n",
        "tripData.show(n=5)"
      ],
      "metadata": {
        "colab": {
          "base_uri": "https://localhost:8080/"
        },
        "id": "BzHruyYB17Ia",
        "outputId": "756d6725-f250-4ddb-b011-bc1807770927"
      },
      "execution_count": 158,
      "outputs": [
        {
          "output_type": "stream",
          "name": "stdout",
          "text": [
            "root\n",
            " |-- id: integer (nullable = true)\n",
            " |-- duration: integer (nullable = true)\n",
            " |-- start_date: timestamp (nullable = true)\n",
            " |-- start_station_name: string (nullable = true)\n",
            " |-- start_station_id: integer (nullable = true)\n",
            " |-- end_date: timestamp (nullable = true)\n",
            " |-- end_station_name: string (nullable = true)\n",
            " |-- end_station_id: integer (nullable = true)\n",
            " |-- bike_id: integer (nullable = true)\n",
            " |-- subscription_type: string (nullable = true)\n",
            " |-- zip_code: string (nullable = true)\n",
            "\n",
            "+----+--------+-------------------+--------------------+----------------+-------------------+--------------------+--------------+-------+-----------------+--------+\n",
            "|  id|duration|         start_date|  start_station_name|start_station_id|           end_date|    end_station_name|end_station_id|bike_id|subscription_type|zip_code|\n",
            "+----+--------+-------------------+--------------------+----------------+-------------------+--------------------+--------------+-------+-----------------+--------+\n",
            "|4576|      63|2013-08-29 14:13:00|South Van Ness at...|              66|2013-08-29 14:14:00|South Van Ness at...|            66|    520|       Subscriber|   94127|\n",
            "|4607|      70|2013-08-29 14:42:00|  San Jose City Hall|              10|2013-08-29 14:43:00|  San Jose City Hall|            10|    661|       Subscriber|   95138|\n",
            "|4130|      71|2013-08-29 10:16:00|Mountain View Cit...|              27|2013-08-29 10:17:00|Mountain View Cit...|            27|     48|       Subscriber|   97214|\n",
            "|4251|      77|2013-08-29 11:29:00|  San Jose City Hall|              10|2013-08-29 11:30:00|  San Jose City Hall|            10|     26|       Subscriber|   95060|\n",
            "|4299|      83|2013-08-29 12:02:00|South Van Ness at...|              66|2013-08-29 12:04:00|      Market at 10th|            67|    319|       Subscriber|   94103|\n",
            "+----+--------+-------------------+--------------------+----------------+-------------------+--------------------+--------------+-------+-----------------+--------+\n",
            "only showing top 5 rows\n",
            "\n"
          ]
        }
      ]
    },
    {
      "cell_type": "code",
      "source": [
        "max_duration_trip = (\n",
        "    tripData.groupBy(\"bike_id\")\n",
        "    .agg(max(col(\"duration\")).alias(\"max_duration\"))\n",
        "    .orderBy(col(\"max_duration\").desc())\n",
        ")\n",
        "\n",
        "max_duration_trip.show(n=1)"
      ],
      "metadata": {
        "colab": {
          "base_uri": "https://localhost:8080/"
        },
        "id": "aivvj12EdnQP",
        "outputId": "caf868b7-3d26-4267-b931-826da8f676ef"
      },
      "execution_count": 159,
      "outputs": [
        {
          "output_type": "stream",
          "name": "stdout",
          "text": [
            "+-------+------------+\n",
            "|bike_id|max_duration|\n",
            "+-------+------------+\n",
            "|    535|    17270400|\n",
            "+-------+------------+\n",
            "only showing top 1 row\n",
            "\n"
          ]
        }
      ]
    },
    {
      "cell_type": "markdown",
      "source": [
        "2. Найти наибольшее геодезическое расстояние между станциями."
      ],
      "metadata": {
        "id": "0_fncoGNmW5f"
      }
    },
    {
      "cell_type": "code",
      "source": [
        "stationData = spark.read\\\n",
        ".option(\"header\", True)\\\n",
        ".option(\"inferSchema\", True)\\\n",
        ".option(\"timestampFormat\", 'M/d/y')\\\n",
        ".csv(\"L1_csv_data/station.csv\")\n",
        "\n",
        "stationData.printSchema()\n",
        "stationData.show(n=5)"
      ],
      "metadata": {
        "colab": {
          "base_uri": "https://localhost:8080/"
        },
        "id": "bWZWWUJI1-gm",
        "outputId": "14c6b4f1-59eb-45c4-945f-268c4db70c2b"
      },
      "execution_count": 160,
      "outputs": [
        {
          "output_type": "stream",
          "name": "stdout",
          "text": [
            "root\n",
            " |-- id: integer (nullable = true)\n",
            " |-- name: string (nullable = true)\n",
            " |-- lat: double (nullable = true)\n",
            " |-- long: double (nullable = true)\n",
            " |-- dock_count: integer (nullable = true)\n",
            " |-- city: string (nullable = true)\n",
            " |-- installation_date: timestamp (nullable = true)\n",
            "\n",
            "+---+--------------------+------------------+-------------------+----------+--------+-------------------+\n",
            "| id|                name|               lat|               long|dock_count|    city|  installation_date|\n",
            "+---+--------------------+------------------+-------------------+----------+--------+-------------------+\n",
            "|  2|San Jose Diridon ...|         37.329732|-121.90178200000001|        27|San Jose|2013-08-06 00:00:00|\n",
            "|  3|San Jose Civic Ce...|         37.330698|        -121.888979|        15|San Jose|2013-08-05 00:00:00|\n",
            "|  4|Santa Clara at Al...|         37.333988|        -121.894902|        11|San Jose|2013-08-06 00:00:00|\n",
            "|  5|    Adobe on Almaden|         37.331415|          -121.8932|        19|San Jose|2013-08-05 00:00:00|\n",
            "|  6|    San Pedro Square|37.336721000000004|        -121.894074|        15|San Jose|2013-08-07 00:00:00|\n",
            "+---+--------------------+------------------+-------------------+----------+--------+-------------------+\n",
            "only showing top 5 rows\n",
            "\n"
          ]
        }
      ]
    },
    {
      "cell_type": "code",
      "source": [
        "#Радиус Земли в километрах\n",
        "R = 6371.0\n",
        "\n",
        "#Преобразование координат в радианы\n",
        "stationData_columns_radians = stationData.withColumn(\"lat_rad\", radians(col(\"lat\"))).withColumn(\"long_rad\", radians(col(\"long\")))\n",
        "\n",
        "stations_crossJoin = stationData_columns_radians.alias(\"s1\").crossJoin(stationData_columns_radians.alias(\"s2\"))\n",
        "\n",
        "#Haversine formula\n",
        "sqrt_expression = pow(sin((col(\"s2.lat_rad\") - col(\"s1.lat_rad\")) / 2), 2) + cos(col(\"s1.lat_rad\")) * cos(col(\"s2.lat_rad\")) * pow(sin((col(\"s2.long_rad\") - col(\"s1.long_rad\")) / 2), 2)\n",
        "d = 2 * R * asin(sqrt(sqrt_expression))\n",
        "\n",
        "stations_crossJoin_distance = stations_crossJoin.withColumn(\"distance\", d)\n",
        "\n",
        "max_distance = stations_crossJoin_distance.select(\n",
        "    col(\"s1.name\").alias(\"station_1\"),\n",
        "    col(\"s2.name\").alias(\"station_2\"),\n",
        "    col(\"distance\")\n",
        ").orderBy(col(\"distance\").desc())\n",
        "\n",
        "print(\"Станции с наибольшим расстоянием:\")\n",
        "max_distance.show(1, truncate=False)"
      ],
      "metadata": {
        "colab": {
          "base_uri": "https://localhost:8080/"
        },
        "id": "S98ZX6G0maQ8",
        "outputId": "53d23c7c-1a25-4659-a191-4ae24c9f9994"
      },
      "execution_count": 161,
      "outputs": [
        {
          "output_type": "stream",
          "name": "stdout",
          "text": [
            "Станции с наибольшим расстоянием:\n",
            "+--------------------------+----------------------+-----------------+\n",
            "|station_1                 |station_2             |distance         |\n",
            "+--------------------------+----------------------+-----------------+\n",
            "|SJSU - San Salvador at 9th|Embarcadero at Sansome|69.92087595428183|\n",
            "+--------------------------+----------------------+-----------------+\n",
            "only showing top 1 row\n",
            "\n"
          ]
        }
      ]
    },
    {
      "cell_type": "markdown",
      "source": [
        "3. Найти путь велосипеда с максимальным временем пробега через станции."
      ],
      "metadata": {
        "id": "jFlbsRk61kkK"
      }
    },
    {
      "cell_type": "code",
      "source": [
        "bike_id_max = max_duration_trip.first()[\"bike_id\"]\n",
        "print(f\"ID велосипеда с максимальным временем пробега: {bike_id_max}\")\n",
        "\n",
        "#Фильтруем поездки только для этого велосипеда и сортируем их по времени начала\n",
        "longest_bike_trips = (\n",
        "    tripData.filter(col(\"bike_id\") == bike_id_max)\n",
        "    .orderBy(col(\"start_date\"))\n",
        ")\n",
        "\n",
        "#Выбираем только id начальной и конечной станции\n",
        "result_df = longest_bike_trips.select(\"start_station_id\", \"end_station_id\")\n",
        "\n",
        "result_df.show(n=200)"
      ],
      "metadata": {
        "colab": {
          "base_uri": "https://localhost:8080/"
        },
        "id": "dVHKI5nF1ojq",
        "outputId": "ae621b42-c4c2-4c39-84fe-72399346fe31"
      },
      "execution_count": 162,
      "outputs": [
        {
          "output_type": "stream",
          "name": "stdout",
          "text": [
            "ID велосипеда с максимальным временем пробега: 535\n",
            "+----------------+--------------+\n",
            "|start_station_id|end_station_id|\n",
            "+----------------+--------------+\n",
            "|              47|            70|\n",
            "|              70|            69|\n",
            "|              69|            77|\n",
            "|              77|            64|\n",
            "|              61|            42|\n",
            "|              58|            72|\n",
            "|              72|            47|\n",
            "|              47|            60|\n",
            "|              60|            46|\n",
            "|              46|            77|\n",
            "|              77|            77|\n",
            "|              77|            62|\n",
            "|              62|            61|\n",
            "|              55|            61|\n",
            "|              61|            60|\n",
            "|              60|            41|\n",
            "|              41|            50|\n",
            "|              50|            41|\n",
            "|              41|            70|\n",
            "|              70|            74|\n",
            "|              74|            61|\n",
            "|              61|            50|\n",
            "|              50|            65|\n",
            "|              65|            70|\n",
            "|              69|            69|\n",
            "|              69|            65|\n",
            "|              74|            70|\n",
            "|              70|            64|\n",
            "|              64|            57|\n",
            "|              47|            69|\n",
            "|              62|            75|\n",
            "|              75|            71|\n",
            "|              71|            71|\n",
            "|              71|            57|\n",
            "|              71|            75|\n",
            "|              75|            76|\n",
            "|              76|            67|\n",
            "|              67|            70|\n",
            "|              70|            72|\n",
            "|              72|            56|\n",
            "|              56|            59|\n",
            "|              59|            57|\n",
            "|              57|            70|\n",
            "|              65|            70|\n",
            "|              70|            75|\n",
            "|              75|            67|\n",
            "|              67|            76|\n",
            "|              76|            70|\n",
            "|              69|            57|\n",
            "|              69|            50|\n",
            "|              50|            39|\n",
            "|              39|            58|\n",
            "|              58|            57|\n",
            "|              57|            67|\n",
            "|              67|            69|\n",
            "|              69|            65|\n",
            "|              65|            70|\n",
            "|              70|            74|\n",
            "|              74|            61|\n",
            "|              61|            74|\n",
            "|              74|            61|\n",
            "|              61|            69|\n",
            "|              69|            65|\n",
            "|              65|            55|\n",
            "|              55|            41|\n",
            "|              41|            49|\n",
            "|              49|            64|\n",
            "|              64|            62|\n",
            "|              62|            42|\n",
            "|              58|            56|\n",
            "|              56|            39|\n",
            "|              48|            74|\n",
            "|              74|            69|\n",
            "|              45|            76|\n",
            "|              76|            77|\n",
            "|              70|            55|\n",
            "|              55|            49|\n",
            "|              49|            75|\n",
            "|              75|            42|\n",
            "|              42|            48|\n",
            "|              48|            70|\n",
            "|              70|            50|\n",
            "|              50|            76|\n",
            "|              76|            69|\n",
            "|              69|            39|\n",
            "|              39|            72|\n",
            "|              68|            65|\n",
            "|              65|            68|\n",
            "|              68|            70|\n",
            "|              64|            58|\n",
            "|              58|            70|\n",
            "|              70|            72|\n",
            "|              76|            48|\n",
            "|              48|            70|\n",
            "|              48|            60|\n",
            "|              60|            48|\n",
            "|              48|            55|\n",
            "|              55|            68|\n",
            "|              68|            49|\n",
            "|              49|            72|\n",
            "|              46|            46|\n",
            "|              46|            60|\n",
            "|              60|            46|\n",
            "|              46|            77|\n",
            "|              77|            55|\n",
            "|              55|            70|\n",
            "|              61|            60|\n",
            "|              60|            74|\n",
            "|              74|            60|\n",
            "|              73|            77|\n",
            "|              77|            67|\n",
            "|              72|            65|\n",
            "|              65|            70|\n",
            "|              70|            68|\n",
            "|              68|            69|\n",
            "|              62|            76|\n",
            "|              76|            70|\n",
            "|              70|            62|\n",
            "|              62|            64|\n",
            "|              64|            49|\n",
            "|              49|            46|\n",
            "|              46|            60|\n",
            "|              60|            41|\n",
            "|              41|            74|\n",
            "|              60|            70|\n",
            "|              63|            70|\n",
            "|              63|            64|\n",
            "|              54|            74|\n",
            "|              74|            61|\n",
            "|              61|            51|\n",
            "|              51|            70|\n",
            "|              70|            54|\n",
            "|              54|            65|\n",
            "|              54|            60|\n",
            "|              60|            50|\n",
            "|              50|            57|\n",
            "|              57|            70|\n",
            "|              62|            77|\n",
            "|              70|            67|\n",
            "|              67|            65|\n",
            "|              65|            70|\n",
            "|              70|            63|\n",
            "|              63|            55|\n",
            "|              55|            59|\n",
            "|              59|            74|\n",
            "|              74|            48|\n",
            "|              48|            74|\n",
            "|              74|            64|\n",
            "|              64|            55|\n",
            "|              55|            60|\n",
            "|              60|            56|\n",
            "|              56|            49|\n",
            "|              49|            45|\n",
            "|              45|            67|\n",
            "|              67|            70|\n",
            "|              61|            65|\n",
            "|              54|            69|\n",
            "|              69|            63|\n",
            "|              63|            54|\n",
            "|              54|            54|\n",
            "|              54|            76|\n",
            "|              76|            50|\n",
            "|              50|            72|\n",
            "|              72|            70|\n",
            "|              70|            74|\n",
            "|              74|            49|\n",
            "|              49|            69|\n",
            "|              69|            49|\n",
            "|              49|            61|\n",
            "|              61|            50|\n",
            "|              50|            54|\n",
            "|              54|            42|\n",
            "|              42|            65|\n",
            "|              65|            76|\n",
            "|              76|            70|\n",
            "|              70|            48|\n",
            "|              73|            77|\n",
            "|              77|            60|\n",
            "|              60|            39|\n",
            "|              69|            70|\n",
            "|              62|            56|\n",
            "|              56|            55|\n",
            "|              55|            73|\n",
            "|              62|            55|\n",
            "|              55|            70|\n",
            "|              70|            60|\n",
            "|              60|            74|\n",
            "|              74|            61|\n",
            "|              61|            63|\n",
            "|              63|            71|\n",
            "|              71|            60|\n",
            "|              56|            46|\n",
            "|              46|            60|\n",
            "|              42|            60|\n",
            "|              71|            59|\n",
            "|              59|            59|\n",
            "|              59|            45|\n",
            "|              54|            75|\n",
            "|              75|            70|\n",
            "|              70|            50|\n",
            "+----------------+--------------+\n",
            "only showing top 200 rows\n",
            "\n"
          ]
        }
      ]
    },
    {
      "cell_type": "markdown",
      "source": [
        "4. Найти количество велосипедов в системе."
      ],
      "metadata": {
        "id": "S-w3iWIb9X-g"
      }
    },
    {
      "cell_type": "code",
      "source": [
        "print(f\"Количество велосипедов в системе: {max_duration_trip.count()}\")"
      ],
      "metadata": {
        "colab": {
          "base_uri": "https://localhost:8080/"
        },
        "id": "Y-6lzJfq9buu",
        "outputId": "0b98bbab-748a-448d-ba63-adaac7a10947"
      },
      "execution_count": 163,
      "outputs": [
        {
          "output_type": "stream",
          "name": "stdout",
          "text": [
            "Количество велосипедов в системе: 700\n"
          ]
        }
      ]
    },
    {
      "cell_type": "markdown",
      "source": [
        "5. Найти пользователей потративших на поездки более 3 часов."
      ],
      "metadata": {
        "id": "C9lchu5E_rXG"
      }
    },
    {
      "cell_type": "code",
      "source": [
        "output_filtered = (\n",
        "    tripData\n",
        "    .groupBy(\"zip_code\")\n",
        "    .agg(func_sum(col(\"duration\")).alias(\"total_duration\"))\n",
        ")\n",
        "\n",
        "output_filtered = output_filtered.filter(col(\"total_duration\") >= (60 * 60 * 3)).orderBy(col(\"total_duration\"))\n",
        "\n",
        "output_filtered.show(n=100)"
      ],
      "metadata": {
        "colab": {
          "base_uri": "https://localhost:8080/"
        },
        "id": "u6Geruwc_un4",
        "outputId": "14cb0397-0351-48bf-cb5b-ad7f972b128d"
      },
      "execution_count": 164,
      "outputs": [
        {
          "output_type": "stream",
          "name": "stdout",
          "text": [
            "+----------+--------------+\n",
            "|  zip_code|total_duration|\n",
            "+----------+--------------+\n",
            "|     48154|         10800|\n",
            "|      7407|         10807|\n",
            "|     45750|         10821|\n",
            "|      1486|         10825|\n",
            "|     29650|         10833|\n",
            "|     64152|         10841|\n",
            "|     91020|         10848|\n",
            "|     61828|         10851|\n",
            "|      2332|         10856|\n",
            "|     80227|         10861|\n",
            "|     34689|         10873|\n",
            "|     60126|         10876|\n",
            "|     36854|         10908|\n",
            "|     75211|         10912|\n",
            "|     26101|         10917|\n",
            "|     96740|         10922|\n",
            "|     15218|         10926|\n",
            "|     95938|         10928|\n",
            "|     23336|         10931|\n",
            "|       292|         10938|\n",
            "|     98611|         10946|\n",
            "|      1609|         10952|\n",
            "|     20024|         10955|\n",
            "|      6035|         10964|\n",
            "|     90742|         10965|\n",
            "|      2617|         10968|\n",
            "|      7087|         10968|\n",
            "|     23510|         10972|\n",
            "|     21029|         10979|\n",
            "|     84094|         10981|\n",
            "|     34108|         10983|\n",
            "|     93635|         10985|\n",
            "|      7031|         10994|\n",
            "|     70769|         11001|\n",
            "|     80552|         11007|\n",
            "|     95004|         11011|\n",
            "|     55316|         11013|\n",
            "|     75028|         11014|\n",
            "|     30028|         11022|\n",
            "|     23888|         11026|\n",
            "|     81675|         11029|\n",
            "|     95614|         11031|\n",
            "|      7718|         11037|\n",
            "|5107721421|         11043|\n",
            "|     38127|         11044|\n",
            "|     24502|         11063|\n",
            "|     81669|         11071|\n",
            "|     44113|         11072|\n",
            "|     98028|         11074|\n",
            "|     62226|         11076|\n",
            "|     41501|         11083|\n",
            "|      1886|         11090|\n",
            "|      8861|         11096|\n",
            "|     90262|         11099|\n",
            "|     98685|         11100|\n",
            "|     19355|         11107|\n",
            "|     43207|         11115|\n",
            "|     35209|         11122|\n",
            "|      7604|         11132|\n",
            "|     33011|         11141|\n",
            "|     87015|         11160|\n",
            "|     44690|         11164|\n",
            "|     89145|         11165|\n",
            "|     56072|         11167|\n",
            "|     55106|         11173|\n",
            "|      7075|         11181|\n",
            "|     65616|         11183|\n",
            "|     21210|         11188|\n",
            "|     95991|         11189|\n",
            "|     42071|         11191|\n",
            "|     10524|         11198|\n",
            "|     28017|         11202|\n",
            "|     11779|         11203|\n",
            "|     86753|         11209|\n",
            "|     51899|         11212|\n",
            "|     28303|         11226|\n",
            "|     80000|         11227|\n",
            "|     60076|         11241|\n",
            "|     10306|         11241|\n",
            "|     34786|         11243|\n",
            "|     97408|         11243|\n",
            "|     90732|         11243|\n",
            "|     52788|         11247|\n",
            "|     85286|         11251|\n",
            "|      8510|         11271|\n",
            "|      9107|         11281|\n",
            "|      9387|         11292|\n",
            "|     94135|         11301|\n",
            "|     34224|         11301|\n",
            "|     53190|         11302|\n",
            "|     91304|         11303|\n",
            "|     89183|         11305|\n",
            "|     80215|         11306|\n",
            "|   6040847|         11306|\n",
            "|     20511|         11308|\n",
            "|     95824|         11326|\n",
            "|     95153|         11327|\n",
            "|     11788|         11329|\n",
            "|     21136|         11334|\n",
            "|     20759|         11334|\n",
            "+----------+--------------+\n",
            "only showing top 100 rows\n",
            "\n"
          ]
        }
      ]
    },
    {
      "cell_type": "markdown",
      "source": [],
      "metadata": {
        "id": "eIC_MdQcqEOn"
      }
    }
  ]
}