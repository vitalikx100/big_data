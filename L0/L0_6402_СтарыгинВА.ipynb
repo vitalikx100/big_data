{
 "nbformat": 4,
 "nbformat_minor": 0,
 "metadata": {
  "colab": {
   "provenance": []
  },
  "kernelspec": {
   "name": "python3",
   "display_name": "Python 3 (ipykernel)",
   "language": "python"
  }
 },
 "cells": [
  {
   "cell_type": "markdown",
   "metadata": {
    "id": "82OvPKEiEqjc"
   },
   "source": [
    "# Введение в MapReduce модель на Python\n"
   ]
  },
  {
   "cell_type": "code",
   "metadata": {
    "id": "JQ2cvXLjICmI",
    "ExecuteTime": {
     "end_time": "2025-02-28T11:32:47.393409Z",
     "start_time": "2025-02-28T11:32:47.390394Z"
    }
   },
   "source": [
    "from typing import NamedTuple # requires python 3.6+\n",
    "from typing import Iterator"
   ],
   "outputs": [],
   "execution_count": 1
  },
  {
   "cell_type": "code",
   "metadata": {
    "id": "yjPHumVwEyEg",
    "ExecuteTime": {
     "end_time": "2025-02-28T11:32:47.474835Z",
     "start_time": "2025-02-28T11:32:47.470813Z"
    }
   },
   "source": [
    "def MAP(_, row:NamedTuple):\n",
    "  if (row.gender == 'female'):\n",
    "    yield (row.age, row)\n",
    "    \n",
    "def REDUCE(age:str, rows:Iterator[NamedTuple]):\n",
    "  sum = 0\n",
    "  count = 0\n",
    "  for row in rows:\n",
    "    sum += row.social_contacts\n",
    "    count += 1\n",
    "  if (count > 0):\n",
    "    yield (age, sum/count)\n",
    "  else:\n",
    "    yield (age, 0)"
   ],
   "outputs": [],
   "execution_count": 2
  },
  {
   "cell_type": "markdown",
   "metadata": {
    "id": "vBKMgpG_ilaZ"
   },
   "source": [
    "Модель элемента данных"
   ]
  },
  {
   "cell_type": "code",
   "metadata": {
    "id": "Rv-XIjhTJPx3",
    "ExecuteTime": {
     "end_time": "2025-02-28T11:32:47.494439Z",
     "start_time": "2025-02-28T11:32:47.491926Z"
    }
   },
   "source": [
    "class User(NamedTuple):\n",
    "  id: int\n",
    "  age: str\n",
    "  social_contacts: int\n",
    "  gender: str"
   ],
   "outputs": [],
   "execution_count": 3
  },
  {
   "cell_type": "code",
   "metadata": {
    "id": "5KV0Ze2vQgu5",
    "ExecuteTime": {
     "end_time": "2025-02-28T11:32:47.507009Z",
     "start_time": "2025-02-28T11:32:47.503991Z"
    }
   },
   "source": [
    "input_collection = [\n",
    "    User(id=0, age=55, gender='male', social_contacts=20),\n",
    "    User(id=1, age=25, gender='female', social_contacts=240),\n",
    "    User(id=2, age=25, gender='female', social_contacts=500),\n",
    "    User(id=3, age=33, gender='female', social_contacts=800)\n",
    "]"
   ],
   "outputs": [],
   "execution_count": 4
  },
  {
   "cell_type": "markdown",
   "metadata": {
    "id": "YFeqzyZxZIFZ"
   },
   "source": [
    "Функция RECORDREADER моделирует чтение элементов с диска или по сети."
   ]
  },
  {
   "cell_type": "code",
   "metadata": {
    "id": "S5HR4E_GQoMJ",
    "ExecuteTime": {
     "end_time": "2025-02-28T11:32:47.517065Z",
     "start_time": "2025-02-28T11:32:47.514553Z"
    }
   },
   "source": [
    "def RECORDREADER():\n",
    "  return [(u.id, u) for u in input_collection]"
   ],
   "outputs": [],
   "execution_count": 5
  },
  {
   "cell_type": "code",
   "metadata": {
    "id": "NeEoWla-ROUy",
    "colab": {
     "base_uri": "https://localhost:8080/",
     "height": 85
    },
    "outputId": "94ca6e0e-4644-4282-acbf-1759d7ba2918",
    "ExecuteTime": {
     "end_time": "2025-02-28T11:32:47.526112Z",
     "start_time": "2025-02-28T11:32:47.521588Z"
    }
   },
   "source": [
    "list(RECORDREADER())"
   ],
   "outputs": [
    {
     "data": {
      "text/plain": [
       "[(0, User(id=0, age=55, social_contacts=20, gender='male')),\n",
       " (1, User(id=1, age=25, social_contacts=240, gender='female')),\n",
       " (2, User(id=2, age=25, social_contacts=500, gender='female')),\n",
       " (3, User(id=3, age=33, social_contacts=800, gender='female'))]"
      ]
     },
     "execution_count": 6,
     "metadata": {},
     "output_type": "execute_result"
    }
   ],
   "execution_count": 6
  },
  {
   "cell_type": "code",
   "metadata": {
    "id": "YB8orgPSZs8M",
    "ExecuteTime": {
     "end_time": "2025-02-28T11:32:47.587429Z",
     "start_time": "2025-02-28T11:32:47.584915Z"
    }
   },
   "source": [
    "def flatten(nested_iterable):\n",
    "  for iterable in nested_iterable:\n",
    "    for element in iterable:\n",
    "      yield element"
   ],
   "outputs": [],
   "execution_count": 7
  },
  {
   "cell_type": "code",
   "metadata": {
    "id": "74oyvDLaRmd5",
    "colab": {
     "base_uri": "https://localhost:8080/",
     "height": 68
    },
    "outputId": "c6147702-7153-47c7-a574-d5fe6abe29a8",
    "ExecuteTime": {
     "end_time": "2025-02-28T11:32:47.608039Z",
     "start_time": "2025-02-28T11:32:47.604521Z"
    }
   },
   "source": [
    "map_output = flatten(map(lambda x: MAP(*x), RECORDREADER()))\n",
    "map_output = list(map_output) # materialize\n",
    "map_output"
   ],
   "outputs": [
    {
     "data": {
      "text/plain": [
       "[(25, User(id=1, age=25, social_contacts=240, gender='female')),\n",
       " (25, User(id=2, age=25, social_contacts=500, gender='female')),\n",
       " (33, User(id=3, age=33, social_contacts=800, gender='female'))]"
      ]
     },
     "execution_count": 8,
     "metadata": {},
     "output_type": "execute_result"
    }
   ],
   "execution_count": 8
  },
  {
   "cell_type": "code",
   "metadata": {
    "id": "8ncYDJ3-VzDn",
    "ExecuteTime": {
     "end_time": "2025-02-28T11:32:47.993565Z",
     "start_time": "2025-02-28T11:32:47.991050Z"
    }
   },
   "source": [
    "def groupbykey(iterable):\n",
    "  t = {}\n",
    "  for (k2, v2) in iterable:\n",
    "    t[k2] = t.get(k2, []) + [v2]\n",
    "  return t.items()"
   ],
   "outputs": [],
   "execution_count": 9
  },
  {
   "cell_type": "code",
   "metadata": {
    "id": "cKzY_6COWOA2",
    "colab": {
     "base_uri": "https://localhost:8080/",
     "height": 85
    },
    "outputId": "e6791b12-e409-47e9-bcd4-e9f8ca8611bd",
    "ExecuteTime": {
     "end_time": "2025-02-28T11:32:48.002110Z",
     "start_time": "2025-02-28T11:32:47.999093Z"
    }
   },
   "source": [
    "shuffle_output = groupbykey(map_output)\n",
    "shuffle_output = list(shuffle_output)\n",
    "shuffle_output"
   ],
   "outputs": [
    {
     "data": {
      "text/plain": [
       "[(25,\n",
       "  [User(id=1, age=25, social_contacts=240, gender='female'),\n",
       "   User(id=2, age=25, social_contacts=500, gender='female')]),\n",
       " (33, [User(id=3, age=33, social_contacts=800, gender='female')])]"
      ]
     },
     "execution_count": 10,
     "metadata": {},
     "output_type": "execute_result"
    }
   ],
   "execution_count": 10
  },
  {
   "cell_type": "code",
   "metadata": {
    "id": "NlA7lkDDYL0t",
    "colab": {
     "base_uri": "https://localhost:8080/",
     "height": 34
    },
    "outputId": "6b25d03f-5c92-4f3b-f500-6d70acd598b7",
    "ExecuteTime": {
     "end_time": "2025-02-28T11:32:48.039308Z",
     "start_time": "2025-02-28T11:32:48.036292Z"
    }
   },
   "source": [
    "reduce_output = flatten(map(lambda x: REDUCE(*x), shuffle_output))\n",
    "reduce_output = list(reduce_output)\n",
    "reduce_output"
   ],
   "outputs": [
    {
     "data": {
      "text/plain": [
       "[(25, 370.0), (33, 800.0)]"
      ]
     },
     "execution_count": 11,
     "metadata": {},
     "output_type": "execute_result"
    }
   ],
   "execution_count": 11
  },
  {
   "cell_type": "markdown",
   "metadata": {
    "id": "xf6qhHEtd6bI"
   },
   "source": [
    "Все действия одним конвейером!"
   ]
  },
  {
   "cell_type": "code",
   "metadata": {
    "id": "dZaQGYxCdpw5",
    "colab": {
     "base_uri": "https://localhost:8080/",
     "height": 34
    },
    "outputId": "3f5c6425-e5c5-49d2-b2cd-ce58a9acc33c",
    "ExecuteTime": {
     "end_time": "2025-02-28T11:32:48.180045Z",
     "start_time": "2025-02-28T11:32:48.176527Z"
    }
   },
   "source": [
    "list(flatten(map(lambda x: REDUCE(*x), groupbykey(flatten(map(lambda x: MAP(*x), RECORDREADER()))))))"
   ],
   "outputs": [
    {
     "data": {
      "text/plain": [
       "[(25, 370.0), (33, 800.0)]"
      ]
     },
     "execution_count": 12,
     "metadata": {},
     "output_type": "execute_result"
    }
   ],
   "execution_count": 12
  },
  {
   "cell_type": "markdown",
   "metadata": {
    "id": "Vq3EWRIpwSiJ"
   },
   "source": [
    "# **MapReduce**\n",
    "Выделим общую для всех пользователей часть системы в отдельную функцию высшего порядка. Это наиболее простая модель MapReduce, без учёта распределённого хранения данных. \n",
    "\n",
    "Пользователь для решения своей задачи реализует RECORDREADER, MAP, REDUCE."
   ]
  },
  {
   "cell_type": "code",
   "metadata": {
    "id": "V1PZeQMwwVjc",
    "ExecuteTime": {
     "end_time": "2025-02-28T11:32:48.250418Z",
     "start_time": "2025-02-28T11:32:48.247401Z"
    }
   },
   "source": [
    "def flatten(nested_iterable):\n",
    "  for iterable in nested_iterable:\n",
    "    for element in iterable:\n",
    "      yield element\n",
    "\n",
    "def groupbykey(iterable):\n",
    "  t = {}\n",
    "  for (k2, v2) in iterable:\n",
    "    t[k2] = t.get(k2, []) + [v2]\n",
    "  return t.items()\n",
    "\n",
    "def MapReduce(RECORDREADER, MAP, REDUCE):\n",
    "  return flatten(map(lambda x: REDUCE(*x), groupbykey(flatten(map(lambda x: MAP(*x), RECORDREADER())))))"
   ],
   "outputs": [],
   "execution_count": 13
  },
  {
   "cell_type": "markdown",
   "metadata": {
    "id": "iFIVrimep678"
   },
   "source": [
    "## Спецификация MapReduce\n",
    "\n",
    "\n",
    "\n",
    "```\n",
    "f (k1, v1) -> (k2,v2)*\n",
    "g (k2, v2*) -> (k3,v3)*\n",
    " \n",
    "mapreduce ((k1,v1)*) -> (k3,v3)*\n",
    "groupby ((k2,v2)*) -> (k2,v2*)*\n",
    "flatten (e2**) -> e2*\n",
    " \n",
    "mapreduce .map(f).flatten.groupby(k2).map(g).flatten\n",
    "```\n",
    "\n",
    "\n"
   ]
  },
  {
   "cell_type": "markdown",
   "metadata": {
    "id": "QtTFyqke3KGe"
   },
   "source": [
    "# Примеры"
   ]
  },
  {
   "cell_type": "markdown",
   "metadata": {
    "id": "BNhh5763w5Vn"
   },
   "source": [
    "## SQL "
   ]
  },
  {
   "cell_type": "code",
   "metadata": {
    "id": "QkyurnvGxBGk",
    "colab": {
     "base_uri": "https://localhost:8080/",
     "height": 34
    },
    "outputId": "84761282-d2ba-435a-e8d7-a85150730e10",
    "ExecuteTime": {
     "end_time": "2025-02-28T11:32:48.286613Z",
     "start_time": "2025-02-28T11:32:48.280581Z"
    }
   },
   "source": [
    "from typing import NamedTuple # requires python 3.6+\n",
    "from typing import Iterator\n",
    "\n",
    "class User(NamedTuple):\n",
    "  id: int\n",
    "  age: str\n",
    "  social_contacts: int\n",
    "  gender: str\n",
    "    \n",
    "input_collection = [\n",
    "    User(id=0, age=55, gender='male', social_contacts=20),\n",
    "    User(id=1, age=25, gender='female', social_contacts=240),\n",
    "    User(id=2, age=25, gender='female', social_contacts=500),\n",
    "    User(id=3, age=33, gender='female', social_contacts=800)\n",
    "]\n",
    "\n",
    "def MAP(_, row:NamedTuple):\n",
    "  if (row.gender == 'female'):\n",
    "    yield (row.age, row)\n",
    "    \n",
    "def REDUCE(age:str, rows:Iterator[NamedTuple]):\n",
    "  sum = 0\n",
    "  count = 0\n",
    "  for row in rows:\n",
    "    sum += row.social_contacts\n",
    "    count += 1\n",
    "  if (count > 0):\n",
    "    yield (age, sum/count)\n",
    "  else:\n",
    "    yield (age, 0)\n",
    " \n",
    "def RECORDREADER():\n",
    "  return [(u.id, u) for u in input_collection]\n",
    "\n",
    "output = MapReduce(RECORDREADER, MAP, REDUCE)\n",
    "output = list(output)\n",
    "output"
   ],
   "outputs": [
    {
     "data": {
      "text/plain": [
       "[(25, 370.0), (33, 800.0)]"
      ]
     },
     "execution_count": 14,
     "metadata": {},
     "output_type": "execute_result"
    }
   ],
   "execution_count": 14
  },
  {
   "cell_type": "markdown",
   "metadata": {
    "id": "kNKYIeerx0nY"
   },
   "source": [
    "## Matrix-Vector multiplication "
   ]
  },
  {
   "cell_type": "code",
   "metadata": {
    "id": "rwcntRcCyi1V",
    "colab": {
     "base_uri": "https://localhost:8080/",
     "height": 102
    },
    "outputId": "606737ab-6b55-455c-931f-4fc45155f8a9",
    "ExecuteTime": {
     "end_time": "2025-02-28T11:32:48.717364Z",
     "start_time": "2025-02-28T11:32:48.347937Z"
    }
   },
   "source": [
    "from typing import Iterator\n",
    "import numpy as np\n",
    "\n",
    "mat = np.ones((5,4))\n",
    "vec = np.random.rand(4) # in-memory vector in all map tasks\n",
    "\n",
    "def MAP(coordinates:(int, int), value:int):\n",
    "  i, j = coordinates\n",
    "  yield (i, value*vec[j])\n",
    " \n",
    "def REDUCE(i:int, products:Iterator[NamedTuple]):\n",
    "  sum = 0\n",
    "  for p in products:\n",
    "    sum += p\n",
    "  yield (i, sum)\n",
    "\n",
    "def RECORDREADER():\n",
    "  for i in range(mat.shape[0]):\n",
    "    for j in range(mat.shape[1]):\n",
    "      yield ((i, j), mat[i,j])\n",
    "      \n",
    "output = MapReduce(RECORDREADER, MAP, REDUCE)\n",
    "output = list(output)\n",
    "output"
   ],
   "outputs": [
    {
     "data": {
      "text/plain": [
       "[(0, np.float64(1.2292233916655595)),\n",
       " (1, np.float64(1.2292233916655595)),\n",
       " (2, np.float64(1.2292233916655595)),\n",
       " (3, np.float64(1.2292233916655595)),\n",
       " (4, np.float64(1.2292233916655595))]"
      ]
     },
     "execution_count": 15,
     "metadata": {},
     "output_type": "execute_result"
    }
   ],
   "execution_count": 15
  },
  {
   "cell_type": "markdown",
   "metadata": {
    "id": "ruZREYdi2o4O"
   },
   "source": [
    "## Inverted index "
   ]
  },
  {
   "cell_type": "code",
   "metadata": {
    "id": "vt9H9Alf3TYv",
    "colab": {
     "base_uri": "https://localhost:8080/",
     "height": 102
    },
    "outputId": "51aeffc9-e111-4607-bd84-cfcc7b56f238",
    "ExecuteTime": {
     "end_time": "2025-02-28T11:32:48.741993Z",
     "start_time": "2025-02-28T11:32:48.736967Z"
    }
   },
   "source": [
    "from typing import Iterator\n",
    "\n",
    "d1 = \"it is what it is\"\n",
    "d2 = \"what is it\"\n",
    "d3 = \"it is a banana\"\n",
    "documents = [d1, d2, d3]\n",
    "\n",
    "def RECORDREADER():\n",
    "  for (docid, document) in enumerate(documents):\n",
    "    yield (\"{}\".format(docid), document)\n",
    "      \n",
    "def MAP(docId:str, body:str):\n",
    "  for word in set(body.split(' ')):\n",
    "    yield (word, docId)\n",
    " \n",
    "def REDUCE(word:str, docIds:Iterator[str]):\n",
    "  yield (word, sorted(docIds))\n",
    "\n",
    "output = MapReduce(RECORDREADER, MAP, REDUCE)\n",
    "output = list(output)\n",
    "output"
   ],
   "outputs": [
    {
     "data": {
      "text/plain": [
       "[('is', ['0', '1', '2']),\n",
       " ('it', ['0', '1', '2']),\n",
       " ('what', ['0', '1']),\n",
       " ('banana', ['2']),\n",
       " ('a', ['2'])]"
      ]
     },
     "execution_count": 16,
     "metadata": {},
     "output_type": "execute_result"
    }
   ],
   "execution_count": 16
  },
  {
   "cell_type": "markdown",
   "metadata": {
    "id": "R7az-6DA6qr2"
   },
   "source": [
    "## WordCount"
   ]
  },
  {
   "cell_type": "code",
   "metadata": {
    "id": "dN-nbtgG6uYG",
    "colab": {
     "base_uri": "https://localhost:8080/",
     "height": 34
    },
    "outputId": "24117576-7931-401d-a581-28e246b23453",
    "ExecuteTime": {
     "end_time": "2025-02-28T11:32:48.793774Z",
     "start_time": "2025-02-28T11:32:48.788747Z"
    }
   },
   "source": [
    "from typing import Iterator\n",
    "\n",
    "d1 = \"\"\"\n",
    "it is what it is\n",
    "it is what it is\n",
    "it is what it is\"\"\"\n",
    "d2 = \"\"\"\n",
    "what is it\n",
    "what is it\"\"\"\n",
    "d3 = \"\"\"\n",
    "it is a banana\"\"\"\n",
    "documents = [d1, d2, d3]\n",
    "\n",
    "def RECORDREADER():\n",
    "  for (docid, document) in enumerate(documents):\n",
    "    for (lineid, line) in enumerate(document.split('\\n')):\n",
    "      yield (\"{}:{}\".format(docid,lineid), line)\n",
    "\n",
    "def MAP(docId:str, line:str):\n",
    "  for word in line.split(\" \"):  \n",
    "    yield (word, 1)\n",
    " \n",
    "def REDUCE(word:str, counts:Iterator[int]):\n",
    "  sum = 0\n",
    "  for c in counts:\n",
    "    sum += c\n",
    "  yield (word, sum)\n",
    "\n",
    "output = MapReduce(RECORDREADER, MAP, REDUCE)\n",
    "output = list(output)\n",
    "output"
   ],
   "outputs": [
    {
     "data": {
      "text/plain": [
       "[('', 3), ('it', 9), ('is', 9), ('what', 5), ('a', 1), ('banana', 1)]"
      ]
     },
     "execution_count": 17,
     "metadata": {},
     "output_type": "execute_result"
    }
   ],
   "execution_count": 17
  },
  {
   "cell_type": "markdown",
   "metadata": {
    "id": "h-jRAcYCAkkk"
   },
   "source": [
    "# MapReduce Distributed\n",
    "\n",
    "Добавляется в модель фабрика RECORDREARER-ов --- INPUTFORMAT, функция распределения промежуточных результатов по партициям PARTITIONER, и функция COMBINER для частичной аггрегации промежуточных результатов до распределения по новым партициям."
   ]
  },
  {
   "cell_type": "code",
   "metadata": {
    "id": "nw-b-xJsApgW",
    "ExecuteTime": {
     "end_time": "2025-02-28T11:32:48.838007Z",
     "start_time": "2025-02-28T11:32:48.831472Z"
    }
   },
   "source": [
    "def flatten(nested_iterable):\n",
    "  for iterable in nested_iterable:\n",
    "    for element in iterable:\n",
    "      yield element\n",
    "\n",
    "def groupbykey(iterable):\n",
    "  t = {}\n",
    "  for (k2, v2) in iterable:\n",
    "    t[k2] = t.get(k2, []) + [v2]\n",
    "  return t.items()\n",
    "      \n",
    "def groupbykey_distributed(map_partitions, PARTITIONER):\n",
    "  global reducers\n",
    "  partitions = [dict() for _ in range(reducers)]\n",
    "  for map_partition in map_partitions:\n",
    "    for (k2, v2) in map_partition:\n",
    "      p = partitions[PARTITIONER(k2)]\n",
    "      p[k2] = p.get(k2, []) + [v2]\n",
    "  return [(partition_id, sorted(partition.items(), key=lambda x: x[0])) for (partition_id, partition) in enumerate(partitions)]\n",
    " \n",
    "def PARTITIONER(obj):\n",
    "  global reducers\n",
    "  return hash(obj) % reducers\n",
    "  \n",
    "def MapReduceDistributed(INPUTFORMAT, MAP, REDUCE, PARTITIONER=PARTITIONER, COMBINER=None):\n",
    "  map_partitions = map(lambda record_reader: flatten(map(lambda k1v1: MAP(*k1v1), record_reader)), INPUTFORMAT())\n",
    "  if COMBINER != None:\n",
    "    map_partitions = map(lambda map_partition: flatten(map(lambda k2v2: COMBINER(*k2v2), groupbykey(map_partition))), map_partitions)\n",
    "  reduce_partitions = groupbykey_distributed(map_partitions, PARTITIONER) # shuffle\n",
    "  reduce_outputs = map(lambda reduce_partition: (reduce_partition[0], flatten(map(lambda reduce_input_group: REDUCE(*reduce_input_group), reduce_partition[1]))), reduce_partitions)\n",
    "  \n",
    "  print(\"{} key-value pairs were sent over a network.\".format(sum([len(vs) for (k,vs) in flatten([partition for (partition_id, partition) in reduce_partitions])])))\n",
    "  return reduce_outputs"
   ],
   "outputs": [],
   "execution_count": 18
  },
  {
   "cell_type": "markdown",
   "metadata": {
    "id": "kxirlf3XqZxY"
   },
   "source": [
    "## Спецификация MapReduce Distributed\n",
    "\n",
    "\n",
    "```\n",
    "f (k1, v1) -> (k2,v2)*\n",
    "g (k2, v2*) -> (k3,v3)*\n",
    " \n",
    "e1 (k1, v1)\n",
    "e2 (k2, v2)\n",
    "partition1 (k2, v2)*\n",
    "partition2 (k2, v2*)*\n",
    " \n",
    "flatmap (e1->e2*, e1*) -> partition1*\n",
    "groupby (partition1*) -> partition2*\n",
    "\n",
    "mapreduce ((k1,v1)*) -> (k3,v3)*\n",
    "mapreduce .flatmap(f).groupby(k2).flatmap(g)\n",
    "```\n",
    "\n"
   ]
  },
  {
   "cell_type": "markdown",
   "metadata": {
    "id": "CWYw_CpbbY3C"
   },
   "source": [
    "## WordCount "
   ]
  },
  {
   "cell_type": "code",
   "metadata": {
    "id": "uR_zfGFkMZlp",
    "colab": {
     "base_uri": "https://localhost:8080/",
     "height": 68
    },
    "outputId": "c8d46167-473d-43b9-881a-2396991b3731",
    "ExecuteTime": {
     "end_time": "2025-02-28T11:32:48.873197Z",
     "start_time": "2025-02-28T11:32:48.867163Z"
    }
   },
   "source": [
    "from typing import Iterator\n",
    "import numpy as np\n",
    "\n",
    "d1 = \"\"\"\n",
    "it is what it is\n",
    "it is what it is\n",
    "it is what it is\"\"\"\n",
    "d2 = \"\"\"\n",
    "what is it\n",
    "what is it\"\"\"\n",
    "d3 = \"\"\"\n",
    "it is a banana\"\"\"\n",
    "documents = [d1, d2, d3, d1, d2, d3]\n",
    "\n",
    "maps = 3\n",
    "reducers = 2\n",
    "\n",
    "def INPUTFORMAT():\n",
    "  global maps\n",
    "  \n",
    "  def RECORDREADER(split):\n",
    "    for (docid, document) in enumerate(split):\n",
    "      for (lineid, line) in enumerate(document.split('\\n')):\n",
    "        yield (\"{}:{}\".format(docid,lineid), line)\n",
    "      \n",
    "  split_size =  int(np.ceil(len(documents)/maps))\n",
    "  for i in range(0, len(documents), split_size):\n",
    "    yield RECORDREADER(documents[i:i+split_size])\n",
    "\n",
    "def MAP(docId:str, line:str):\n",
    "  for word in line.split(\" \"):  \n",
    "    yield (word, 1)\n",
    " \n",
    "def REDUCE(word:str, counts:Iterator[int]):\n",
    "  sum = 0\n",
    "  for c in counts:\n",
    "    sum += c\n",
    "  yield (word, sum)\n",
    "  \n",
    "# try to set COMBINER=REDUCER and look at the number of values sent over the network \n",
    "partitioned_output = MapReduceDistributed(INPUTFORMAT, MAP, REDUCE, COMBINER=None) \n",
    "partitioned_output = [(partition_id, list(partition)) for (partition_id, partition) in partitioned_output]\n",
    "partitioned_output"
   ],
   "outputs": [
    {
     "name": "stdout",
     "output_type": "stream",
     "text": [
      "56 key-value pairs were sent over a network.\n"
     ]
    },
    {
     "data": {
      "text/plain": [
       "[(0, [('', 6), ('it', 18), ('what', 10)]),\n",
       " (1, [('a', 2), ('banana', 2), ('is', 18)])]"
      ]
     },
     "execution_count": 19,
     "metadata": {},
     "output_type": "execute_result"
    }
   ],
   "execution_count": 19
  },
  {
   "cell_type": "markdown",
   "metadata": {
    "id": "gCJGx8IQ87xS"
   },
   "source": [
    "## TeraSort"
   ]
  },
  {
   "cell_type": "code",
   "metadata": {
    "id": "P2v8v1v_8_YR",
    "colab": {
     "base_uri": "https://localhost:8080/",
     "height": 578
    },
    "outputId": "e0987c25-9757-46cb-8e55-d5d2adfbee2b",
    "ExecuteTime": {
     "end_time": "2025-02-28T11:32:48.930499Z",
     "start_time": "2025-02-28T11:32:48.924465Z"
    }
   },
   "source": [
    "import numpy as np\n",
    "\n",
    "input_values = np.random.rand(30)\n",
    "maps = 3\n",
    "reducers = 2\n",
    "min_value = 0.0\n",
    "max_value = 1.0\n",
    "\n",
    "def INPUTFORMAT():\n",
    "  global maps\n",
    "  \n",
    "  def RECORDREADER(split):\n",
    "    for value in split:\n",
    "        yield (value, None)\n",
    "      \n",
    "  split_size =  int(np.ceil(len(input_values)/maps))\n",
    "  for i in range(0, len(input_values), split_size):\n",
    "    yield RECORDREADER(input_values[i:i+split_size])\n",
    "    \n",
    "def MAP(value:int, _):\n",
    "  yield (value, None)\n",
    "  \n",
    "def PARTITIONER(key):\n",
    "  global reducers\n",
    "  global max_value\n",
    "  global min_value\n",
    "  bucket_size = (max_value-min_value)/reducers\n",
    "  bucket_id = 0\n",
    "  while((key>(bucket_id+1)*bucket_size) and ((bucket_id+1)*bucket_size<max_value)):\n",
    "    bucket_id += 1\n",
    "  return bucket_id\n",
    "\n",
    "def REDUCE(value:int, _):\n",
    "  yield (None,value)\n",
    "  \n",
    "partitioned_output = MapReduceDistributed(INPUTFORMAT, MAP, REDUCE, COMBINER=None, PARTITIONER=PARTITIONER)\n",
    "partitioned_output = [(partition_id, list(partition)) for (partition_id, partition) in partitioned_output]\n",
    "partitioned_output"
   ],
   "outputs": [
    {
     "name": "stdout",
     "output_type": "stream",
     "text": [
      "30 key-value pairs were sent over a network.\n"
     ]
    },
    {
     "data": {
      "text/plain": [
       "[(0,\n",
       "  [(None, np.float64(0.02654550487505869)),\n",
       "   (None, np.float64(0.03862526661616139)),\n",
       "   (None, np.float64(0.10549359288996352)),\n",
       "   (None, np.float64(0.1611962634643116)),\n",
       "   (None, np.float64(0.16954401915056672)),\n",
       "   (None, np.float64(0.1814631191213245)),\n",
       "   (None, np.float64(0.18486161521664557)),\n",
       "   (None, np.float64(0.23901401065889583)),\n",
       "   (None, np.float64(0.24285176474674508)),\n",
       "   (None, np.float64(0.2833563367034354)),\n",
       "   (None, np.float64(0.31519416470099026)),\n",
       "   (None, np.float64(0.3152020871371831)),\n",
       "   (None, np.float64(0.34077052191022783)),\n",
       "   (None, np.float64(0.37032264987078056)),\n",
       "   (None, np.float64(0.3991618911526503)),\n",
       "   (None, np.float64(0.42460903480964496)),\n",
       "   (None, np.float64(0.43486539605510766))]),\n",
       " (1,\n",
       "  [(None, np.float64(0.5113481396154398)),\n",
       "   (None, np.float64(0.5193825481879765)),\n",
       "   (None, np.float64(0.548220616181598)),\n",
       "   (None, np.float64(0.562144064519448)),\n",
       "   (None, np.float64(0.6013494515263329)),\n",
       "   (None, np.float64(0.6129391145666006)),\n",
       "   (None, np.float64(0.6457854303458727)),\n",
       "   (None, np.float64(0.654307043403268)),\n",
       "   (None, np.float64(0.6751946391664492)),\n",
       "   (None, np.float64(0.6869921752720786)),\n",
       "   (None, np.float64(0.7053609686686088)),\n",
       "   (None, np.float64(0.717159334867289)),\n",
       "   (None, np.float64(0.723382184680494))])]"
      ]
     },
     "execution_count": 20,
     "metadata": {},
     "output_type": "execute_result"
    }
   ],
   "execution_count": 20
  },
  {
   "cell_type": "code",
   "metadata": {
    "id": "MQhoJaVZI93G",
    "ExecuteTime": {
     "end_time": "2025-02-28T11:32:48.997347Z",
     "start_time": "2025-02-28T11:32:48.995336Z"
    }
   },
   "source": [],
   "outputs": [],
   "execution_count": null
  },
  {
   "cell_type": "markdown",
   "metadata": {
    "id": "Iy65YJTH99iT"
   },
   "source": [
    "# Упражнения\n",
    "Упражнения взяты из Rajaraman A., Ullman J. D. Mining of massive datasets. – Cambridge University Press, 2011.\n",
    "\n",
    "\n",
    "Для выполнения заданий переопределите функции RECORDREADER, MAP, REDUCE. Для модели распределённой системы может потребоваться переопределение функций PARTITION и COMBINER."
   ]
  },
  {
   "cell_type": "markdown",
   "metadata": {
    "id": "cfvAeZm3S8S8"
   },
   "source": [
    "### Максимальное значение ряда\n",
    "\n",
    "Разработайте MapReduce алгоритм, который находит максимальное число входного списка чисел."
   ]
  },
  {
   "cell_type": "code",
   "metadata": {
    "id": "3GRA1JR-Tkbg",
    "ExecuteTime": {
     "end_time": "2025-02-28T11:32:49.019971Z",
     "start_time": "2025-02-28T11:32:49.015947Z"
    }
   },
   "source": [
    "from random import randint\n",
    "from functools import reduce\n",
    "\n",
    "def RECORDREADER(count, part_size):\n",
    "  data = []\n",
    "  for i in range(count):\n",
    "    data.append(randint(-100, 100))\n",
    "\n",
    "  for i in range(0, count, part_size):\n",
    "    yield data[i:i+part_size]\n",
    "\n",
    "def MAP(list_nums):\n",
    "  return max(list_nums)\n",
    "\n",
    "def REDUCE(a, b):\n",
    "  return max(a, b)\n",
    "\n",
    "record_reader_list = list(RECORDREADER(17, 5))\n",
    "\n",
    "full_list_nums = [num for part_list in record_reader_list for num in part_list]\n",
    "print(\"List:\", full_list_nums)\n",
    "\n",
    "print(\"Parts list:\", record_reader_list)\n",
    "\n",
    "map_list = list(map(MAP, record_reader_list))\n",
    "print(\"Local max:\", map_list)\n",
    "\n",
    "print(\"Max:\", reduce(REDUCE, map_list))\n"
   ],
   "outputs": [
    {
     "name": "stdout",
     "output_type": "stream",
     "text": [
      "List: [-18, 98, -10, -35, -47, 96, -49, -9, -90, 99, 24, 15, -69, 81, 38, 53, -100]\n",
      "Parts list: [[-18, 98, -10, -35, -47], [96, -49, -9, -90, 99], [24, 15, -69, 81, 38], [53, -100]]\n",
      "Local max: [98, 99, 81, 53]\n",
      "Max: 99\n"
     ]
    }
   ],
   "execution_count": 21
  },
  {
   "cell_type": "markdown",
   "metadata": {
    "id": "k86bXnqZTk-U"
   },
   "source": [
    "### Арифметическое среднее\n",
    "\n",
    "Разработайте MapReduce алгоритм, который находит арифметическое среднее.\n",
    "\n",
    "$$\\overline{X} = \\frac{1}{n}\\sum_{i=0}^{n} x_i$$\n"
   ]
  },
  {
   "cell_type": "code",
   "metadata": {
    "id": "MPoY5pkfUNZf",
    "ExecuteTime": {
     "end_time": "2025-02-28T11:32:49.074255Z",
     "start_time": "2025-02-28T11:32:49.070233Z"
    }
   },
   "source": [
    "from random import randint\n",
    "\n",
    "def RECORDREADER(count, part_size):\n",
    "  data = []\n",
    "  for i in range(count):\n",
    "    data.append(randint(0, 10))\n",
    "      \n",
    "  for i in range(0, count, part_size):\n",
    "    yield data[i:i+part_size]\n",
    "\n",
    "def MAP(list_nums):\n",
    "  return (sum(list_nums), len(list_nums))\n",
    "\n",
    "def REDUCE(a, b):\n",
    "  total_sum = a[0] + b[0]\n",
    "  total_count = a[1] + b[1]\n",
    "  return (total_sum, total_count)\n",
    "\n",
    "data_parts = list(RECORDREADER(20, 5))\n",
    "data = [nums for data_part in data_parts for nums in data_part]\n",
    "print(data)\n",
    "\n",
    "map_list = list(map(MAP, data_parts))\n",
    "\n",
    "print(\"\\nMAP result:\")\n",
    "for value in map_list:\n",
    "  print(value)\n",
    "\n",
    "total_sum, total_count = reduce(REDUCE, map_list)\n",
    "\n",
    "print(\"Арифметическое среднее (REDUCE)\", total_sum / total_count)\n"
   ],
   "outputs": [
    {
     "name": "stdout",
     "output_type": "stream",
     "text": [
      "[8, 0, 2, 4, 10, 3, 4, 9, 5, 2, 7, 2, 0, 7, 9, 7, 1, 6, 1, 6]\n",
      "\n",
      "MAP result:\n",
      "(24, 5)\n",
      "(23, 5)\n",
      "(25, 5)\n",
      "(21, 5)\n",
      "Арифметическое среднее (REDUCE) 4.65\n"
     ]
    }
   ],
   "execution_count": 22
  },
  {
   "cell_type": "markdown",
   "metadata": {
    "id": "xanzszhsIlLe"
   },
   "source": [
    "### GroupByKey на основе сортировки\n",
    "\n",
    "Реализуйте groupByKey на основе сортировки, проверьте его работу на примерах"
   ]
  },
  {
   "cell_type": "code",
   "metadata": {
    "id": "hQPn3USsIkEC",
    "ExecuteTime": {
     "end_time": "2025-02-28T11:32:49.112962Z",
     "start_time": "2025-02-28T11:32:49.106428Z"
    }
   },
   "source": [
    "from random import randint\n",
    "from functools import reduce\n",
    "\n",
    "def RECORDREADER(count):\n",
    "  data = []\n",
    "  for i in range(count):\n",
    "    data.append(randint(0, 10))\n",
    "  return data\n",
    "\n",
    "def MAP(num):\n",
    "  key = num % 3  \n",
    "  return key, (num, 1)\n",
    "\n",
    "def REDUCE(a, b):\n",
    "  total_sum = a[0] + b[0]\n",
    "  total_count = a[1] + b[1]\n",
    "  return total_sum, total_count\n",
    "\n",
    "def groupByKey(mapped_data):\n",
    "  mapped_data.sort(key=lambda x: x[0])  #Сортировка по ключу\n",
    "  grouped_data = {}\n",
    "\n",
    "  for key, value in mapped_data:\n",
    "    if key not in grouped_data:\n",
    "      grouped_data[key] = []\n",
    "    grouped_data[key].append(value)\n",
    "\n",
    "  return grouped_data.items()\n",
    "\n",
    "data = RECORDREADER(20)\n",
    "print(\"List:\", data)\n",
    "\n",
    "map_list = list(map(MAP, data))\n",
    "print(\"\\nMAP result:\")\n",
    "for value in map_list:\n",
    "  print(value)\n",
    "\n",
    "grouped_data = groupByKey(map_list)\n",
    "print(\"\\nGrouped data:\")\n",
    "for key, values in grouped_data:\n",
    "  print(f\"Key {key}: {values}\")\n",
    "\n",
    "reduced_values = []\n",
    "for key, values in grouped_data:\n",
    "  reduced_result = reduce(REDUCE, values)\n",
    "  reduced_values.append((key, reduced_result))\n",
    "\n",
    "group_result = {}\n",
    "for key, (total_sum, total_count) in reduced_values:\n",
    "  group_result[key] = total_sum / total_count\n",
    "  \n",
    "print(\"\\nАрифметическое среднее в каждой группе:\")\n",
    "for key, value in group_result.items():\n",
    "  print(f\"Key {key}: {value}\")\n",
    "\n",
    "values_list = []\n",
    "for _, values in reduced_values:\n",
    "  values_list.append(values)\n",
    "\n",
    "total_sum, total_count = reduce(REDUCE, values_list)\n",
    "\n",
    "print(\"\\nАрифметическое среднее:\", total_sum / total_count)\n"
   ],
   "outputs": [
    {
     "name": "stdout",
     "output_type": "stream",
     "text": [
      "List: [0, 2, 10, 9, 4, 4, 1, 10, 0, 4, 3, 1, 8, 4, 7, 9, 4, 4, 8, 10]\n",
      "\n",
      "MAP result:\n",
      "(0, (0, 1))\n",
      "(2, (2, 1))\n",
      "(1, (10, 1))\n",
      "(0, (9, 1))\n",
      "(1, (4, 1))\n",
      "(1, (4, 1))\n",
      "(1, (1, 1))\n",
      "(1, (10, 1))\n",
      "(0, (0, 1))\n",
      "(1, (4, 1))\n",
      "(0, (3, 1))\n",
      "(1, (1, 1))\n",
      "(2, (8, 1))\n",
      "(1, (4, 1))\n",
      "(1, (7, 1))\n",
      "(0, (9, 1))\n",
      "(1, (4, 1))\n",
      "(1, (4, 1))\n",
      "(2, (8, 1))\n",
      "(1, (10, 1))\n",
      "\n",
      "Grouped data:\n",
      "Key 0: [(0, 1), (9, 1), (0, 1), (3, 1), (9, 1)]\n",
      "Key 1: [(10, 1), (4, 1), (4, 1), (1, 1), (10, 1), (4, 1), (1, 1), (4, 1), (7, 1), (4, 1), (4, 1), (10, 1)]\n",
      "Key 2: [(2, 1), (8, 1), (8, 1)]\n",
      "\n",
      "Арифметическое среднее в каждой группе:\n",
      "Key 0: 4.2\n",
      "Key 1: 5.25\n",
      "Key 2: 6.0\n",
      "\n",
      "Арифметическое среднее: 5.1\n"
     ]
    }
   ],
   "execution_count": 23
  },
  {
   "cell_type": "markdown",
   "metadata": {
    "id": "5SgEjCZyGnu6"
   },
   "source": [
    "### Drop duplicates (set construction, unique elements, distinct)\n",
    "\n",
    "Реализуйте распределённую операцию исключения дубликатов"
   ]
  },
  {
   "cell_type": "code",
   "metadata": {
    "id": "okjbyApjGhMt",
    "ExecuteTime": {
     "end_time": "2025-02-28T11:32:49.153179Z",
     "start_time": "2025-02-28T11:32:49.143126Z"
    }
   },
   "source": [
    "from typing import Iterator\n",
    "import numpy as np\n",
    "\n",
    "def flatten(nested_iterable):\n",
    "  for iterable in nested_iterable:\n",
    "    for element in iterable:\n",
    "      yield element\n",
    "\n",
    "def groupbykey(iterable):\n",
    "  grouped_data = {}\n",
    "  for key, value in iterable:\n",
    "    grouped_data.setdefault(key, []).append(value)\n",
    "  return list(grouped_data.items())\n",
    "\n",
    "def groupbykey_distributed(map_partitions, PARTITIONER):\n",
    "  global reducers\n",
    "  partitions = [dict() for _ in range(reducers)]\n",
    "  for map_partition in map_partitions:\n",
    "    for key, value in map_partition:\n",
    "      p = partitions[PARTITIONER(key)]\n",
    "      p.setdefault(key, []).append(value)\n",
    "  return [(partition_id, sorted(partition.items(), key=lambda x: x[0])) for (partition_id, partition) in enumerate(partitions)]\n",
    "\n",
    "def PARTITIONER(obj):\n",
    "  global reducers\n",
    "  return hash(obj) % reducers\n",
    "\n",
    "def MapReduceDistributed(INPUTFORMAT, MAP, REDUCE, PARTITIONER=PARTITIONER, COMBINER=None):\n",
    "  map_partitions = map(lambda record_reader: flatten(map(lambda k1v1: MAP(*k1v1), record_reader)), INPUTFORMAT())\n",
    "\n",
    "  if COMBINER is not None:\n",
    "    map_partitions = map(lambda map_partition: flatten(map(lambda k2v2: COMBINER(*k2v2), groupbykey(map_partition))), map_partitions)\n",
    "\n",
    "  reduce_partitions = groupbykey_distributed(map_partitions, PARTITIONER)\n",
    "\n",
    "  reduce_outputs = map(lambda reduce_partition: (reduce_partition[0], flatten(map(lambda reduce_input_group: REDUCE(*reduce_input_group),\n",
    "                                                                                  reduce_partition[1]))), reduce_partitions)\n",
    "  total_values_sent = sum([len(vs) for (k, vs) in flatten([partition for (partition_id, partition) in reduce_partitions])])\n",
    "\n",
    "  print(f\"{total_values_sent} key-value pairs were sent over a network.\")\n",
    "  return reduce_outputs\n",
    "\n",
    "\n",
    "d1 = \"\"\"\n",
    "it is what it is\n",
    "it is what it is\n",
    "it is what it is\"\"\"\n",
    "d2 = \"\"\"\n",
    "what is it\n",
    "what is it\"\"\"\n",
    "d3 = \"\"\"\n",
    "it is a dog\"\"\"\n",
    "documents = [d1, d2, d3, d1, d2, d3]\n",
    "\n",
    "maps = 3\n",
    "reducers = 2\n",
    "\n",
    "def INPUTFORMAT():\n",
    "  global maps\n",
    "  def RECORDREADER(split):\n",
    "    for (docid, document) in enumerate(split):\n",
    "      for (lineid, line) in enumerate(document.split('\\n')):\n",
    "        yield (\"{}:{}\".format(docid, lineid), line)\n",
    "  split_size = int(np.ceil(len(documents) / maps))\n",
    "  for i in range(0, len(documents), split_size):\n",
    "    yield RECORDREADER(documents[i:i + split_size])\n",
    "\n",
    "#Разбивает строку на слова и возвращает пары (word, None)\n",
    "def MAP(docId: str, line: str):\n",
    "  for word in line.split(\" \"):\n",
    "    if word:\n",
    "      yield (word, None)\n",
    "\n",
    "#Возвращает ключ (слово)\n",
    "def REDUCE(key: str, _):\n",
    "  yield key\n",
    "\n",
    "partitioned_output = MapReduceDistributed(INPUTFORMAT, MAP, REDUCE, COMBINER=None)\n",
    "partitioned_output = [(partition_id, list(partition)) for (partition_id, partition) in partitioned_output]\n",
    "partitioned_output"
   ],
   "outputs": [
    {
     "name": "stdout",
     "output_type": "stream",
     "text": [
      "50 key-value pairs were sent over a network.\n"
     ]
    },
    {
     "data": {
      "text/plain": [
       "[(0, ['dog', 'it', 'what']), (1, ['a', 'is'])]"
      ]
     },
     "execution_count": 24,
     "metadata": {},
     "output_type": "execute_result"
    }
   ],
   "execution_count": 24
  },
  {
   "cell_type": "markdown",
   "metadata": {
    "id": "e7sRGoTXuJze"
   },
   "source": [
    "#Операторы реляционной алгебры\n",
    "### Selection (Выборка)\n",
    "\n",
    "**The Map Function**: Для  каждого кортежа $t \\in R$ вычисляется истинность предиката $C$. В случае истины создаётся пара ключ-значение $(t, t)$. В паре ключ и значение одинаковы, равны $t$.\n",
    "\n",
    "**The Reduce Function:** Роль функции Reduce выполняет функция идентичности, которая возвращает то же значение, что получила на вход.\n",
    "\n"
   ]
  },
  {
   "cell_type": "code",
   "metadata": {
    "id": "4nKIKe59uIfc",
    "ExecuteTime": {
     "end_time": "2025-02-28T11:32:49.189878Z",
     "start_time": "2025-02-28T11:32:49.185854Z"
    }
   },
   "source": [
    "import random\n",
    "\n",
    "def RECORDREADER(count):\n",
    "  data = []\n",
    "  for _ in range(count):\n",
    "    data.append((random.randint(0, 100), random.randint(0, 100)))\n",
    "  return data\n",
    "\n",
    "def MAP(list_tuples):\n",
    "  return [(t, t) for t in list_tuples if C(t)]\n",
    "\n",
    "def REDUCE(map_list):\n",
    "  return [t for t, _ in map_list]\n",
    "\n",
    "def C(t):\n",
    "  return t[0] % 2 == 0 and t[1] % 2 == 0\n",
    "\n",
    "record = RECORDREADER(10)\n",
    "\n",
    "mapped = MAP(record)\n",
    "reduced = REDUCE(mapped)\n",
    "\n",
    "print(\"Исходные данные:\", record)\n",
    "print(\"MAP:\", mapped)\n",
    "print(\"REDUCE:\", reduced)\n"
   ],
   "outputs": [
    {
     "name": "stdout",
     "output_type": "stream",
     "text": [
      "Исходные данные: [(56, 32), (33, 57), (19, 69), (54, 84), (28, 42), (93, 85), (19, 48), (41, 78), (1, 25), (38, 44)]\n",
      "MAP: [((56, 32), (56, 32)), ((54, 84), (54, 84)), ((28, 42), (28, 42)), ((38, 44), (38, 44))]\n",
      "REDUCE: [(56, 32), (54, 84), (28, 42), (38, 44)]\n"
     ]
    }
   ],
   "execution_count": 25
  },
  {
   "cell_type": "markdown",
   "metadata": {
    "id": "w27Ca-_Ku85V"
   },
   "source": [
    "### Projection (Проекция)\n",
    "\n",
    "Проекция на множество атрибутов $S$.\n",
    "\n",
    "**The Map Function:** Для каждого кортежа $t \\in R$ создайте кортеж $t′$, исключая  из $t$ те значения, атрибуты которых не принадлежат  $S$. Верните пару $(t′, t′)$.\n",
    "\n",
    "**The Reduce Function:** Для каждого ключа $t′$, созданного любой Map задачей, вы получаете одну или несколько пар $(t′, t′)$. Reduce функция преобразует $(t′, [t′, t′, . . . , t′])$ в $(t′, t′)$, так, что для ключа $t′$ возвращается одна пара  $(t′, t′)$."
   ]
  },
  {
   "cell_type": "code",
   "metadata": {
    "id": "BEvuY4GqvhS6",
    "ExecuteTime": {
     "end_time": "2025-02-28T11:32:49.241646Z",
     "start_time": "2025-02-28T11:32:49.237123Z"
    }
   },
   "source": [
    "import random\n",
    "\n",
    "def RECORDREADER(count):\n",
    "  data = []\n",
    "  for _ in range(count):\n",
    "    data.append((random.randint(0, 100), random.randint(0, 100)))\n",
    "  return data\n",
    "\n",
    "#Проекция на множество S\n",
    "def MAP(t): \n",
    "  S = {10, 20, 30, 40, 50}\n",
    "  res = tuple(el for el in t if el in S)\n",
    "  return (res, res) if res else None\n",
    "\n",
    "def REDUCE(key, values):\n",
    "  return (key, key)\n",
    "\n",
    "\n",
    "def group_by_key(iterable):\n",
    "  t = {}\n",
    "  for (k2, v2) in iterable:\n",
    "    t[k2] = t.get(k2, []) + [v2]\n",
    "  return t.items()\n",
    "\n",
    "# Генерация данных\n",
    "record = RECORDREADER(30)\n",
    "print(\"RECORDREADER:\", record)\n",
    "\n",
    "# Применение MAP\n",
    "mapped = [MAP(x) for x in record if MAP(x) is not None]\n",
    "print(\"MAP:\", mapped)\n",
    "\n",
    "# Группировка ключей\n",
    "shuffle_output = list(group_by_key(mapped))\n",
    "print(\"Shuffle:\", shuffle_output)\n",
    "\n",
    "# Применение REDUCE\n",
    "reduced = [REDUCE(k, v) for k, v in shuffle_output]\n",
    "print(\"REDUCE:\", reduced)\n"
   ],
   "outputs": [
    {
     "name": "stdout",
     "output_type": "stream",
     "text": [
      "RECORDREADER: [(33, 63), (74, 17), (97, 50), (13, 71), (85, 76), (38, 42), (83, 57), (60, 56), (11, 13), (30, 70), (28, 91), (70, 53), (52, 67), (55, 45), (84, 80), (76, 7), (34, 88), (7, 88), (83, 17), (86, 17), (94, 44), (91, 16), (94, 55), (65, 8), (47, 79), (70, 5), (49, 58), (92, 48), (50, 39), (44, 93)]\n",
      "MAP: [((50,), (50,)), ((30,), (30,)), ((50,), (50,))]\n",
      "Shuffle: [((50,), [(50,), (50,)]), ((30,), [(30,)])]\n",
      "REDUCE: [((50,), (50,)), ((30,), (30,))]\n"
     ]
    }
   ],
   "execution_count": 26
  },
  {
   "cell_type": "markdown",
   "metadata": {
    "id": "7gau6lKXvn2R"
   },
   "source": [
    "### Union (Объединение)\n",
    "\n",
    "**The Map Function:** Превратите каждый входной кортеж $t$ в пару ключ-значение $(t, t)$.\n",
    "\n",
    "**The Reduce Function:** С каждым ключом $t$ будет ассоциировано одно или два значений. В обоих случаях создайте $(t, t)$ в качестве выходного значения."
   ]
  },
  {
   "cell_type": "code",
   "metadata": {
    "id": "Sns7a5agv3nw",
    "ExecuteTime": {
     "end_time": "2025-02-28T11:32:49.291903Z",
     "start_time": "2025-02-28T11:32:49.287881Z"
    }
   },
   "source": [
    "import random\n",
    "\n",
    "def RECORDREADER(count):\n",
    "  data = []\n",
    "  for _ in range(count):\n",
    "    data.append((random.randint(0, 100), random.randint(0, 100)))\n",
    "  return data\n",
    "\n",
    "def MAP(t):\n",
    "  return (t, t)\n",
    "\n",
    "def REDUCE(key):\n",
    "  return (key, key)\n",
    "\n",
    "def group_by_key(iterable):\n",
    "  t = {}\n",
    "  for (k2, v2) in iterable:\n",
    "    t[k2] = t.get(k2, []) + [v2]\n",
    "  return t.items()\n",
    "\n",
    "record = RECORDREADER(30)\n",
    "print(\"RECORDREADER:\", record)\n",
    "\n",
    "mapped = list(map(lambda x: MAP(x), record))\n",
    "print(\"MAP output:\", mapped)\n",
    "\n",
    "shuffle_output = list(group_by_key(mapped))\n",
    "print(\"Shuffle output:\", shuffle_output)\n",
    "\n",
    "reduced = list(map(lambda x: REDUCE(x[0]), shuffle_output))\n",
    "print(\"Reduce output:\", reduced)"
   ],
   "outputs": [
    {
     "name": "stdout",
     "output_type": "stream",
     "text": [
      "RECORDREADER: [(19, 52), (8, 52), (50, 25), (57, 45), (31, 29), (59, 10), (77, 41), (67, 67), (54, 76), (78, 80), (67, 64), (64, 3), (77, 86), (63, 4), (21, 58), (70, 4), (4, 86), (79, 32), (19, 13), (18, 15), (75, 39), (28, 26), (50, 5), (58, 96), (71, 74), (97, 14), (53, 23), (61, 52), (26, 69), (10, 56)]\n",
      "MAP output: [((19, 52), (19, 52)), ((8, 52), (8, 52)), ((50, 25), (50, 25)), ((57, 45), (57, 45)), ((31, 29), (31, 29)), ((59, 10), (59, 10)), ((77, 41), (77, 41)), ((67, 67), (67, 67)), ((54, 76), (54, 76)), ((78, 80), (78, 80)), ((67, 64), (67, 64)), ((64, 3), (64, 3)), ((77, 86), (77, 86)), ((63, 4), (63, 4)), ((21, 58), (21, 58)), ((70, 4), (70, 4)), ((4, 86), (4, 86)), ((79, 32), (79, 32)), ((19, 13), (19, 13)), ((18, 15), (18, 15)), ((75, 39), (75, 39)), ((28, 26), (28, 26)), ((50, 5), (50, 5)), ((58, 96), (58, 96)), ((71, 74), (71, 74)), ((97, 14), (97, 14)), ((53, 23), (53, 23)), ((61, 52), (61, 52)), ((26, 69), (26, 69)), ((10, 56), (10, 56))]\n",
      "Shuffle output: [((19, 52), [(19, 52)]), ((8, 52), [(8, 52)]), ((50, 25), [(50, 25)]), ((57, 45), [(57, 45)]), ((31, 29), [(31, 29)]), ((59, 10), [(59, 10)]), ((77, 41), [(77, 41)]), ((67, 67), [(67, 67)]), ((54, 76), [(54, 76)]), ((78, 80), [(78, 80)]), ((67, 64), [(67, 64)]), ((64, 3), [(64, 3)]), ((77, 86), [(77, 86)]), ((63, 4), [(63, 4)]), ((21, 58), [(21, 58)]), ((70, 4), [(70, 4)]), ((4, 86), [(4, 86)]), ((79, 32), [(79, 32)]), ((19, 13), [(19, 13)]), ((18, 15), [(18, 15)]), ((75, 39), [(75, 39)]), ((28, 26), [(28, 26)]), ((50, 5), [(50, 5)]), ((58, 96), [(58, 96)]), ((71, 74), [(71, 74)]), ((97, 14), [(97, 14)]), ((53, 23), [(53, 23)]), ((61, 52), [(61, 52)]), ((26, 69), [(26, 69)]), ((10, 56), [(10, 56)])]\n",
      "Reduce output: [((19, 52), (19, 52)), ((8, 52), (8, 52)), ((50, 25), (50, 25)), ((57, 45), (57, 45)), ((31, 29), (31, 29)), ((59, 10), (59, 10)), ((77, 41), (77, 41)), ((67, 67), (67, 67)), ((54, 76), (54, 76)), ((78, 80), (78, 80)), ((67, 64), (67, 64)), ((64, 3), (64, 3)), ((77, 86), (77, 86)), ((63, 4), (63, 4)), ((21, 58), (21, 58)), ((70, 4), (70, 4)), ((4, 86), (4, 86)), ((79, 32), (79, 32)), ((19, 13), (19, 13)), ((18, 15), (18, 15)), ((75, 39), (75, 39)), ((28, 26), (28, 26)), ((50, 5), (50, 5)), ((58, 96), (58, 96)), ((71, 74), (71, 74)), ((97, 14), (97, 14)), ((53, 23), (53, 23)), ((61, 52), (61, 52)), ((26, 69), (26, 69)), ((10, 56), (10, 56))]\n"
     ]
    }
   ],
   "execution_count": 27
  },
  {
   "cell_type": "markdown",
   "metadata": {
    "id": "dQ8TuEbjv4J8"
   },
   "source": [
    "### Intersection (Пересечение)\n",
    "\n",
    "**The Map Function:** Превратите каждый кортеж $t$ в пары ключ-значение $(t, t)$.\n",
    "\n",
    "**The Reduce Function:** Если для ключа $t$ есть список из двух элементов $[t, t]$ $-$ создайте пару $(t, t)$. Иначе, ничего не создавайте."
   ]
  },
  {
   "cell_type": "code",
   "metadata": {
    "id": "XKlBZh4IwERR",
    "ExecuteTime": {
     "end_time": "2025-02-28T11:32:49.346194Z",
     "start_time": "2025-02-28T11:32:49.340665Z"
    }
   },
   "source": [
    "import random\n",
    "\n",
    "def RECORDREADER(count):\n",
    "  data = []\n",
    "  for _ in range(count):\n",
    "    data.append((random.randint(0, 5), random.randint(0, 5)))\n",
    "  return data\n",
    "\n",
    "def MAP(t):\n",
    "  return (t, t)\n",
    "\n",
    "def REDUCE(key, values):\n",
    "  if len(values) == 2:\n",
    "    return (key, key)\n",
    "  return None\n",
    "\n",
    "def group_by_key(iterable):\n",
    "  t = {}\n",
    "  for (k2, v2) in iterable:\n",
    "    t[k2] = t.get(k2, []) + [v2]\n",
    "  return t.items()\n",
    "\n",
    "record = RECORDREADER(100)\n",
    "print(\"RECORDREADER:\", record)\n",
    "\n",
    "mapped = list(map(lambda x: MAP(x), record))\n",
    "print(\"MAP:\", mapped)\n",
    "\n",
    "shuffle_output = group_by_key(mapped)\n",
    "shuffle_output = list(shuffle_output)\n",
    "print(\"Shuffle output:\", shuffle_output)\n",
    "\n",
    "reduce_output = [val for val in map(lambda x: REDUCE(*x), shuffle_output) if val is not None]\n",
    "print(\"REDUCE:\", reduce_output)"
   ],
   "outputs": [
    {
     "name": "stdout",
     "output_type": "stream",
     "text": [
      "RECORDREADER: [(3, 5), (3, 3), (1, 5), (2, 1), (1, 3), (1, 0), (5, 1), (1, 3), (5, 0), (2, 2), (1, 4), (1, 2), (4, 4), (2, 2), (1, 0), (1, 5), (4, 5), (5, 1), (5, 4), (2, 0), (1, 1), (1, 3), (2, 0), (4, 3), (1, 0), (5, 5), (3, 5), (0, 4), (2, 0), (1, 0), (2, 0), (5, 1), (4, 1), (5, 0), (1, 3), (2, 4), (4, 4), (0, 1), (1, 1), (5, 1), (5, 5), (2, 3), (5, 4), (2, 2), (0, 2), (4, 5), (0, 4), (1, 0), (0, 0), (3, 3), (2, 5), (3, 1), (1, 0), (0, 0), (4, 5), (5, 5), (1, 5), (5, 2), (1, 3), (5, 3), (1, 4), (4, 1), (2, 0), (2, 2), (4, 2), (5, 0), (3, 1), (4, 2), (1, 2), (2, 5), (0, 5), (0, 0), (4, 3), (3, 4), (0, 4), (5, 3), (0, 0), (0, 1), (4, 5), (3, 4), (5, 5), (4, 5), (4, 5), (3, 3), (2, 0), (0, 0), (3, 3), (3, 4), (3, 5), (4, 4), (1, 3), (2, 5), (0, 4), (2, 5), (0, 0), (3, 2), (3, 2), (3, 0), (3, 2), (0, 0)]\n",
      "MAP: [((3, 5), (3, 5)), ((3, 3), (3, 3)), ((1, 5), (1, 5)), ((2, 1), (2, 1)), ((1, 3), (1, 3)), ((1, 0), (1, 0)), ((5, 1), (5, 1)), ((1, 3), (1, 3)), ((5, 0), (5, 0)), ((2, 2), (2, 2)), ((1, 4), (1, 4)), ((1, 2), (1, 2)), ((4, 4), (4, 4)), ((2, 2), (2, 2)), ((1, 0), (1, 0)), ((1, 5), (1, 5)), ((4, 5), (4, 5)), ((5, 1), (5, 1)), ((5, 4), (5, 4)), ((2, 0), (2, 0)), ((1, 1), (1, 1)), ((1, 3), (1, 3)), ((2, 0), (2, 0)), ((4, 3), (4, 3)), ((1, 0), (1, 0)), ((5, 5), (5, 5)), ((3, 5), (3, 5)), ((0, 4), (0, 4)), ((2, 0), (2, 0)), ((1, 0), (1, 0)), ((2, 0), (2, 0)), ((5, 1), (5, 1)), ((4, 1), (4, 1)), ((5, 0), (5, 0)), ((1, 3), (1, 3)), ((2, 4), (2, 4)), ((4, 4), (4, 4)), ((0, 1), (0, 1)), ((1, 1), (1, 1)), ((5, 1), (5, 1)), ((5, 5), (5, 5)), ((2, 3), (2, 3)), ((5, 4), (5, 4)), ((2, 2), (2, 2)), ((0, 2), (0, 2)), ((4, 5), (4, 5)), ((0, 4), (0, 4)), ((1, 0), (1, 0)), ((0, 0), (0, 0)), ((3, 3), (3, 3)), ((2, 5), (2, 5)), ((3, 1), (3, 1)), ((1, 0), (1, 0)), ((0, 0), (0, 0)), ((4, 5), (4, 5)), ((5, 5), (5, 5)), ((1, 5), (1, 5)), ((5, 2), (5, 2)), ((1, 3), (1, 3)), ((5, 3), (5, 3)), ((1, 4), (1, 4)), ((4, 1), (4, 1)), ((2, 0), (2, 0)), ((2, 2), (2, 2)), ((4, 2), (4, 2)), ((5, 0), (5, 0)), ((3, 1), (3, 1)), ((4, 2), (4, 2)), ((1, 2), (1, 2)), ((2, 5), (2, 5)), ((0, 5), (0, 5)), ((0, 0), (0, 0)), ((4, 3), (4, 3)), ((3, 4), (3, 4)), ((0, 4), (0, 4)), ((5, 3), (5, 3)), ((0, 0), (0, 0)), ((0, 1), (0, 1)), ((4, 5), (4, 5)), ((3, 4), (3, 4)), ((5, 5), (5, 5)), ((4, 5), (4, 5)), ((4, 5), (4, 5)), ((3, 3), (3, 3)), ((2, 0), (2, 0)), ((0, 0), (0, 0)), ((3, 3), (3, 3)), ((3, 4), (3, 4)), ((3, 5), (3, 5)), ((4, 4), (4, 4)), ((1, 3), (1, 3)), ((2, 5), (2, 5)), ((0, 4), (0, 4)), ((2, 5), (2, 5)), ((0, 0), (0, 0)), ((3, 2), (3, 2)), ((3, 2), (3, 2)), ((3, 0), (3, 0)), ((3, 2), (3, 2)), ((0, 0), (0, 0))]\n",
      "Shuffle output: [((3, 5), [(3, 5), (3, 5), (3, 5)]), ((3, 3), [(3, 3), (3, 3), (3, 3), (3, 3)]), ((1, 5), [(1, 5), (1, 5), (1, 5)]), ((2, 1), [(2, 1)]), ((1, 3), [(1, 3), (1, 3), (1, 3), (1, 3), (1, 3), (1, 3)]), ((1, 0), [(1, 0), (1, 0), (1, 0), (1, 0), (1, 0), (1, 0)]), ((5, 1), [(5, 1), (5, 1), (5, 1), (5, 1)]), ((5, 0), [(5, 0), (5, 0), (5, 0)]), ((2, 2), [(2, 2), (2, 2), (2, 2), (2, 2)]), ((1, 4), [(1, 4), (1, 4)]), ((1, 2), [(1, 2), (1, 2)]), ((4, 4), [(4, 4), (4, 4), (4, 4)]), ((4, 5), [(4, 5), (4, 5), (4, 5), (4, 5), (4, 5), (4, 5)]), ((5, 4), [(5, 4), (5, 4)]), ((2, 0), [(2, 0), (2, 0), (2, 0), (2, 0), (2, 0), (2, 0)]), ((1, 1), [(1, 1), (1, 1)]), ((4, 3), [(4, 3), (4, 3)]), ((5, 5), [(5, 5), (5, 5), (5, 5), (5, 5)]), ((0, 4), [(0, 4), (0, 4), (0, 4), (0, 4)]), ((4, 1), [(4, 1), (4, 1)]), ((2, 4), [(2, 4)]), ((0, 1), [(0, 1), (0, 1)]), ((2, 3), [(2, 3)]), ((0, 2), [(0, 2)]), ((0, 0), [(0, 0), (0, 0), (0, 0), (0, 0), (0, 0), (0, 0), (0, 0)]), ((2, 5), [(2, 5), (2, 5), (2, 5), (2, 5)]), ((3, 1), [(3, 1), (3, 1)]), ((5, 2), [(5, 2)]), ((5, 3), [(5, 3), (5, 3)]), ((4, 2), [(4, 2), (4, 2)]), ((0, 5), [(0, 5)]), ((3, 4), [(3, 4), (3, 4), (3, 4)]), ((3, 2), [(3, 2), (3, 2), (3, 2)]), ((3, 0), [(3, 0)])]\n",
      "REDUCE: [((1, 4), (1, 4)), ((1, 2), (1, 2)), ((5, 4), (5, 4)), ((1, 1), (1, 1)), ((4, 3), (4, 3)), ((4, 1), (4, 1)), ((0, 1), (0, 1)), ((3, 1), (3, 1)), ((5, 3), (5, 3)), ((4, 2), (4, 2))]\n"
     ]
    }
   ],
   "execution_count": 28
  },
  {
   "cell_type": "markdown",
   "metadata": {
    "id": "AVOpqoY3wE5k"
   },
   "source": [
    "### Difference (Разница)\n",
    "\n",
    "**The Map Function:** Для кортежа $t \\in R$, создайте пару $(t, R)$, и для кортежа $t \\in S$, создайте пару $(t, S)$. Задумка заключается в том, чтобы значение пары было именем отношения $R$ or $S$, которому принадлежит кортеж (а лучше, единичный бит, по которому можно два отношения различить $R$ or $S$), а не весь набор атрибутов отношения.\n",
    "\n",
    "**The Reduce Function:** Для каждого ключа $t$, если соответствующее значение является списком $[R]$, создайте пару $(t, t)$. В иных случаях не предпринимайте действий."
   ]
  },
  {
   "cell_type": "code",
   "metadata": {
    "id": "QE_AC09lwZIZ",
    "ExecuteTime": {
     "end_time": "2025-02-28T11:32:49.391932Z",
     "start_time": "2025-02-28T11:32:49.386404Z"
    }
   },
   "source": [
    "import random\n",
    "from typing import Iterator\n",
    "\n",
    "def RECORDREADER(count, tuple_size):\n",
    "  records = []\n",
    "  for _ in range(count):\n",
    "    data = tuple((random.randint(0, 3), random.randint(0, 3)) for _ in range(tuple_size))\n",
    "    rel_id = RS_list[random.randint(0, len(RS_list) - 1)]\n",
    "    records.append((data, rel_id))\n",
    "  return records\n",
    "\n",
    "def MAP(t):\n",
    "  return t \n",
    "\n",
    "def REDUCE(key, values: Iterator[int]):\n",
    "  if values == [RS_list[0]]:\n",
    "    return (key, key)\n",
    "\n",
    "def group_by_key(iterable):\n",
    "  t = {}\n",
    "  for (k2, v2) in iterable:\n",
    "    t[k2] = t.get(k2, []) + [v2]\n",
    "  return t.items()\n",
    "\n",
    "RS_list = [1, 2]\n",
    "\n",
    "record = RECORDREADER(100, 2)\n",
    "\n",
    "mapped = list(map(MAP, record))\n",
    "print(\"MAP:\", mapped)\n",
    "\n",
    "shuffle_output = group_by_key(mapped)\n",
    "shuffle_output = list(shuffle_output)\n",
    "print(\"Shuffle output:\", shuffle_output)\n",
    "\n",
    "reduced = [val[0] for val in list(map(lambda x: REDUCE(*x), shuffle_output)) if val is not None]\n",
    "print(\"REDUCE:\", reduced)"
   ],
   "outputs": [
    {
     "name": "stdout",
     "output_type": "stream",
     "text": [
      "MAP: [(((2, 3), (3, 2)), 2), (((1, 3), (1, 1)), 2), (((0, 1), (1, 3)), 1), (((2, 1), (2, 1)), 2), (((3, 2), (1, 2)), 2), (((3, 0), (3, 2)), 1), (((0, 0), (3, 2)), 1), (((1, 2), (1, 0)), 2), (((2, 3), (2, 0)), 1), (((3, 3), (2, 2)), 2), (((0, 0), (1, 1)), 1), (((0, 2), (2, 3)), 2), (((2, 2), (2, 1)), 2), (((3, 2), (2, 2)), 2), (((0, 2), (3, 0)), 2), (((2, 1), (0, 0)), 2), (((3, 2), (1, 3)), 1), (((3, 0), (3, 3)), 1), (((3, 3), (0, 2)), 1), (((3, 2), (3, 1)), 2), (((2, 2), (1, 1)), 1), (((0, 0), (0, 3)), 2), (((1, 3), (1, 2)), 1), (((3, 2), (1, 2)), 2), (((1, 1), (3, 2)), 2), (((0, 3), (1, 1)), 2), (((2, 2), (3, 2)), 2), (((0, 3), (1, 1)), 2), (((2, 1), (2, 0)), 1), (((0, 0), (2, 2)), 1), (((3, 1), (1, 0)), 2), (((2, 3), (2, 1)), 2), (((2, 3), (1, 0)), 1), (((1, 1), (1, 2)), 1), (((0, 3), (3, 2)), 2), (((2, 1), (2, 2)), 2), (((0, 3), (3, 2)), 1), (((3, 0), (3, 0)), 2), (((1, 1), (0, 3)), 2), (((3, 1), (2, 1)), 1), (((2, 1), (0, 0)), 2), (((1, 2), (1, 0)), 1), (((3, 1), (0, 1)), 1), (((0, 3), (1, 1)), 1), (((2, 1), (3, 2)), 1), (((3, 3), (1, 0)), 2), (((3, 0), (3, 3)), 1), (((2, 3), (2, 2)), 1), (((3, 2), (3, 1)), 2), (((1, 2), (3, 0)), 2), (((2, 1), (3, 2)), 2), (((3, 1), (2, 3)), 1), (((2, 0), (3, 1)), 1), (((2, 2), (3, 3)), 1), (((2, 0), (0, 1)), 1), (((2, 3), (1, 3)), 2), (((0, 0), (0, 1)), 1), (((0, 3), (3, 2)), 1), (((3, 1), (3, 1)), 1), (((2, 2), (1, 0)), 2), (((2, 0), (0, 2)), 2), (((3, 2), (1, 2)), 2), (((0, 0), (2, 3)), 2), (((1, 1), (0, 0)), 2), (((3, 0), (1, 1)), 2), (((1, 2), (3, 0)), 1), (((2, 1), (2, 3)), 1), (((0, 3), (0, 2)), 1), (((1, 0), (2, 1)), 2), (((3, 1), (2, 1)), 1), (((3, 3), (1, 1)), 1), (((1, 2), (0, 2)), 1), (((2, 1), (2, 0)), 1), (((0, 3), (3, 3)), 1), (((1, 0), (3, 1)), 2), (((3, 2), (2, 2)), 2), (((1, 3), (1, 3)), 2), (((0, 3), (2, 1)), 2), (((0, 2), (3, 0)), 2), (((2, 3), (0, 3)), 1), (((1, 1), (3, 3)), 2), (((0, 2), (3, 3)), 1), (((2, 3), (2, 1)), 2), (((2, 3), (1, 1)), 2), (((2, 2), (3, 2)), 1), (((1, 1), (3, 1)), 1), (((3, 3), (2, 0)), 1), (((1, 0), (0, 3)), 1), (((1, 3), (3, 3)), 1), (((1, 2), (2, 2)), 1), (((1, 2), (0, 3)), 1), (((0, 0), (2, 0)), 1), (((1, 3), (0, 0)), 1), (((3, 0), (3, 2)), 2), (((0, 2), (1, 3)), 2), (((3, 3), (2, 2)), 2), (((2, 0), (0, 0)), 2), (((0, 0), (2, 0)), 2), (((1, 1), (0, 1)), 1), (((0, 0), (3, 1)), 1)]\n",
      "Shuffle output: [(((2, 3), (3, 2)), [2]), (((1, 3), (1, 1)), [2]), (((0, 1), (1, 3)), [1]), (((2, 1), (2, 1)), [2]), (((3, 2), (1, 2)), [2, 2, 2]), (((3, 0), (3, 2)), [1, 2]), (((0, 0), (3, 2)), [1]), (((1, 2), (1, 0)), [2, 1]), (((2, 3), (2, 0)), [1]), (((3, 3), (2, 2)), [2, 2]), (((0, 0), (1, 1)), [1]), (((0, 2), (2, 3)), [2]), (((2, 2), (2, 1)), [2]), (((3, 2), (2, 2)), [2, 2]), (((0, 2), (3, 0)), [2, 2]), (((2, 1), (0, 0)), [2, 2]), (((3, 2), (1, 3)), [1]), (((3, 0), (3, 3)), [1, 1]), (((3, 3), (0, 2)), [1]), (((3, 2), (3, 1)), [2, 2]), (((2, 2), (1, 1)), [1]), (((0, 0), (0, 3)), [2]), (((1, 3), (1, 2)), [1]), (((1, 1), (3, 2)), [2]), (((0, 3), (1, 1)), [2, 2, 1]), (((2, 2), (3, 2)), [2, 1]), (((2, 1), (2, 0)), [1, 1]), (((0, 0), (2, 2)), [1]), (((3, 1), (1, 0)), [2]), (((2, 3), (2, 1)), [2, 2]), (((2, 3), (1, 0)), [1]), (((1, 1), (1, 2)), [1]), (((0, 3), (3, 2)), [2, 1, 1]), (((2, 1), (2, 2)), [2]), (((3, 0), (3, 0)), [2]), (((1, 1), (0, 3)), [2]), (((3, 1), (2, 1)), [1, 1]), (((3, 1), (0, 1)), [1]), (((2, 1), (3, 2)), [1, 2]), (((3, 3), (1, 0)), [2]), (((2, 3), (2, 2)), [1]), (((1, 2), (3, 0)), [2, 1]), (((3, 1), (2, 3)), [1]), (((2, 0), (3, 1)), [1]), (((2, 2), (3, 3)), [1]), (((2, 0), (0, 1)), [1]), (((2, 3), (1, 3)), [2]), (((0, 0), (0, 1)), [1]), (((3, 1), (3, 1)), [1]), (((2, 2), (1, 0)), [2]), (((2, 0), (0, 2)), [2]), (((0, 0), (2, 3)), [2]), (((1, 1), (0, 0)), [2]), (((3, 0), (1, 1)), [2]), (((2, 1), (2, 3)), [1]), (((0, 3), (0, 2)), [1]), (((1, 0), (2, 1)), [2]), (((3, 3), (1, 1)), [1]), (((1, 2), (0, 2)), [1]), (((0, 3), (3, 3)), [1]), (((1, 0), (3, 1)), [2]), (((1, 3), (1, 3)), [2]), (((0, 3), (2, 1)), [2]), (((2, 3), (0, 3)), [1]), (((1, 1), (3, 3)), [2]), (((0, 2), (3, 3)), [1]), (((2, 3), (1, 1)), [2]), (((1, 1), (3, 1)), [1]), (((3, 3), (2, 0)), [1]), (((1, 0), (0, 3)), [1]), (((1, 3), (3, 3)), [1]), (((1, 2), (2, 2)), [1]), (((1, 2), (0, 3)), [1]), (((0, 0), (2, 0)), [1, 2]), (((1, 3), (0, 0)), [1]), (((0, 2), (1, 3)), [2]), (((2, 0), (0, 0)), [2]), (((1, 1), (0, 1)), [1]), (((0, 0), (3, 1)), [1])]\n",
      "REDUCE: [((0, 1), (1, 3)), ((0, 0), (3, 2)), ((2, 3), (2, 0)), ((0, 0), (1, 1)), ((3, 2), (1, 3)), ((3, 3), (0, 2)), ((2, 2), (1, 1)), ((1, 3), (1, 2)), ((0, 0), (2, 2)), ((2, 3), (1, 0)), ((1, 1), (1, 2)), ((3, 1), (0, 1)), ((2, 3), (2, 2)), ((3, 1), (2, 3)), ((2, 0), (3, 1)), ((2, 2), (3, 3)), ((2, 0), (0, 1)), ((0, 0), (0, 1)), ((3, 1), (3, 1)), ((2, 1), (2, 3)), ((0, 3), (0, 2)), ((3, 3), (1, 1)), ((1, 2), (0, 2)), ((0, 3), (3, 3)), ((2, 3), (0, 3)), ((0, 2), (3, 3)), ((1, 1), (3, 1)), ((3, 3), (2, 0)), ((1, 0), (0, 3)), ((1, 3), (3, 3)), ((1, 2), (2, 2)), ((1, 2), (0, 3)), ((1, 3), (0, 0)), ((1, 1), (0, 1)), ((0, 0), (3, 1))]\n"
     ]
    }
   ],
   "execution_count": 29
  },
  {
   "cell_type": "markdown",
   "metadata": {
    "id": "j8I58V2VwhSm"
   },
   "source": [
    "### Natural Join\n",
    "\n",
    "**The Map Function:** Для каждого кортежа $(a, b)$ отношения $R$, создайте пару $(b,(R, a))$. Для каждого кортежа $(b, c)$ отношения $S$, создайте пару $(b,(S, c))$.\n",
    "\n",
    "**The Reduce Function:** Каждый ключ $b$ будет асоциирован со списком пар, которые принимают форму либо $(R, a)$, либо $(S, c)$. Создайте все пары, одни, состоящие из  первого компонента $R$, а другие, из первого компонента $S$, то есть $(R, a)$ и $(S, c)$. На выходе вы получаете последовательность пар ключ-значение из списков ключей и значений. Ключ не нужен. Каждое значение, это тройка $(a, b, c)$ такая, что $(R, a)$ и $(S, c)$ это принадлежат входному списку значений."
   ]
  },
  {
   "cell_type": "code",
   "metadata": {
    "id": "yHiuuTctw86I",
    "ExecuteTime": {
     "end_time": "2025-02-28T11:32:49.436666Z",
     "start_time": "2025-02-28T11:32:49.431140Z"
    }
   },
   "source": [
    "import random\n",
    "\n",
    "def RECORDREADER(count):\n",
    "  records = []\n",
    "  for _ in range(count):\n",
    "    data = (random.randint(0, 3), random.randint(0, 3))\n",
    "    rel_id = RS_list[random.randint(0, len(RS_list) - 1)]\n",
    "    records.append((data, rel_id))\n",
    "  return records\n",
    "\n",
    "def MAP(t):\n",
    "  if t[1] == RS_list[0]:\n",
    "    return (t[0][1], (t[1], t[0][0]))\n",
    "  else:\n",
    "    return (t[0][0], (t[1], t[0][1]))\n",
    "\n",
    "def REDUCE(key, values):\n",
    "  res = []\n",
    "  for v in values:\n",
    "    res.append((v[0], key, v[1]))\n",
    "  return res\n",
    "\n",
    "def group_by_key(iterable):\n",
    "  t = {}\n",
    "  for (k2, v2) in iterable:\n",
    "    t[k2] = t.get(k2, []) + [v2]\n",
    "  return t.items()\n",
    "\n",
    "RS_list = [1, 2]\n",
    "\n",
    "record = RECORDREADER(100)\n",
    "\n",
    "mapped = list(map(MAP, record))\n",
    "print(\"MAP:\", mapped)\n",
    "\n",
    "shuffle_output = group_by_key(mapped)\n",
    "shuffle_output = list(shuffle_output)\n",
    "print(\"Shuffle output:\", shuffle_output)\n",
    "\n",
    "reduced = [val for val in list(map(lambda x: REDUCE(*x), shuffle_output)) if val is not None]\n",
    "print(\"REDUCE:\", reduced)\n"
   ],
   "outputs": [
    {
     "name": "stdout",
     "output_type": "stream",
     "text": [
      "MAP: [(3, (1, 2)), (2, (2, 0)), (0, (1, 0)), (0, (1, 3)), (0, (2, 3)), (0, (1, 0)), (3, (1, 0)), (1, (2, 3)), (1, (1, 0)), (1, (2, 0)), (1, (2, 1)), (2, (2, 2)), (1, (1, 2)), (3, (2, 1)), (1, (2, 3)), (3, (1, 2)), (1, (1, 3)), (2, (2, 1)), (2, (1, 1)), (0, (1, 2)), (2, (2, 1)), (3, (2, 0)), (0, (2, 3)), (1, (2, 2)), (1, (2, 2)), (2, (1, 2)), (0, (2, 1)), (0, (1, 2)), (1, (2, 1)), (3, (1, 3)), (3, (2, 3)), (1, (2, 2)), (1, (2, 1)), (0, (1, 3)), (1, (2, 0)), (0, (1, 1)), (2, (1, 3)), (2, (1, 3)), (3, (1, 3)), (0, (1, 1)), (1, (2, 1)), (2, (2, 2)), (0, (2, 2)), (3, (1, 0)), (2, (2, 3)), (0, (1, 2)), (0, (1, 3)), (1, (2, 1)), (2, (1, 0)), (3, (1, 0)), (1, (2, 2)), (1, (2, 2)), (2, (1, 0)), (3, (2, 2)), (0, (2, 0)), (0, (1, 3)), (1, (2, 1)), (3, (2, 1)), (1, (2, 1)), (0, (2, 0)), (3, (2, 1)), (2, (1, 0)), (1, (2, 0)), (2, (2, 0)), (3, (2, 3)), (1, (2, 1)), (2, (2, 0)), (3, (2, 3)), (0, (1, 1)), (2, (2, 0)), (0, (2, 2)), (3, (1, 1)), (1, (1, 0)), (2, (1, 3)), (0, (1, 1)), (3, (2, 1)), (1, (2, 2)), (2, (2, 2)), (0, (1, 1)), (1, (2, 1)), (0, (1, 2)), (2, (1, 1)), (0, (2, 1)), (1, (2, 2)), (0, (2, 1)), (0, (1, 2)), (1, (1, 1)), (3, (2, 1)), (2, (2, 2)), (3, (2, 2)), (3, (2, 2)), (1, (1, 1)), (2, (2, 2)), (3, (1, 1)), (2, (2, 1)), (3, (1, 0)), (2, (2, 2)), (1, (1, 1)), (0, (2, 0)), (3, (2, 0))]\n",
      "Shuffle output: [(3, [(1, 2), (1, 0), (2, 1), (1, 2), (2, 0), (1, 3), (2, 3), (1, 3), (1, 0), (1, 0), (2, 2), (2, 1), (2, 1), (2, 3), (2, 3), (1, 1), (2, 1), (2, 1), (2, 2), (2, 2), (1, 1), (1, 0), (2, 0)]), (2, [(2, 0), (2, 2), (2, 1), (1, 1), (2, 1), (1, 2), (1, 3), (1, 3), (2, 2), (2, 3), (1, 0), (1, 0), (1, 0), (2, 0), (2, 0), (2, 0), (1, 3), (2, 2), (1, 1), (2, 2), (2, 2), (2, 1), (2, 2)]), (0, [(1, 0), (1, 3), (2, 3), (1, 0), (1, 2), (2, 3), (2, 1), (1, 2), (1, 3), (1, 1), (1, 1), (2, 2), (1, 2), (1, 3), (2, 0), (1, 3), (2, 0), (1, 1), (2, 2), (1, 1), (1, 1), (1, 2), (2, 1), (2, 1), (1, 2), (2, 0)]), (1, [(2, 3), (1, 0), (2, 0), (2, 1), (1, 2), (2, 3), (1, 3), (2, 2), (2, 2), (2, 1), (2, 2), (2, 1), (2, 0), (2, 1), (2, 1), (2, 2), (2, 2), (2, 1), (2, 1), (2, 0), (2, 1), (1, 0), (2, 2), (2, 1), (2, 2), (1, 1), (1, 1), (1, 1)])]\n",
      "REDUCE: [[(1, 3, 2), (1, 3, 0), (2, 3, 1), (1, 3, 2), (2, 3, 0), (1, 3, 3), (2, 3, 3), (1, 3, 3), (1, 3, 0), (1, 3, 0), (2, 3, 2), (2, 3, 1), (2, 3, 1), (2, 3, 3), (2, 3, 3), (1, 3, 1), (2, 3, 1), (2, 3, 1), (2, 3, 2), (2, 3, 2), (1, 3, 1), (1, 3, 0), (2, 3, 0)], [(2, 2, 0), (2, 2, 2), (2, 2, 1), (1, 2, 1), (2, 2, 1), (1, 2, 2), (1, 2, 3), (1, 2, 3), (2, 2, 2), (2, 2, 3), (1, 2, 0), (1, 2, 0), (1, 2, 0), (2, 2, 0), (2, 2, 0), (2, 2, 0), (1, 2, 3), (2, 2, 2), (1, 2, 1), (2, 2, 2), (2, 2, 2), (2, 2, 1), (2, 2, 2)], [(1, 0, 0), (1, 0, 3), (2, 0, 3), (1, 0, 0), (1, 0, 2), (2, 0, 3), (2, 0, 1), (1, 0, 2), (1, 0, 3), (1, 0, 1), (1, 0, 1), (2, 0, 2), (1, 0, 2), (1, 0, 3), (2, 0, 0), (1, 0, 3), (2, 0, 0), (1, 0, 1), (2, 0, 2), (1, 0, 1), (1, 0, 1), (1, 0, 2), (2, 0, 1), (2, 0, 1), (1, 0, 2), (2, 0, 0)], [(2, 1, 3), (1, 1, 0), (2, 1, 0), (2, 1, 1), (1, 1, 2), (2, 1, 3), (1, 1, 3), (2, 1, 2), (2, 1, 2), (2, 1, 1), (2, 1, 2), (2, 1, 1), (2, 1, 0), (2, 1, 1), (2, 1, 1), (2, 1, 2), (2, 1, 2), (2, 1, 1), (2, 1, 1), (2, 1, 0), (2, 1, 1), (1, 1, 0), (2, 1, 2), (2, 1, 1), (2, 1, 2), (1, 1, 1), (1, 1, 1), (1, 1, 1)]]\n"
     ]
    }
   ],
   "execution_count": 30
  },
  {
   "cell_type": "markdown",
   "metadata": {
    "id": "kYdlr0YUxE27"
   },
   "source": [
    "### Grouping and Aggregation (Группировка и аггрегация)\n",
    "\n",
    "**The Map Function:** Для каждого кортежа $(a, b, c$) создайте пару $(a, b)$.\n",
    "\n",
    "**The Reduce Function:** Ключ представляет ту или иную группу. Примение аггрегирующую операцию $\\theta$ к списку значений $[b1, b2, . . . , bn]$ ассоциированных с ключом $a$. Возвращайте в выходной поток $(a, x)$, где $x$ результат применения  $\\theta$ к списку. Например, если $\\theta$ это $SUM$, тогда $x = b1 + b2 + · · · + bn$, а если $\\theta$ is $MAX$, тогда $x$ это максимальное из значений $b1, b2, . . . , bn$."
   ]
  },
  {
   "cell_type": "code",
   "metadata": {
    "id": "MLPckfEGxico",
    "ExecuteTime": {
     "end_time": "2025-02-28T11:32:49.479384Z",
     "start_time": "2025-02-28T11:32:49.474859Z"
    }
   },
   "source": [
    "import random\n",
    "\n",
    "def RECORDREADER(count):\n",
    "  data = []\n",
    "  for _ in range(count):\n",
    "    data.append((random.randint(0, 3), random.randint(0, 3), random.randint(0, 3)))\n",
    "  return data\n",
    "\n",
    "def MAP(t):\n",
    "  return (t[0], t[2])\n",
    "\n",
    "def REDUCE(key, values):\n",
    "  return (key, sum(values)) # sum(values) - тета\n",
    "\n",
    "def group_by_key(iterable):\n",
    "  t = {}\n",
    "  for (k2, v2) in iterable:\n",
    "    t[k2] = t.get(k2, []) + [v2]\n",
    "  return t.items()\n",
    "\n",
    "record = RECORDREADER(100)\n",
    "\n",
    "mapped = list(map(MAP, record))\n",
    "print(\"MAP:\", mapped)\n",
    "\n",
    "shuffle_output = group_by_key(mapped)\n",
    "shuffle_output = list(shuffle_output)\n",
    "print(\"Shuffle output:\", shuffle_output)\n",
    "\n",
    "reduced = list(map(lambda x: REDUCE(*x), shuffle_output))\n",
    "print(\"REDUCED:\", reduced)\n"
   ],
   "outputs": [
    {
     "name": "stdout",
     "output_type": "stream",
     "text": [
      "MAP: [(0, 0), (1, 1), (0, 2), (2, 3), (1, 3), (1, 1), (3, 0), (0, 0), (2, 1), (2, 1), (1, 0), (3, 1), (0, 2), (2, 3), (0, 3), (3, 3), (1, 0), (1, 2), (2, 0), (3, 1), (2, 2), (2, 3), (3, 1), (3, 0), (0, 1), (3, 1), (1, 0), (0, 0), (0, 0), (3, 1), (0, 1), (3, 1), (2, 2), (2, 0), (1, 3), (3, 1), (0, 2), (0, 0), (0, 2), (3, 2), (3, 2), (0, 3), (3, 3), (2, 2), (3, 0), (2, 1), (3, 2), (3, 1), (1, 2), (3, 1), (3, 0), (1, 3), (2, 2), (1, 3), (2, 1), (2, 1), (0, 2), (1, 2), (1, 0), (1, 2), (3, 3), (3, 1), (2, 2), (3, 1), (0, 3), (2, 0), (1, 2), (1, 1), (1, 2), (0, 0), (0, 3), (1, 0), (2, 1), (3, 1), (1, 1), (2, 3), (3, 0), (1, 2), (0, 0), (2, 1), (2, 2), (0, 2), (1, 2), (0, 0), (3, 1), (1, 1), (0, 2), (0, 0), (2, 3), (2, 2), (3, 2), (1, 1), (3, 0), (1, 3), (0, 1), (1, 0), (3, 0), (3, 3), (1, 0), (3, 1)]\n",
      "Shuffle output: [(0, [0, 2, 0, 2, 3, 1, 0, 0, 1, 2, 0, 2, 3, 2, 3, 0, 3, 0, 2, 0, 2, 0, 1]), (1, [1, 3, 1, 0, 0, 2, 0, 3, 2, 3, 3, 2, 0, 2, 2, 1, 2, 0, 1, 2, 2, 1, 1, 3, 0, 0]), (2, [3, 1, 1, 3, 0, 2, 3, 2, 0, 2, 1, 2, 1, 1, 2, 0, 1, 3, 1, 2, 3, 2]), (3, [0, 1, 3, 1, 1, 0, 1, 1, 1, 1, 2, 2, 3, 0, 2, 1, 1, 0, 3, 1, 1, 1, 0, 1, 2, 0, 0, 3, 1])]\n",
      "REDUCED: [(0, 29), (1, 37), (2, 36), (3, 34)]\n"
     ]
    }
   ],
   "execution_count": 31
  },
  {
   "cell_type": "markdown",
   "metadata": {
    "id": "03IffTEOJgOb"
   },
   "source": [
    "# "
   ]
  },
  {
   "cell_type": "markdown",
   "metadata": {
    "id": "IIrRgvG4RIS4"
   },
   "source": [
    "### Matrix-Vector multiplication\n",
    "\n",
    "Случай, когда вектор не помещается в памяти Map задачи\n"
   ]
  },
  {
   "cell_type": "code",
   "metadata": {
    "id": "KQhDbiL3zS9r",
    "ExecuteTime": {
     "end_time": "2025-02-28T11:32:49.518591Z",
     "start_time": "2025-02-28T11:32:49.516581Z"
    }
   },
   "source": [],
   "outputs": [],
   "execution_count": null
  },
  {
   "cell_type": "markdown",
   "metadata": {
    "id": "GIo2t7nNxvA9"
   },
   "source": [
    "## Matrix multiplication (Перемножение матриц)\n",
    "\n",
    "Если у нас есть матрица $M$ с элементами $m_{ij}$ в строке $i$ и столбце $j$, и матрица $N$ с элементами $n_{jk}$ в строке $j$ и столбце $k$, тогда их произведение $P = MN$ есть матрица $P$ с элементами $p_{ik}$ в строке $i$ и столбце $k$, где\n",
    "\n",
    "$$p_{ik} =\\sum_{j} m_{ij}n_{jk}$$\n",
    "\n",
    "Необходимым требованием является одинаковое количество столбцов в $M$ и строк в $N$, чтобы операция суммирования по  $j$ была осмысленной. Мы можем размышлять о матрице, как об отношении с тремя атрибутами: номер строки, номер столбца, само значение. Таким образом матрица $M$ предстваляется как отношение $ M(I, J, V )$, с кортежами $(i, j, m_{ij})$, и, аналогично, матрица $N$ представляется как отношение $N(J, K, W)$, с кортежами $(j, k, n_{jk})$. Так как большие матрицы как правило разреженные (большинство значений равно 0), и так как мы можем нулевыми значениями пренебречь (не хранить), такое реляционное представление достаточно эффективно для больших матриц. Однако, возможно, что координаты $i$, $j$, и $k$ неявно закодированы в смещение позиции элемента относительно начала файла, вместо явного хранения. Тогда, функция Map (или Reader) должна быть разработана таким образом, чтобы реконструировать компоненты $I$, $J$, и $K$ кортежей из смещения.\n",
    "\n",
    "Произведение $MN$ это фактически join, за которым следуют группировка по ключу и аггрегация. Таким образом join отношений $M(I, J, V )$ и $N(J, K, W)$, имеющих общим только атрибут $J$, создаст кортежи $(i, j, k, v, w)$ из каждого кортежа $(i, j, v) \\in M$ и кортежа $(j, k, w) \\in N$. Такой 5 компонентный кортеж представляет пару элементов матрицы $(m_{ij} , n_{jk})$. Что нам хотелось бы получить на самом деле, это произведение этих элементов, то есть, 4 компонентный кортеж$(i, j, k, v \\times w)$, так как он представляет произведение $m_{ij}n_{jk}$. Мы представляем отношение как результат одной MapReduce операции, в которой мы можем произвести группировку и аггрегацию, с $I$ и $K$  атрибутами, по которым идёт группировка, и суммой  $V \\times W$. \n",
    "\n",
    "\n",
    "\n"
   ]
  },
  {
   "cell_type": "code",
   "metadata": {
    "id": "1MBkGaLAYVCt",
    "ExecuteTime": {
     "end_time": "2025-02-28T11:32:49.546740Z",
     "start_time": "2025-02-28T11:32:49.543222Z"
    }
   },
   "source": [
    "# MapReduce model\n",
    "def flatten(nested_iterable):\n",
    "  for iterable in nested_iterable:\n",
    "    for element in iterable:\n",
    "      yield element\n",
    "\n",
    "def groupbykey(iterable):\n",
    "  t = {}\n",
    "  for (k2, v2) in iterable:\n",
    "    t[k2] = t.get(k2, []) + [v2]\n",
    "  return t.items()\n",
    "\n",
    "def MapReduce(RECORDREADER, MAP, REDUCE):\n",
    "  return flatten(map(lambda x: REDUCE(*x), groupbykey(flatten(map(lambda x: MAP(*x), RECORDREADER())))))"
   ],
   "outputs": [],
   "execution_count": 32
  },
  {
   "cell_type": "markdown",
   "metadata": {
    "id": "sMspsOT0ZB35"
   },
   "source": [
    "Реализуйте перемножение матриц с использованием модельного кода MapReduce для одной машины в случае, когда одна матрица хранится в памяти, а другая генерируется RECORDREADER-ом."
   ]
  },
  {
   "cell_type": "code",
   "metadata": {
    "id": "psP1XekbsEjS",
    "ExecuteTime": {
     "end_time": "2025-02-28T11:32:49.602529Z",
     "start_time": "2025-02-28T11:32:49.597003Z"
    }
   },
   "source": [
    "import numpy as np\n",
    "I = 2\n",
    "J = 3\n",
    "K = 4*10\n",
    "small_mat = np.random.rand(I,J) # it is legal to access this from RECORDREADER, MAP, REDUCE\n",
    "big_mat = np.random.rand(J,K)\n",
    "\n",
    "def RECORDREADER():\n",
    "  for j in range(big_mat.shape[0]):\n",
    "    for k in range(big_mat.shape[1]):\n",
    "      yield ((j,k), big_mat[j,k])\n",
    "      \n",
    "def MAP(k1, v1):\n",
    "  (j, k) = k1\n",
    "  w = v1\n",
    "  for i in range(small_mat.shape[0]):\n",
    "    yield ((i, k), w * small_mat[i][j])\n",
    "  \n",
    "def REDUCE(key, values):\n",
    "  (i, k) = key\n",
    "  el_value = 0\n",
    "  for v in values:\n",
    "    el_value += v\n",
    "  yield ((i, k), el_value)"
   ],
   "outputs": [],
   "execution_count": 33
  },
  {
   "cell_type": "markdown",
   "metadata": {
    "id": "rnt306LHhHrm"
   },
   "source": [
    "Проверьте своё решение"
   ]
  },
  {
   "cell_type": "code",
   "metadata": {
    "id": "Ewy_ZNYqW5a2",
    "colab": {
     "base_uri": "https://localhost:8080/",
     "height": 34
    },
    "outputId": "9ce264f2-9412-44e2-9b0a-cc780573ab3a",
    "ExecuteTime": {
     "end_time": "2025-02-28T11:32:49.615093Z",
     "start_time": "2025-02-28T11:32:49.609063Z"
    }
   },
   "source": [
    "# CHECK THE SOLUTION\n",
    "reference_solution = np.matmul(small_mat, big_mat) \n",
    "solution = MapReduce(RECORDREADER, MAP, REDUCE)\n",
    "\n",
    "def asmatrix(reduce_output):\n",
    "  reduce_output = list(reduce_output)\n",
    "  I = max(i for ((i,k), vw) in reduce_output)+1\n",
    "  K = max(k for ((i,k), vw) in reduce_output)+1\n",
    "  mat = np.empty(shape=(I,K))\n",
    "  for ((i,k), vw) in reduce_output:\n",
    "    mat[i,k] = vw\n",
    "  return mat\n",
    "\n",
    "np.allclose(reference_solution, asmatrix(solution)) # should return true"
   ],
   "outputs": [
    {
     "data": {
      "text/plain": [
       "True"
      ]
     },
     "execution_count": 34,
     "metadata": {},
     "output_type": "execute_result"
    }
   ],
   "execution_count": 34
  },
  {
   "cell_type": "code",
   "metadata": {
    "id": "TK7v4CEcfxqf",
    "colab": {
     "base_uri": "https://localhost:8080/",
     "height": 34
    },
    "outputId": "2c865d0a-4065-4e6b-c83f-5508ed5eb4fa",
    "ExecuteTime": {
     "end_time": "2025-02-28T11:32:49.660333Z",
     "start_time": "2025-02-28T11:32:49.656814Z"
    }
   },
   "source": [
    "reduce_output = list(MapReduce(RECORDREADER, MAP, REDUCE))\n",
    "max(i for ((i,k), vw) in reduce_output)"
   ],
   "outputs": [
    {
     "data": {
      "text/plain": [
       "1"
      ]
     },
     "execution_count": 35,
     "metadata": {},
     "output_type": "execute_result"
    }
   ],
   "execution_count": 35
  },
  {
   "cell_type": "markdown",
   "metadata": {
    "id": "i4yyg3kOZqJJ"
   },
   "source": [
    "Реализуйте перемножение матриц  с использованием модельного кода MapReduce для одной машины в случае, когда обе матрицы генерируются в RECORDREADER. Например, сначала одна, а потом другая."
   ]
  },
  {
   "cell_type": "code",
   "metadata": {
    "id": "3B7rIAJCaHZq",
    "ExecuteTime": {
     "end_time": "2025-02-28T11:32:49.694517Z",
     "start_time": "2025-02-28T11:32:49.687978Z"
    }
   },
   "source": [
    "import numpy as np\n",
    "I = 2\n",
    "J = 3\n",
    "K = 4*10\n",
    "small_mat = np.random.rand(I,J)\n",
    "big_mat = np.random.rand(J,K)\n",
    "reference_solution = np.matmul(small_mat, big_mat)\n",
    "\n",
    "def RECORDREADER():\n",
    "  for i in range(small_mat.shape[0]):\n",
    "    for j in range(small_mat.shape[1]):\n",
    "      yield ((0, i, j), small_mat[i,j])\n",
    "\n",
    "  for j in range(big_mat.shape[0]):\n",
    "    for k in range(big_mat.shape[1]):\n",
    "      yield ((1, j, k), big_mat[j,k])\n",
    "\n",
    "def MAP_JOIN(k1, v1):\n",
    "  (mat_num, i, j) = k1\n",
    "  w = v1\n",
    "  if mat_num == 0:\n",
    "    yield (j, (mat_num, i, w))\n",
    "  else:\n",
    "    yield (i, (mat_num, j, w))\n",
    "\n",
    "def REDUCE_JOIN(key, values):\n",
    "  from_first_mat = [v for v in values if v[0] == 0]\n",
    "  from_second_mat = [v for v in values if v[0] == 1]\n",
    "  for f in from_first_mat:\n",
    "    for s in from_second_mat:\n",
    "      yield ((f[1], s[1]), f[2] * s[2])\n",
    "\n",
    "\n",
    "def MAP_MUL(k1, v1):\n",
    "  (i, k) = k1\n",
    "  yield ((i, k), v1)\n",
    "\n",
    "def REDUCE_MUL(key, values):\n",
    "  res_el_value = 0\n",
    "  for v in values:\n",
    "    res_el_value += v\n",
    "  yield (key, res_el_value)\n",
    "\n",
    "def GET_JOINED():\n",
    "  for j in joined:\n",
    "    yield j\n",
    "\n",
    "\n",
    "joined = MapReduce(RECORDREADER, MAP_JOIN, REDUCE_JOIN)\n",
    "solution = MapReduce(GET_JOINED, MAP_MUL, REDUCE_MUL)\n",
    "np.allclose(reference_solution, asmatrix(solution))"
   ],
   "outputs": [
    {
     "data": {
      "text/plain": [
       "True"
      ]
     },
     "execution_count": 36,
     "metadata": {},
     "output_type": "execute_result"
    }
   ],
   "execution_count": 36
  },
  {
   "cell_type": "markdown",
   "metadata": {
    "id": "mXyzQi1DaIwo"
   },
   "source": [
    "Реализуйте перемножение матриц с использованием модельного кода MapReduce Distributed, когда каждая матрица генерируется в своём RECORDREADER. "
   ]
  },
  {
   "cell_type": "code",
   "metadata": {
    "id": "TDM_s78Rb5eR",
    "ExecuteTime": {
     "end_time": "2025-02-28T11:32:49.747806Z",
     "start_time": "2025-02-28T11:32:49.735235Z"
    }
   },
   "source": [
    "import numpy as np\n",
    "\n",
    "I = 2\n",
    "J = 3\n",
    "K = 4*10\n",
    "\n",
    "small_mat = np.random.rand(I, J)\n",
    "big_mat = np.random.rand(J, K)\n",
    "\n",
    "reference_solution = np.matmul(small_mat, big_mat)\n",
    "\n",
    "def flatten(nested_iterable):\n",
    "  for iterable in nested_iterable:\n",
    "    for element in iterable:\n",
    "      yield element\n",
    "\n",
    "def groupbykey(iterable):\n",
    "  t = {}\n",
    "  for (k2, v2) in iterable:\n",
    "    t[k2] = t.get(k2, []) + [v2]\n",
    "  return t.items()\n",
    "\n",
    "def groupbykey_distributed(map_partitions, PARTITIONER):\n",
    "  global reducers\n",
    "  partitions = [dict() for _ in range(reducers)]\n",
    "  for map_partition in map_partitions:\n",
    "    for (k2, v2) in map_partition:\n",
    "      p = partitions[PARTITIONER(k2)]\n",
    "      p[k2] = p.get(k2, []) + [v2]\n",
    "  return [(partition_id, sorted(partition.items(), key=lambda x: x[0])) for (partition_id, partition) in enumerate(partitions)]\n",
    "\n",
    "def PARTITIONER(obj):\n",
    "  global reducers\n",
    "  return hash(obj) % reducers\n",
    "\n",
    "def MapReduceDistributed(INPUTFORMAT, MAP, REDUCE, PARTITIONER=PARTITIONER, COMBINER=None):\n",
    "  map_partitions = map(lambda record_reader: flatten(map(lambda k1v1: MAP(*k1v1), record_reader)), INPUTFORMAT())\n",
    "\n",
    "  if COMBINER != None:\n",
    "    map_partitions = map(lambda map_partition: flatten(map(lambda k2v2: COMBINER(*k2v2), groupbykey(map_partition))), map_partitions)\n",
    "\n",
    "  reduce_partitions = groupbykey_distributed(map_partitions, PARTITIONER)\n",
    "\n",
    "  reduce_outputs = map(lambda reduce_partition: (reduce_partition[0], flatten(map(lambda reduce_input_group: REDUCE(*reduce_input_group), reduce_partition[1]))), reduce_partitions)\n",
    "\n",
    "  print(\"{} key-value pairs were sent over a network.\".format(sum([len(vs) for (k,vs) in flatten([partition for (partition_id, partition) in reduce_partitions])])))\n",
    "  return reduce_outputs\n",
    "\n",
    "def asmatrix(reduce_output):\n",
    "  reduce_output = list(reduce_output)\n",
    "  I = max(i for ((i,k), vw) in reduce_output) + 1\n",
    "  K = max(k for ((i,k), vw) in reduce_output) + 1\n",
    "  mat = np.empty(shape=(I,K))\n",
    "  for ((i,k), vw) in reduce_output:\n",
    "    mat[i,k] = vw\n",
    "  return mat\n",
    "\n",
    "def INPUTFORMAT():\n",
    "  first_mat = []\n",
    "  for i in range(small_mat.shape[0]):\n",
    "    for j in range(small_mat.shape[1]):\n",
    "      first_mat.append(((0, i, j), small_mat[i,j]))\n",
    "  yield first_mat\n",
    "\n",
    "  second_mat = []\n",
    "  for j in range(big_mat.shape[0]):\n",
    "    for k in range(big_mat.shape[1]):\n",
    "      second_mat.append(((1, j, k), big_mat[j,k]))\n",
    "  yield second_mat\n",
    "\n",
    "def MAP_JOIN(k1, v1):\n",
    "  (mat_num, i, j) = k1\n",
    "  w = v1\n",
    "  if mat_num == 0:\n",
    "    yield (j, (mat_num, i, w))\n",
    "  else:\n",
    "    yield (i, (mat_num, j, w))\n",
    "\n",
    "def REDUCE_JOIN(key, values):\n",
    "  from_first_mat = [v for v in values if v[0] == 0]\n",
    "  from_second_mat = [v for v in values if v[0] == 1]\n",
    "  for f in from_first_mat:\n",
    "    for s in from_second_mat:\n",
    "      yield ((f[1], s[1]), f[2] * s[2])\n",
    "\n",
    "def GET_JOINED():\n",
    "  for j in joined:\n",
    "    print(\"aa\", j)\n",
    "    yield j[1]\n",
    "\n",
    "def MAP_MUL(k1, v1):\n",
    "  yield (k1, v1)\n",
    "\n",
    "def REDUCE_MUL(key, values):\n",
    "  res_val = 0\n",
    "  for v in values:\n",
    "    res_val += v\n",
    "  yield (key, res_val)\n",
    "\n",
    "maps = 4\n",
    "reducers = 2\n",
    "\n",
    "partitioned_output = MapReduceDistributed(INPUTFORMAT, MAP_JOIN, REDUCE_JOIN, COMBINER=None)\n",
    "joined = [(partition_id, list(partition)) for (partition_id, partition) in partitioned_output]\n",
    "print(joined)\n",
    "\n",
    "mul_output = MapReduceDistributed(GET_JOINED, MAP_MUL, REDUCE_MUL, COMBINER=None)\n",
    "pre_result = [(partition_id, list(partition)) for (partition_id, partition) in mul_output]\n",
    "print(pre_result)\n",
    "\n",
    "solution = []\n",
    "for p in pre_result:\n",
    "  for v in p[1]:\n",
    "    solution.append(v)\n",
    "\n",
    "print(solution)\n",
    "\n",
    "np.allclose(reference_solution, asmatrix(solution))"
   ],
   "outputs": [
    {
     "name": "stdout",
     "output_type": "stream",
     "text": [
      "126 key-value pairs were sent over a network.\n",
      "[(0, [((0, 0), np.float64(0.2006236725967179)), ((0, 1), np.float64(0.05306469128659889)), ((0, 2), np.float64(0.22647345467327412)), ((0, 3), np.float64(0.15455511727770282)), ((0, 4), np.float64(0.03770202299866222)), ((0, 5), np.float64(0.5793161664477227)), ((0, 6), np.float64(0.44320957698328267)), ((0, 7), np.float64(0.3913604851019711)), ((0, 8), np.float64(0.40770229457071205)), ((0, 9), np.float64(0.28514871845904827)), ((0, 10), np.float64(0.043711127010814685)), ((0, 11), np.float64(0.20135656075499833)), ((0, 12), np.float64(0.6410074987953122)), ((0, 13), np.float64(0.43009017858855764)), ((0, 14), np.float64(0.004661585608768176)), ((0, 15), np.float64(0.619833949719205)), ((0, 16), np.float64(0.5015960128081044)), ((0, 17), np.float64(0.09745609432018913)), ((0, 18), np.float64(0.33344309049438536)), ((0, 19), np.float64(0.5192555791955454)), ((0, 20), np.float64(0.3719400901634377)), ((0, 21), np.float64(0.457701461741589)), ((0, 22), np.float64(0.5683208647823798)), ((0, 23), np.float64(0.03876319213608695)), ((0, 24), np.float64(0.39211657429799146)), ((0, 25), np.float64(0.6097721516467074)), ((0, 26), np.float64(0.31361744245570033)), ((0, 27), np.float64(0.061496521834374665)), ((0, 28), np.float64(0.20642786200224889)), ((0, 29), np.float64(0.5317791334718742)), ((0, 30), np.float64(0.4935387761673067)), ((0, 31), np.float64(0.46236617254277657)), ((0, 32), np.float64(0.07465236153409431)), ((0, 33), np.float64(0.21444213007284404)), ((0, 34), np.float64(0.5392725925062849)), ((0, 35), np.float64(0.43176357384573294)), ((0, 36), np.float64(0.029339398579942458)), ((0, 37), np.float64(0.537878513324922)), ((0, 38), np.float64(0.2953538671471038)), ((0, 39), np.float64(0.5785498509924143)), ((1, 0), np.float64(0.18985199569279523)), ((1, 1), np.float64(0.0502155972482566)), ((1, 2), np.float64(0.2143138782410381)), ((1, 3), np.float64(0.1462569051793239)), ((1, 4), np.float64(0.03567776531705652)), ((1, 5), np.float64(0.5482121272811301)), ((1, 6), np.float64(0.41941323080839826)), ((1, 7), np.float64(0.3703479662704828)), ((1, 8), np.float64(0.385812368355816)), ((1, 9), np.float64(0.269838810983759)), ((1, 10), np.float64(0.04136423478631991)), ((1, 11), np.float64(0.1905455343847563)), ((1, 12), np.float64(0.6065911929793271)), ((1, 13), np.float64(0.4069982254638687)), ((1, 14), np.float64(0.004411300618030508)), ((1, 15), np.float64(0.5865544720083241)), ((1, 16), np.float64(0.47466484303969114)), ((1, 17), np.float64(0.09222358338691822)), ((1, 18), np.float64(0.31554021198477455)), ((1, 19), np.float64(0.49137625041415645)), ((1, 20), np.float64(0.3519702709142911)), ((1, 21), np.float64(0.43312703241068967)), ((1, 22), np.float64(0.5378071738806118)), ((1, 23), np.float64(0.036681959268348906)), ((1, 24), np.float64(0.3710634603142728)), ((1, 25), np.float64(0.5770329014997359)), ((1, 26), np.float64(0.29677902195505484)), ((1, 27), np.float64(0.05819471474779785)), ((1, 28), np.float64(0.19534455261669367)), ((1, 29), np.float64(0.5032274030810076)), ((1, 30), np.float64(0.46704020714191535)), ((1, 31), np.float64(0.437541290426569)), ((1, 32), np.float64(0.07064420482879609)), ((1, 33), np.float64(0.20292852696790606)), ((1, 34), np.float64(0.5103185311314087)), ((1, 35), np.float64(0.4085817745288697)), ((1, 36), np.float64(0.02776413820329776)), ((1, 37), np.float64(0.5089993013949081)), ((1, 38), np.float64(0.27949603547622276)), ((1, 39), np.float64(0.547486956035696)), ((0, 0), np.float64(0.13630200909747794)), ((0, 1), np.float64(0.15757445631536407)), ((0, 2), np.float64(0.06766415885520718)), ((0, 3), np.float64(0.12332872697721084)), ((0, 4), np.float64(0.1165054253064484)), ((0, 5), np.float64(0.03758864644103289)), ((0, 6), np.float64(0.13909586336100635)), ((0, 7), np.float64(0.1208262460930926)), ((0, 8), np.float64(0.14710918501965886)), ((0, 9), np.float64(0.02316492996194887)), ((0, 10), np.float64(0.09906144309857297)), ((0, 11), np.float64(0.16134291187313413)), ((0, 12), np.float64(0.09645040825596504)), ((0, 13), np.float64(0.1228536310080796)), ((0, 14), np.float64(0.1086499022189921)), ((0, 15), np.float64(0.09234560253772126)), ((0, 16), np.float64(0.14138621996552989)), ((0, 17), np.float64(0.025338770845554134)), ((0, 18), np.float64(0.15215512833511538)), ((0, 19), np.float64(0.09609007668102028)), ((0, 20), np.float64(0.08284588632226181)), ((0, 21), np.float64(0.14853829800243706)), ((0, 22), np.float64(0.0004450074622817824)), ((0, 23), np.float64(0.06151912204892349)), ((0, 24), np.float64(0.0432951919104297)), ((0, 25), np.float64(0.15199371179994833)), ((0, 26), np.float64(0.10879122417353464)), ((0, 27), np.float64(0.06298798060023272)), ((0, 28), np.float64(0.0677931961956305)), ((0, 29), np.float64(0.030292100540011586)), ((0, 30), np.float64(0.09219962593314383)), ((0, 31), np.float64(0.03473990999535977)), ((0, 32), np.float64(0.038262987922927205)), ((0, 33), np.float64(0.011660730347541417)), ((0, 34), np.float64(0.10852866357608977)), ((0, 35), np.float64(0.015209765599018649)), ((0, 36), np.float64(0.0026937982236589463)), ((0, 37), np.float64(0.12321821834200881)), ((0, 38), np.float64(0.06574289522244227)), ((0, 39), np.float64(0.014822661933823448)), ((1, 0), np.float64(0.6237609085131841)), ((1, 1), np.float64(0.7211103246427584)), ((1, 2), np.float64(0.3096524950789255)), ((1, 3), np.float64(0.5643910848743526)), ((1, 4), np.float64(0.533165508102623)), ((1, 5), np.float64(0.17201748095342914)), ((1, 6), np.float64(0.6365464652721134)), ((1, 7), np.float64(0.5529389444389309)), ((1, 8), np.float64(0.6732179481879288)), ((1, 9), np.float64(0.10601001301731267)), ((1, 10), np.float64(0.4533363532565589)), ((1, 11), np.float64(0.7383559637787535)), ((1, 12), np.float64(0.44138743572871864)), ((1, 13), np.float64(0.5622168961349606)), ((1, 14), np.float64(0.497216161131708)), ((1, 15), np.float64(0.42260255235806526)), ((1, 16), np.float64(0.6470278582164761)), ((1, 17), np.float64(0.1159581933376115)), ((1, 18), np.float64(0.6963097735219504)), ((1, 19), np.float64(0.439738444990858)), ((1, 20), np.float64(0.3791288599568426)), ((1, 21), np.float64(0.6797580191553949)), ((1, 22), np.float64(0.0020364942586394144)), ((1, 23), np.float64(0.2815308718797162)), ((1, 24), np.float64(0.19813242973541753)), ((1, 25), np.float64(0.6955710806347983)), ((1, 26), np.float64(0.4978628948911148)), ((1, 27), np.float64(0.28825283108272953)), ((1, 28), np.float64(0.31024301057629433)), ((1, 29), np.float64(0.13862618958240994)), ((1, 30), np.float64(0.4219345174545756)), ((1, 31), np.float64(0.1589807660492718)), ((1, 32), np.float64(0.17510347989196065)), ((1, 33), np.float64(0.053363173468029795)), ((1, 34), np.float64(0.49666133492962633)), ((1, 35), np.float64(0.06960467619763056)), ((1, 36), np.float64(0.012327668817699011)), ((1, 37), np.float64(0.5638853625658659)), ((1, 38), np.float64(0.3008601877827819)), ((1, 39), np.float64(0.06783316794555293))]), (1, [((0, 0), np.float64(0.16607408482139072)), ((0, 1), np.float64(0.3873072374866067)), ((0, 2), np.float64(0.23496561494500193)), ((0, 3), np.float64(0.3368423867372343)), ((0, 4), np.float64(0.16296990072330955)), ((0, 5), np.float64(0.21283868511778006)), ((0, 6), np.float64(0.3500484036184185)), ((0, 7), np.float64(0.10356463146432839)), ((0, 8), np.float64(0.060335543241298265)), ((0, 9), np.float64(0.0456892985417856)), ((0, 10), np.float64(0.18314139920654632)), ((0, 11), np.float64(0.33947066980596774)), ((0, 12), np.float64(0.3693952250236607)), ((0, 13), np.float64(0.11873548832391445)), ((0, 14), np.float64(0.1017659757570067)), ((0, 15), np.float64(0.09191690503029813)), ((0, 16), np.float64(0.2665823061815097)), ((0, 17), np.float64(0.22627121600534847)), ((0, 18), np.float64(0.0664911618700218)), ((0, 19), np.float64(0.19784278296418095)), ((0, 20), np.float64(0.11511347358380788)), ((0, 21), np.float64(0.36893951107621664)), ((0, 22), np.float64(0.19601030481672072)), ((0, 23), np.float64(0.4148024395482549)), ((0, 24), np.float64(0.04421280595324498)), ((0, 25), np.float64(0.3966587005393343)), ((0, 26), np.float64(0.017633054560694174)), ((0, 27), np.float64(0.008975282169477069)), ((0, 28), np.float64(0.3023448506303568)), ((0, 29), np.float64(0.3503626177810489)), ((0, 30), np.float64(0.15976688009013107)), ((0, 31), np.float64(0.0988954351380668)), ((0, 32), np.float64(0.4149410959554202)), ((0, 33), np.float64(0.3215533133867247)), ((0, 34), np.float64(0.2674620250811877)), ((0, 35), np.float64(0.2730216942576013)), ((0, 36), np.float64(0.25521758392397703)), ((0, 37), np.float64(0.06459496613406701)), ((0, 38), np.float64(0.3245708476583679)), ((0, 39), np.float64(0.3791256972113696)), ((1, 0), np.float64(0.19970185701489943)), ((1, 1), np.float64(0.46573175245595994)), ((1, 2), np.float64(0.2825429969379599)), ((1, 3), np.float64(0.40504844705362697)), ((1, 4), np.float64(0.19596911731881966)), ((1, 5), np.float64(0.25593566093314685)), ((1, 6), np.float64(0.4209285050276264)), ((1, 7), np.float64(0.12453507870739246)), ((1, 8), np.float64(0.07255268058378049)), ((1, 9), np.float64(0.054940767997099925)), ((1, 10), np.float64(0.22022507338931643)), ((1, 11), np.float64(0.40820892215214316)), ((1, 12), np.float64(0.44419279798530065)), ((1, 13), np.float64(0.1427778303722587)), ((1, 14), np.float64(0.12237221937103727)), ((1, 15), np.float64(0.11052884407193432)), ((1, 16), np.float64(0.3205616436123509)), ((1, 17), np.float64(0.27208809895827507)), ((1, 18), np.float64(0.07995472932939708)), ((1, 19), np.float64(0.2379032899530013)), ((1, 20), np.float64(0.13842240628238617)), ((1, 21), np.float64(0.4436448080826615)), ((1, 22), np.float64(0.23569975958653502)), ((1, 23), np.float64(0.49879436373945024)), ((1, 24), np.float64(0.053165305485188975)), ((1, 25), np.float64(0.47697676120879684)), ((1, 26), np.float64(0.02120351133894739)), ((1, 27), np.float64(0.010792656291949192)), ((1, 28), np.float64(0.3635656231055606)), ((1, 29), np.float64(0.4213063433390352)), ((1, 30), np.float64(0.1921175280164266)), ((1, 31), np.float64(0.11892043282134458)), ((1, 32), np.float64(0.49896109620723833)), ((1, 33), np.float64(0.3866635416457935)), ((1, 34), np.float64(0.32161949377666615)), ((1, 35), np.float64(0.32830492130807404)), ((1, 36), np.float64(0.3068957176990533)), ((1, 37), np.float64(0.07767457941834287)), ((1, 38), np.float64(0.39029208608908417)), ((1, 39), np.float64(0.45589356013375487))])]\n",
      "aa (0, [((0, 0), np.float64(0.2006236725967179)), ((0, 1), np.float64(0.05306469128659889)), ((0, 2), np.float64(0.22647345467327412)), ((0, 3), np.float64(0.15455511727770282)), ((0, 4), np.float64(0.03770202299866222)), ((0, 5), np.float64(0.5793161664477227)), ((0, 6), np.float64(0.44320957698328267)), ((0, 7), np.float64(0.3913604851019711)), ((0, 8), np.float64(0.40770229457071205)), ((0, 9), np.float64(0.28514871845904827)), ((0, 10), np.float64(0.043711127010814685)), ((0, 11), np.float64(0.20135656075499833)), ((0, 12), np.float64(0.6410074987953122)), ((0, 13), np.float64(0.43009017858855764)), ((0, 14), np.float64(0.004661585608768176)), ((0, 15), np.float64(0.619833949719205)), ((0, 16), np.float64(0.5015960128081044)), ((0, 17), np.float64(0.09745609432018913)), ((0, 18), np.float64(0.33344309049438536)), ((0, 19), np.float64(0.5192555791955454)), ((0, 20), np.float64(0.3719400901634377)), ((0, 21), np.float64(0.457701461741589)), ((0, 22), np.float64(0.5683208647823798)), ((0, 23), np.float64(0.03876319213608695)), ((0, 24), np.float64(0.39211657429799146)), ((0, 25), np.float64(0.6097721516467074)), ((0, 26), np.float64(0.31361744245570033)), ((0, 27), np.float64(0.061496521834374665)), ((0, 28), np.float64(0.20642786200224889)), ((0, 29), np.float64(0.5317791334718742)), ((0, 30), np.float64(0.4935387761673067)), ((0, 31), np.float64(0.46236617254277657)), ((0, 32), np.float64(0.07465236153409431)), ((0, 33), np.float64(0.21444213007284404)), ((0, 34), np.float64(0.5392725925062849)), ((0, 35), np.float64(0.43176357384573294)), ((0, 36), np.float64(0.029339398579942458)), ((0, 37), np.float64(0.537878513324922)), ((0, 38), np.float64(0.2953538671471038)), ((0, 39), np.float64(0.5785498509924143)), ((1, 0), np.float64(0.18985199569279523)), ((1, 1), np.float64(0.0502155972482566)), ((1, 2), np.float64(0.2143138782410381)), ((1, 3), np.float64(0.1462569051793239)), ((1, 4), np.float64(0.03567776531705652)), ((1, 5), np.float64(0.5482121272811301)), ((1, 6), np.float64(0.41941323080839826)), ((1, 7), np.float64(0.3703479662704828)), ((1, 8), np.float64(0.385812368355816)), ((1, 9), np.float64(0.269838810983759)), ((1, 10), np.float64(0.04136423478631991)), ((1, 11), np.float64(0.1905455343847563)), ((1, 12), np.float64(0.6065911929793271)), ((1, 13), np.float64(0.4069982254638687)), ((1, 14), np.float64(0.004411300618030508)), ((1, 15), np.float64(0.5865544720083241)), ((1, 16), np.float64(0.47466484303969114)), ((1, 17), np.float64(0.09222358338691822)), ((1, 18), np.float64(0.31554021198477455)), ((1, 19), np.float64(0.49137625041415645)), ((1, 20), np.float64(0.3519702709142911)), ((1, 21), np.float64(0.43312703241068967)), ((1, 22), np.float64(0.5378071738806118)), ((1, 23), np.float64(0.036681959268348906)), ((1, 24), np.float64(0.3710634603142728)), ((1, 25), np.float64(0.5770329014997359)), ((1, 26), np.float64(0.29677902195505484)), ((1, 27), np.float64(0.05819471474779785)), ((1, 28), np.float64(0.19534455261669367)), ((1, 29), np.float64(0.5032274030810076)), ((1, 30), np.float64(0.46704020714191535)), ((1, 31), np.float64(0.437541290426569)), ((1, 32), np.float64(0.07064420482879609)), ((1, 33), np.float64(0.20292852696790606)), ((1, 34), np.float64(0.5103185311314087)), ((1, 35), np.float64(0.4085817745288697)), ((1, 36), np.float64(0.02776413820329776)), ((1, 37), np.float64(0.5089993013949081)), ((1, 38), np.float64(0.27949603547622276)), ((1, 39), np.float64(0.547486956035696)), ((0, 0), np.float64(0.13630200909747794)), ((0, 1), np.float64(0.15757445631536407)), ((0, 2), np.float64(0.06766415885520718)), ((0, 3), np.float64(0.12332872697721084)), ((0, 4), np.float64(0.1165054253064484)), ((0, 5), np.float64(0.03758864644103289)), ((0, 6), np.float64(0.13909586336100635)), ((0, 7), np.float64(0.1208262460930926)), ((0, 8), np.float64(0.14710918501965886)), ((0, 9), np.float64(0.02316492996194887)), ((0, 10), np.float64(0.09906144309857297)), ((0, 11), np.float64(0.16134291187313413)), ((0, 12), np.float64(0.09645040825596504)), ((0, 13), np.float64(0.1228536310080796)), ((0, 14), np.float64(0.1086499022189921)), ((0, 15), np.float64(0.09234560253772126)), ((0, 16), np.float64(0.14138621996552989)), ((0, 17), np.float64(0.025338770845554134)), ((0, 18), np.float64(0.15215512833511538)), ((0, 19), np.float64(0.09609007668102028)), ((0, 20), np.float64(0.08284588632226181)), ((0, 21), np.float64(0.14853829800243706)), ((0, 22), np.float64(0.0004450074622817824)), ((0, 23), np.float64(0.06151912204892349)), ((0, 24), np.float64(0.0432951919104297)), ((0, 25), np.float64(0.15199371179994833)), ((0, 26), np.float64(0.10879122417353464)), ((0, 27), np.float64(0.06298798060023272)), ((0, 28), np.float64(0.0677931961956305)), ((0, 29), np.float64(0.030292100540011586)), ((0, 30), np.float64(0.09219962593314383)), ((0, 31), np.float64(0.03473990999535977)), ((0, 32), np.float64(0.038262987922927205)), ((0, 33), np.float64(0.011660730347541417)), ((0, 34), np.float64(0.10852866357608977)), ((0, 35), np.float64(0.015209765599018649)), ((0, 36), np.float64(0.0026937982236589463)), ((0, 37), np.float64(0.12321821834200881)), ((0, 38), np.float64(0.06574289522244227)), ((0, 39), np.float64(0.014822661933823448)), ((1, 0), np.float64(0.6237609085131841)), ((1, 1), np.float64(0.7211103246427584)), ((1, 2), np.float64(0.3096524950789255)), ((1, 3), np.float64(0.5643910848743526)), ((1, 4), np.float64(0.533165508102623)), ((1, 5), np.float64(0.17201748095342914)), ((1, 6), np.float64(0.6365464652721134)), ((1, 7), np.float64(0.5529389444389309)), ((1, 8), np.float64(0.6732179481879288)), ((1, 9), np.float64(0.10601001301731267)), ((1, 10), np.float64(0.4533363532565589)), ((1, 11), np.float64(0.7383559637787535)), ((1, 12), np.float64(0.44138743572871864)), ((1, 13), np.float64(0.5622168961349606)), ((1, 14), np.float64(0.497216161131708)), ((1, 15), np.float64(0.42260255235806526)), ((1, 16), np.float64(0.6470278582164761)), ((1, 17), np.float64(0.1159581933376115)), ((1, 18), np.float64(0.6963097735219504)), ((1, 19), np.float64(0.439738444990858)), ((1, 20), np.float64(0.3791288599568426)), ((1, 21), np.float64(0.6797580191553949)), ((1, 22), np.float64(0.0020364942586394144)), ((1, 23), np.float64(0.2815308718797162)), ((1, 24), np.float64(0.19813242973541753)), ((1, 25), np.float64(0.6955710806347983)), ((1, 26), np.float64(0.4978628948911148)), ((1, 27), np.float64(0.28825283108272953)), ((1, 28), np.float64(0.31024301057629433)), ((1, 29), np.float64(0.13862618958240994)), ((1, 30), np.float64(0.4219345174545756)), ((1, 31), np.float64(0.1589807660492718)), ((1, 32), np.float64(0.17510347989196065)), ((1, 33), np.float64(0.053363173468029795)), ((1, 34), np.float64(0.49666133492962633)), ((1, 35), np.float64(0.06960467619763056)), ((1, 36), np.float64(0.012327668817699011)), ((1, 37), np.float64(0.5638853625658659)), ((1, 38), np.float64(0.3008601877827819)), ((1, 39), np.float64(0.06783316794555293))])\n",
      "aa (1, [((0, 0), np.float64(0.16607408482139072)), ((0, 1), np.float64(0.3873072374866067)), ((0, 2), np.float64(0.23496561494500193)), ((0, 3), np.float64(0.3368423867372343)), ((0, 4), np.float64(0.16296990072330955)), ((0, 5), np.float64(0.21283868511778006)), ((0, 6), np.float64(0.3500484036184185)), ((0, 7), np.float64(0.10356463146432839)), ((0, 8), np.float64(0.060335543241298265)), ((0, 9), np.float64(0.0456892985417856)), ((0, 10), np.float64(0.18314139920654632)), ((0, 11), np.float64(0.33947066980596774)), ((0, 12), np.float64(0.3693952250236607)), ((0, 13), np.float64(0.11873548832391445)), ((0, 14), np.float64(0.1017659757570067)), ((0, 15), np.float64(0.09191690503029813)), ((0, 16), np.float64(0.2665823061815097)), ((0, 17), np.float64(0.22627121600534847)), ((0, 18), np.float64(0.0664911618700218)), ((0, 19), np.float64(0.19784278296418095)), ((0, 20), np.float64(0.11511347358380788)), ((0, 21), np.float64(0.36893951107621664)), ((0, 22), np.float64(0.19601030481672072)), ((0, 23), np.float64(0.4148024395482549)), ((0, 24), np.float64(0.04421280595324498)), ((0, 25), np.float64(0.3966587005393343)), ((0, 26), np.float64(0.017633054560694174)), ((0, 27), np.float64(0.008975282169477069)), ((0, 28), np.float64(0.3023448506303568)), ((0, 29), np.float64(0.3503626177810489)), ((0, 30), np.float64(0.15976688009013107)), ((0, 31), np.float64(0.0988954351380668)), ((0, 32), np.float64(0.4149410959554202)), ((0, 33), np.float64(0.3215533133867247)), ((0, 34), np.float64(0.2674620250811877)), ((0, 35), np.float64(0.2730216942576013)), ((0, 36), np.float64(0.25521758392397703)), ((0, 37), np.float64(0.06459496613406701)), ((0, 38), np.float64(0.3245708476583679)), ((0, 39), np.float64(0.3791256972113696)), ((1, 0), np.float64(0.19970185701489943)), ((1, 1), np.float64(0.46573175245595994)), ((1, 2), np.float64(0.2825429969379599)), ((1, 3), np.float64(0.40504844705362697)), ((1, 4), np.float64(0.19596911731881966)), ((1, 5), np.float64(0.25593566093314685)), ((1, 6), np.float64(0.4209285050276264)), ((1, 7), np.float64(0.12453507870739246)), ((1, 8), np.float64(0.07255268058378049)), ((1, 9), np.float64(0.054940767997099925)), ((1, 10), np.float64(0.22022507338931643)), ((1, 11), np.float64(0.40820892215214316)), ((1, 12), np.float64(0.44419279798530065)), ((1, 13), np.float64(0.1427778303722587)), ((1, 14), np.float64(0.12237221937103727)), ((1, 15), np.float64(0.11052884407193432)), ((1, 16), np.float64(0.3205616436123509)), ((1, 17), np.float64(0.27208809895827507)), ((1, 18), np.float64(0.07995472932939708)), ((1, 19), np.float64(0.2379032899530013)), ((1, 20), np.float64(0.13842240628238617)), ((1, 21), np.float64(0.4436448080826615)), ((1, 22), np.float64(0.23569975958653502)), ((1, 23), np.float64(0.49879436373945024)), ((1, 24), np.float64(0.053165305485188975)), ((1, 25), np.float64(0.47697676120879684)), ((1, 26), np.float64(0.02120351133894739)), ((1, 27), np.float64(0.010792656291949192)), ((1, 28), np.float64(0.3635656231055606)), ((1, 29), np.float64(0.4213063433390352)), ((1, 30), np.float64(0.1921175280164266)), ((1, 31), np.float64(0.11892043282134458)), ((1, 32), np.float64(0.49896109620723833)), ((1, 33), np.float64(0.3866635416457935)), ((1, 34), np.float64(0.32161949377666615)), ((1, 35), np.float64(0.32830492130807404)), ((1, 36), np.float64(0.3068957176990533)), ((1, 37), np.float64(0.07767457941834287)), ((1, 38), np.float64(0.39029208608908417)), ((1, 39), np.float64(0.45589356013375487))])\n",
      "240 key-value pairs were sent over a network.\n",
      "[(0, [((0, 1), np.float64(0.5979463850885697)), ((0, 2), np.float64(0.5291032284734832)), ((0, 4), np.float64(0.3171773490284202)), ((0, 5), np.float64(0.8297434980065356)), ((0, 8), np.float64(0.6151470228316692)), ((0, 9), np.float64(0.3540029469627827)), ((0, 11), np.float64(0.7021701424341003)), ((0, 12), np.float64(1.106853132074938)), ((0, 15), np.float64(0.8040964572872245)), ((0, 16), np.float64(0.909564538955144)), ((0, 18), np.float64(0.5520893806995225)), ((0, 19), np.float64(0.8131884388407467)), ((0, 22), np.float64(0.7647761770613823)), ((0, 23), np.float64(0.5150847537332653)), ((0, 25), np.float64(1.15842456398599)), ((0, 26), np.float64(0.4400417211899292)), ((0, 29), np.float64(0.9124338517929347)), ((0, 32), np.float64(0.5278564454124417)), ((0, 33), np.float64(0.5476561738071102)), ((0, 36), np.float64(0.2872507807275784)), ((0, 39), np.float64(0.9724982101376074)), ((1, 0), np.float64(1.0133147612208788)), ((1, 1), np.float64(1.237057674346975)), ((1, 3), np.float64(1.1156964371073035)), ((1, 4), np.float64(0.7648123907384992)), ((1, 7), np.float64(1.0478219894168062)), ((1, 10), np.float64(0.7149256614321953)), ((1, 11), np.float64(1.337110420315653)), ((1, 14), np.float64(0.6239996811207758)), ((1, 17), np.float64(0.48026987568280477)), ((1, 18), np.float64(1.091804714836122)), ((1, 21), np.float64(1.5565298596487462)), ((1, 24), np.float64(0.6223611955348792)), ((1, 25), np.float64(1.7495807433433312)), ((1, 27), np.float64(0.3572402021224766)), ((1, 28), np.float64(0.8691531862985487)), ((1, 31), np.float64(0.7154424892971853)), ((1, 32), np.float64(0.7447087809279951)), ((1, 34), np.float64(1.328599359837701)), ((1, 35), np.float64(0.8064913720345743)), ((1, 38), np.float64(0.9706483093480889)), ((1, 39), np.float64(1.0712136841150037))]), (1, [((0, 0), np.float64(0.5029997665155865)), ((0, 3), np.float64(0.614726230992148)), ((0, 6), np.float64(0.9323538439627075)), ((0, 7), np.float64(0.615751362659392)), ((0, 10), np.float64(0.32591396931593397)), ((0, 13), np.float64(0.6716792979205517)), ((0, 14), np.float64(0.21507746358476698)), ((0, 17), np.float64(0.3490660811710917)), ((0, 20), np.float64(0.5698994500695074)), ((0, 21), np.float64(0.9751792708202427)), ((0, 24), np.float64(0.4796245721616661)), ((0, 27), np.float64(0.13345978460408445)), ((0, 28), np.float64(0.5765659088282362)), ((0, 30), np.float64(0.7455052821905815)), ((0, 31), np.float64(0.5960015176762031)), ((0, 34), np.float64(0.9152632811635624)), ((0, 35), np.float64(0.7199950337023528)), ((0, 37), np.float64(0.7256916978009978)), ((0, 38), np.float64(0.685667610027914)), ((1, 2), np.float64(0.8065093702579235)), ((1, 5), np.float64(0.9761652691677061)), ((1, 6), np.float64(1.4768882011081381)), ((1, 8), np.float64(1.1315829971275253)), ((1, 9), np.float64(0.4307895919981716)), ((1, 12), np.float64(1.4921714266933463)), ((1, 13), np.float64(1.111992951971088)), ((1, 15), np.float64(1.1196858684383237)), ((1, 16), np.float64(1.4422543448685181)), ((1, 19), np.float64(1.1690179853580158)), ((1, 20), np.float64(0.8695215371535199)), ((1, 22), np.float64(0.7755434277257862)), ((1, 23), np.float64(0.8170071948875153)), ((1, 26), np.float64(0.815845428185117)), ((1, 29), np.float64(1.0631599360024526)), ((1, 30), np.float64(1.0810922526129176)), ((1, 33), np.float64(0.6429552420817293)), ((1, 36), np.float64(0.3469875247200501)), ((1, 37), np.float64(1.150559243379117))])]\n",
      "[((0, 1), np.float64(0.5979463850885697)), ((0, 2), np.float64(0.5291032284734832)), ((0, 4), np.float64(0.3171773490284202)), ((0, 5), np.float64(0.8297434980065356)), ((0, 8), np.float64(0.6151470228316692)), ((0, 9), np.float64(0.3540029469627827)), ((0, 11), np.float64(0.7021701424341003)), ((0, 12), np.float64(1.106853132074938)), ((0, 15), np.float64(0.8040964572872245)), ((0, 16), np.float64(0.909564538955144)), ((0, 18), np.float64(0.5520893806995225)), ((0, 19), np.float64(0.8131884388407467)), ((0, 22), np.float64(0.7647761770613823)), ((0, 23), np.float64(0.5150847537332653)), ((0, 25), np.float64(1.15842456398599)), ((0, 26), np.float64(0.4400417211899292)), ((0, 29), np.float64(0.9124338517929347)), ((0, 32), np.float64(0.5278564454124417)), ((0, 33), np.float64(0.5476561738071102)), ((0, 36), np.float64(0.2872507807275784)), ((0, 39), np.float64(0.9724982101376074)), ((1, 0), np.float64(1.0133147612208788)), ((1, 1), np.float64(1.237057674346975)), ((1, 3), np.float64(1.1156964371073035)), ((1, 4), np.float64(0.7648123907384992)), ((1, 7), np.float64(1.0478219894168062)), ((1, 10), np.float64(0.7149256614321953)), ((1, 11), np.float64(1.337110420315653)), ((1, 14), np.float64(0.6239996811207758)), ((1, 17), np.float64(0.48026987568280477)), ((1, 18), np.float64(1.091804714836122)), ((1, 21), np.float64(1.5565298596487462)), ((1, 24), np.float64(0.6223611955348792)), ((1, 25), np.float64(1.7495807433433312)), ((1, 27), np.float64(0.3572402021224766)), ((1, 28), np.float64(0.8691531862985487)), ((1, 31), np.float64(0.7154424892971853)), ((1, 32), np.float64(0.7447087809279951)), ((1, 34), np.float64(1.328599359837701)), ((1, 35), np.float64(0.8064913720345743)), ((1, 38), np.float64(0.9706483093480889)), ((1, 39), np.float64(1.0712136841150037)), ((0, 0), np.float64(0.5029997665155865)), ((0, 3), np.float64(0.614726230992148)), ((0, 6), np.float64(0.9323538439627075)), ((0, 7), np.float64(0.615751362659392)), ((0, 10), np.float64(0.32591396931593397)), ((0, 13), np.float64(0.6716792979205517)), ((0, 14), np.float64(0.21507746358476698)), ((0, 17), np.float64(0.3490660811710917)), ((0, 20), np.float64(0.5698994500695074)), ((0, 21), np.float64(0.9751792708202427)), ((0, 24), np.float64(0.4796245721616661)), ((0, 27), np.float64(0.13345978460408445)), ((0, 28), np.float64(0.5765659088282362)), ((0, 30), np.float64(0.7455052821905815)), ((0, 31), np.float64(0.5960015176762031)), ((0, 34), np.float64(0.9152632811635624)), ((0, 35), np.float64(0.7199950337023528)), ((0, 37), np.float64(0.7256916978009978)), ((0, 38), np.float64(0.685667610027914)), ((1, 2), np.float64(0.8065093702579235)), ((1, 5), np.float64(0.9761652691677061)), ((1, 6), np.float64(1.4768882011081381)), ((1, 8), np.float64(1.1315829971275253)), ((1, 9), np.float64(0.4307895919981716)), ((1, 12), np.float64(1.4921714266933463)), ((1, 13), np.float64(1.111992951971088)), ((1, 15), np.float64(1.1196858684383237)), ((1, 16), np.float64(1.4422543448685181)), ((1, 19), np.float64(1.1690179853580158)), ((1, 20), np.float64(0.8695215371535199)), ((1, 22), np.float64(0.7755434277257862)), ((1, 23), np.float64(0.8170071948875153)), ((1, 26), np.float64(0.815845428185117)), ((1, 29), np.float64(1.0631599360024526)), ((1, 30), np.float64(1.0810922526129176)), ((1, 33), np.float64(0.6429552420817293)), ((1, 36), np.float64(0.3469875247200501)), ((1, 37), np.float64(1.150559243379117))]\n"
     ]
    },
    {
     "data": {
      "text/plain": [
       "True"
      ]
     },
     "execution_count": 37,
     "metadata": {},
     "output_type": "execute_result"
    }
   ],
   "execution_count": 37
  },
  {
   "cell_type": "markdown",
   "metadata": {
    "id": "ZuSA2P9Db6UM"
   },
   "source": [
    "Обобщите предыдущее решение на случай, когда каждая матрица генерируется несколькими RECORDREADER-ами, и проверьте его работоспособность. Будет ли работать решение, если RECORDREADER-ы будут генерировать случайное подмножество элементов матрицы?"
   ]
  },
  {
   "cell_type": "code",
   "metadata": {
    "id": "ehN0FqRDcwU5",
    "ExecuteTime": {
     "end_time": "2025-02-28T11:32:49.790033Z",
     "start_time": "2025-02-28T11:32:49.775952Z"
    }
   },
   "source": [
    "import numpy as np\n",
    "\n",
    "I = 2\n",
    "J = 3\n",
    "K = 4*10\n",
    "\n",
    "small_mat = np.random.rand(I, J)\n",
    "big_mat = np.random.rand(J, K)\n",
    "\n",
    "reference_solution = np.matmul(small_mat, big_mat)\n",
    "\n",
    "def flatten(nested_iterable):\n",
    "  for iterable in nested_iterable:\n",
    "    for element in iterable:\n",
    "      yield element\n",
    "\n",
    "def groupbykey(iterable):\n",
    "  t = {}\n",
    "  for (k2, v2) in iterable:\n",
    "    t[k2] = t.get(k2, []) + [v2]\n",
    "  return t.items()\n",
    "\n",
    "def groupbykey_distributed(map_partitions, PARTITIONER):\n",
    "  global reducers\n",
    "  partitions = [dict() for _ in range(reducers)]\n",
    "  for map_partition in map_partitions:\n",
    "    for (k2, v2) in map_partition:\n",
    "      p = partitions[PARTITIONER(k2)]\n",
    "      p[k2] = p.get(k2, []) + [v2]\n",
    "  return [(partition_id, sorted(partition.items(), key=lambda x: x[0])) for (partition_id, partition) in enumerate(partitions)]\n",
    "\n",
    "def PARTITIONER(obj):\n",
    "  global reducers\n",
    "  return hash(obj) % reducers\n",
    "\n",
    "def MapReduceDistributed(INPUTFORMAT, MAP, REDUCE, PARTITIONER=PARTITIONER, COMBINER=None):\n",
    "  map_partitions = map(lambda record_reader: flatten(map(lambda k1v1: MAP(*k1v1), record_reader)), INPUTFORMAT())\n",
    "\n",
    "  if COMBINER != None:\n",
    "    map_partitions = map(lambda map_partition: flatten(map(lambda k2v2: COMBINER(*k2v2), groupbykey(map_partition))), map_partitions)\n",
    "\n",
    "  reduce_partitions = groupbykey_distributed(map_partitions, PARTITIONER)\n",
    "\n",
    "  reduce_outputs = map(lambda reduce_partition: (reduce_partition[0], flatten(map(lambda reduce_input_group: REDUCE(*reduce_input_group), reduce_partition[1]))), reduce_partitions)\n",
    "\n",
    "  print(\"{} key-value pairs were sent over a network.\".format(sum([len(vs) for (k,vs) in flatten([partition for (partition_id, partition) in reduce_partitions])])))\n",
    "  return reduce_outputs\n",
    "\n",
    "def asmatrix(reduce_output):\n",
    "  reduce_output = list(reduce_output)\n",
    "  I = max(i for ((i,k), vw) in reduce_output) + 1\n",
    "  K = max(k for ((i,k), vw) in reduce_output) + 1\n",
    "  mat = np.empty(shape=(I,K))\n",
    "  for ((i,k), vw) in reduce_output:\n",
    "    mat[i,k] = vw\n",
    "  return mat\n",
    "\n",
    "def INPUTFORMAT():\n",
    "  first_mat = []\n",
    "\n",
    "  for i in range(small_mat.shape[0]):\n",
    "    for j in range(small_mat.shape[1]):\n",
    "      first_mat.append(((0, i, j), small_mat[i,j]))\n",
    "\n",
    "  global maps\n",
    "  split_size = int(np.ceil(len(first_mat)/maps))\n",
    "\n",
    "  for i in range(0, len(first_mat), split_size):\n",
    "    yield first_mat[i:i+split_size]\n",
    "\n",
    "  second_mat = []\n",
    "\n",
    "  for j in range(big_mat.shape[0]):\n",
    "    for k in range(big_mat.shape[1]):\n",
    "      second_mat.append(((1, j, k), big_mat[j,k]))\n",
    "\n",
    "  split_size = int(np.ceil(len(second_mat)/maps))\n",
    "\n",
    "  for i in range(0, len(second_mat), split_size):\n",
    "    yield second_mat[i:i+split_size]\n",
    "\n",
    "def MAP_JOIN(k1, v1):\n",
    "  (mat_num, i, j) = k1\n",
    "  w = v1\n",
    "\n",
    "  if mat_num == 0:\n",
    "    yield (j, (mat_num, i, w))\n",
    "\n",
    "  else:\n",
    "    yield (i, (mat_num, j, w))\n",
    "\n",
    "def REDUCE_JOIN(key, values):\n",
    "  from_first_mat = [v for v in values if v[0] == 0]\n",
    "  from_second_mat = [v for v in values if v[0] == 1]\n",
    "\n",
    "  for f in from_first_mat:\n",
    "    for s in from_second_mat:\n",
    "      yield ((f[1], s[1]), f[2] * s[2])\n",
    "\n",
    "def GET_JOINED():\n",
    "  for j in joined:\n",
    "    print(\"aa\", j)\n",
    "    yield j[1]\n",
    "\n",
    "def MAP_MUL(k1, v1):\n",
    "  yield (k1, v1)\n",
    "\n",
    "def REDUCE_MUL(key, values):\n",
    "  res_val = 0\n",
    "\n",
    "  for v in values:\n",
    "    res_val += v\n",
    "  yield (key, res_val)\n",
    "\n",
    "maps = 3\n",
    "reducers = 2\n",
    "\n",
    "partitioned_output = MapReduceDistributed(INPUTFORMAT, MAP_JOIN, REDUCE_JOIN, COMBINER=None)\n",
    "joined = [(partition_id, list(partition)) for (partition_id, partition) in partitioned_output]\n",
    "print(joined)\n",
    "\n",
    "mul_output = MapReduceDistributed(GET_JOINED, MAP_MUL, REDUCE_MUL, COMBINER=None)\n",
    "pre_result = [(partition_id, list(partition)) for (partition_id, partition) in mul_output]\n",
    "print(pre_result)\n",
    "\n",
    "solution = []\n",
    "\n",
    "for p in pre_result:\n",
    "  for v in p[1]:\n",
    "    solution.append(v)\n",
    "\n",
    "print(solution)\n",
    "\n",
    "np.allclose(reference_solution, asmatrix(solution))"
   ],
   "outputs": [
    {
     "name": "stdout",
     "output_type": "stream",
     "text": [
      "126 key-value pairs were sent over a network.\n",
      "[(0, [((0, 0), np.float64(0.12475000306175146)), ((0, 1), np.float64(0.23535709491361148)), ((0, 2), np.float64(0.2370108091066125)), ((0, 3), np.float64(0.02982928363867322)), ((0, 4), np.float64(0.16356178952853118)), ((0, 5), np.float64(0.16930900844269564)), ((0, 6), np.float64(0.13212162514196626)), ((0, 7), np.float64(0.0462647030132823)), ((0, 8), np.float64(0.17794739733428908)), ((0, 9), np.float64(0.23571699405278043)), ((0, 10), np.float64(0.17978434572247123)), ((0, 11), np.float64(0.23650001328796616)), ((0, 12), np.float64(0.2069308877961366)), ((0, 13), np.float64(0.007869609419888953)), ((0, 14), np.float64(0.047234984852700224)), ((0, 15), np.float64(0.011414267980562628)), ((0, 16), np.float64(0.17336556623703722)), ((0, 17), np.float64(0.19138881949459616)), ((0, 18), np.float64(0.17882608601957856)), ((0, 19), np.float64(0.06433997370430637)), ((0, 20), np.float64(0.11499030356879542)), ((0, 21), np.float64(0.2059010665461442)), ((0, 22), np.float64(0.04371052165010446)), ((0, 23), np.float64(0.19543413244502938)), ((0, 24), np.float64(0.1404971840347848)), ((0, 25), np.float64(0.20816042500913173)), ((0, 26), np.float64(0.24483018173994864)), ((0, 27), np.float64(0.1509209138787771)), ((0, 28), np.float64(0.05944574515306176)), ((0, 29), np.float64(0.10880948666390247)), ((0, 30), np.float64(0.16762011739447039)), ((0, 31), np.float64(0.21584286850969878)), ((0, 32), np.float64(0.1634158412681274)), ((0, 33), np.float64(0.14013468669862444)), ((0, 34), np.float64(0.08101161607365967)), ((0, 35), np.float64(0.12314414820139644)), ((0, 36), np.float64(0.1850292881825836)), ((0, 37), np.float64(0.04173262745621481)), ((0, 38), np.float64(0.24164198262972691)), ((0, 39), np.float64(0.1310676872215664)), ((1, 0), np.float64(0.009931439218586729)), ((1, 1), np.float64(0.018736950905248847)), ((1, 2), np.float64(0.01886860430476479)), ((1, 3), np.float64(0.0023747311432515445)), ((1, 4), np.float64(0.013021273998540906)), ((1, 5), np.float64(0.013478814310533386)), ((1, 6), np.float64(0.01051829945774685)), ((1, 7), np.float64(0.0036831669311858744)), ((1, 8), np.float64(0.014166522784423426)), ((1, 9), np.float64(0.018765602739619615)), ((1, 10), np.float64(0.014312763592577006)), ((1, 11), np.float64(0.018827939475093536)), ((1, 12), np.float64(0.016473919712677143)), ((1, 13), np.float64(0.0006265053764283845)), ((1, 14), np.float64(0.0037604117798958787)), ((1, 15), np.float64(0.0009086982436185191)), ((1, 16), np.float64(0.013801759851073734)), ((1, 17), np.float64(0.015236604258733093)), ((1, 18), np.float64(0.01423647583497119)), ((1, 19), np.float64(0.005122152484865967)), ((1, 20), np.float64(0.009154462385504127)), ((1, 21), np.float64(0.016391934887833123)), ((1, 22), np.float64(0.0034798266799708805)), ((1, 23), np.float64(0.015558654589004448)), ((1, 24), np.float64(0.01118508384271032)), ((1, 25), np.float64(0.01657180407178058)), ((1, 26), np.float64(0.019491110293778813)), ((1, 27), np.float64(0.012014924618949293)), ((1, 28), np.float64(0.004732519361133719)), ((1, 29), np.float64(0.00866240301952742)), ((1, 30), np.float64(0.013344360455779077)), ((1, 31), np.float64(0.017183409032129487)), ((1, 32), np.float64(0.013009654950511377)), ((1, 33), np.float64(0.011156225163971897)), ((1, 34), np.float64(0.006449394158625995)), ((1, 35), np.float64(0.00980359593563632)), ((1, 36), np.float64(0.014730317307760534)), ((1, 37), np.float64(0.003322365072874269)), ((1, 38), np.float64(0.019237295424818484)), ((1, 39), np.float64(0.010434394687087777)), ((0, 0), np.float64(0.44834006591487546)), ((0, 1), np.float64(0.4121814631388377)), ((0, 2), np.float64(0.7882480531458628)), ((0, 3), np.float64(0.2781569583591287)), ((0, 4), np.float64(0.633356337787571)), ((0, 5), np.float64(0.3015087034274874)), ((0, 6), np.float64(0.4015781020902038)), ((0, 7), np.float64(0.23846747610293598)), ((0, 8), np.float64(0.7644337085256198)), ((0, 9), np.float64(0.6630742411622291)), ((0, 10), np.float64(0.31046562236365677)), ((0, 11), np.float64(0.18957051984927967)), ((0, 12), np.float64(0.42180490118713865)), ((0, 13), np.float64(0.005692214801275713)), ((0, 14), np.float64(0.41844809037604785)), ((0, 15), np.float64(0.43711242028772995)), ((0, 16), np.float64(0.09385965301158807)), ((0, 17), np.float64(0.05323507183606643)), ((0, 18), np.float64(0.10923347147557244)), ((0, 19), np.float64(0.4438525885534424)), ((0, 20), np.float64(0.23210069289163499)), ((0, 21), np.float64(0.5538562612783082)), ((0, 22), np.float64(0.11507208773433086)), ((0, 23), np.float64(0.22068438049717)), ((0, 24), np.float64(0.5406719476573174)), ((0, 25), np.float64(0.053462371072755206)), ((0, 26), np.float64(0.3115002040392928)), ((0, 27), np.float64(0.18710667311003684)), ((0, 28), np.float64(0.6706915970262659)), ((0, 29), np.float64(0.6644351706410594)), ((0, 30), np.float64(0.47971819852537484)), ((0, 31), np.float64(0.39971033458384525)), ((0, 32), np.float64(0.04160892771559135)), ((0, 33), np.float64(0.0019605862240315137)), ((0, 34), np.float64(0.3061978712474068)), ((0, 35), np.float64(0.4781999463114497)), ((0, 36), np.float64(0.14798494850332353)), ((0, 37), np.float64(0.5493840452887586)), ((0, 38), np.float64(0.32944846448248294)), ((0, 39), np.float64(0.7568276827224464)), ((1, 0), np.float64(0.13838026841169296)), ((1, 1), np.float64(0.1272199070299156)), ((1, 2), np.float64(0.2432929498431869)), ((1, 3), np.float64(0.08585321162357268)), ((1, 4), np.float64(0.1954855849085136)), ((1, 5), np.float64(0.09306073331549848)), ((1, 6), np.float64(0.12394717711009033)), ((1, 7), np.float64(0.07360304344704424)), ((1, 8), np.float64(0.23594264668909967)), ((1, 9), np.float64(0.20465802288196638)), ((1, 10), np.float64(0.09582528848412851)), ((1, 11), np.float64(0.058510986222382835)), ((1, 12), np.float64(0.13019018348167494)), ((1, 13), np.float64(0.0017569034577585583)), ((1, 14), np.float64(0.12915410302319943)), ((1, 15), np.float64(0.13491485290762611)), ((1, 16), np.float64(0.028969804316435914)), ((1, 17), np.float64(0.016431017635147763)), ((1, 18), np.float64(0.03371493705673115)), ((1, 19), np.float64(0.13699520745244242)), ((1, 20), np.float64(0.07163793428843923)), ((1, 21), np.float64(0.170947867308698)), ((1, 22), np.float64(0.035517027359303545)), ((1, 23), np.float64(0.06811428674158415)), ((1, 24), np.float64(0.16687852576106335)), ((1, 25), np.float64(0.016501173598832564)), ((1, 26), np.float64(0.09614461236537965)), ((1, 27), np.float64(0.05775051933792993)), ((1, 28), np.float64(0.20700912158848467)), ((1, 29), np.float64(0.2050780740906078)), ((1, 30), np.float64(0.14806513653526374)), ((1, 31), np.float64(0.12337069022321547)), ((1, 32), np.float64(0.012842605475950217)), ((1, 33), np.float64(0.0006051354062504427)), ((1, 34), np.float64(0.09450804608292607)), ((1, 35), np.float64(0.1475965276268654)), ((1, 36), np.float64(0.0456755896954982)), ((1, 37), np.float64(0.1695675167755238)), ((1, 38), np.float64(0.10168434723735334)), ((1, 39), np.float64(0.23359504500857256))]), (1, [((0, 0), np.float64(0.13518378835168376)), ((0, 1), np.float64(0.21006146832762107)), ((0, 2), np.float64(0.8900786864236234)), ((0, 3), np.float64(0.28725563312784647)), ((0, 4), np.float64(0.021803911064122713)), ((0, 5), np.float64(0.338218712726217)), ((0, 6), np.float64(0.4924453124122443)), ((0, 7), np.float64(0.6939300643168411)), ((0, 8), np.float64(0.8981120307496068)), ((0, 9), np.float64(0.5423248447164084)), ((0, 10), np.float64(0.8446079329028455)), ((0, 11), np.float64(0.842442601534899)), ((0, 12), np.float64(0.8459966948866813)), ((0, 13), np.float64(0.20334189869628858)), ((0, 14), np.float64(0.7921883253272135)), ((0, 15), np.float64(0.5445295217524794)), ((0, 16), np.float64(0.6522374145922225)), ((0, 17), np.float64(0.3245383757759385)), ((0, 18), np.float64(0.19033509750967811)), ((0, 19), np.float64(0.45849419936524904)), ((0, 20), np.float64(0.8107697841567464)), ((0, 21), np.float64(0.025868060717425055)), ((0, 22), np.float64(0.6198492647507282)), ((0, 23), np.float64(0.6617540850123695)), ((0, 24), np.float64(0.5832141784482837)), ((0, 25), np.float64(0.5647935680940248)), ((0, 26), np.float64(0.3280563016793584)), ((0, 27), np.float64(0.6047027568398673)), ((0, 28), np.float64(0.5209429724537389)), ((0, 29), np.float64(0.507414723692401)), ((0, 30), np.float64(0.04036454711176422)), ((0, 31), np.float64(0.592452052359303)), ((0, 32), np.float64(0.40429602773439594)), ((0, 33), np.float64(0.7974433422190893)), ((0, 34), np.float64(0.3685833048017241)), ((0, 35), np.float64(0.713290141163675)), ((0, 36), np.float64(0.39516434137680756)), ((0, 37), np.float64(0.204640286022785)), ((0, 38), np.float64(0.622104307658108)), ((0, 39), np.float64(0.09197103250137069)), ((1, 0), np.float64(0.06675961792260243)), ((1, 1), np.float64(0.10373746391342469)), ((1, 2), np.float64(0.4395594601336888)), ((1, 3), np.float64(0.1418592905818017)), ((1, 4), np.float64(0.010767716969673944)), ((1, 5), np.float64(0.16702706967447878)), ((1, 6), np.float64(0.24319085376488891)), ((1, 7), np.float64(0.34269276311653407)), ((1, 8), np.float64(0.4435266739866409)), ((1, 9), np.float64(0.26782353020772676)), ((1, 10), np.float64(0.4171040298730517)), ((1, 11), np.float64(0.4160346953281145)), ((1, 12), np.float64(0.4177898607744991)), ((1, 13), np.float64(0.1004190489861477)), ((1, 14), np.float64(0.39121695409220514)), ((1, 15), np.float64(0.26891229535009675)), ((1, 16), np.float64(0.32210312437556765)), ((1, 17), np.float64(0.16027112594047796)), ((1, 18), np.float64(0.09399572642505488)), ((1, 19), np.float64(0.22642432160373976)), ((1, 20), np.float64(0.4003932843832088)), ((1, 21), np.float64(0.012774770340074345)), ((1, 22), np.float64(0.3061084512346353)), ((1, 23), np.float64(0.32680286898911204)), ((1, 24), np.float64(0.28801645666979814)), ((1, 25), np.float64(0.27891956033225634)), ((1, 26), np.float64(0.16200843033219509)), ((1, 27), np.float64(0.2986284486890627)), ((1, 28), np.float64(0.2572642343030124)), ((1, 29), np.float64(0.25058339831312804)), ((1, 30), np.float64(0.019933764067847273)), ((1, 31), np.float64(0.29257851947508384)), ((1, 32), np.float64(0.19965891375197556)), ((1, 33), np.float64(0.3938121093556882)), ((1, 34), np.float64(0.18202242222417145)), ((1, 35), np.float64(0.3522536087549508)), ((1, 36), np.float64(0.19514929096617467)), ((1, 37), np.float64(0.10106024896204237)), ((1, 38), np.float64(0.3072220892287423)), ((1, 39), np.float64(0.045419284846238604))])]\n",
      "aa (0, [((0, 0), np.float64(0.12475000306175146)), ((0, 1), np.float64(0.23535709491361148)), ((0, 2), np.float64(0.2370108091066125)), ((0, 3), np.float64(0.02982928363867322)), ((0, 4), np.float64(0.16356178952853118)), ((0, 5), np.float64(0.16930900844269564)), ((0, 6), np.float64(0.13212162514196626)), ((0, 7), np.float64(0.0462647030132823)), ((0, 8), np.float64(0.17794739733428908)), ((0, 9), np.float64(0.23571699405278043)), ((0, 10), np.float64(0.17978434572247123)), ((0, 11), np.float64(0.23650001328796616)), ((0, 12), np.float64(0.2069308877961366)), ((0, 13), np.float64(0.007869609419888953)), ((0, 14), np.float64(0.047234984852700224)), ((0, 15), np.float64(0.011414267980562628)), ((0, 16), np.float64(0.17336556623703722)), ((0, 17), np.float64(0.19138881949459616)), ((0, 18), np.float64(0.17882608601957856)), ((0, 19), np.float64(0.06433997370430637)), ((0, 20), np.float64(0.11499030356879542)), ((0, 21), np.float64(0.2059010665461442)), ((0, 22), np.float64(0.04371052165010446)), ((0, 23), np.float64(0.19543413244502938)), ((0, 24), np.float64(0.1404971840347848)), ((0, 25), np.float64(0.20816042500913173)), ((0, 26), np.float64(0.24483018173994864)), ((0, 27), np.float64(0.1509209138787771)), ((0, 28), np.float64(0.05944574515306176)), ((0, 29), np.float64(0.10880948666390247)), ((0, 30), np.float64(0.16762011739447039)), ((0, 31), np.float64(0.21584286850969878)), ((0, 32), np.float64(0.1634158412681274)), ((0, 33), np.float64(0.14013468669862444)), ((0, 34), np.float64(0.08101161607365967)), ((0, 35), np.float64(0.12314414820139644)), ((0, 36), np.float64(0.1850292881825836)), ((0, 37), np.float64(0.04173262745621481)), ((0, 38), np.float64(0.24164198262972691)), ((0, 39), np.float64(0.1310676872215664)), ((1, 0), np.float64(0.009931439218586729)), ((1, 1), np.float64(0.018736950905248847)), ((1, 2), np.float64(0.01886860430476479)), ((1, 3), np.float64(0.0023747311432515445)), ((1, 4), np.float64(0.013021273998540906)), ((1, 5), np.float64(0.013478814310533386)), ((1, 6), np.float64(0.01051829945774685)), ((1, 7), np.float64(0.0036831669311858744)), ((1, 8), np.float64(0.014166522784423426)), ((1, 9), np.float64(0.018765602739619615)), ((1, 10), np.float64(0.014312763592577006)), ((1, 11), np.float64(0.018827939475093536)), ((1, 12), np.float64(0.016473919712677143)), ((1, 13), np.float64(0.0006265053764283845)), ((1, 14), np.float64(0.0037604117798958787)), ((1, 15), np.float64(0.0009086982436185191)), ((1, 16), np.float64(0.013801759851073734)), ((1, 17), np.float64(0.015236604258733093)), ((1, 18), np.float64(0.01423647583497119)), ((1, 19), np.float64(0.005122152484865967)), ((1, 20), np.float64(0.009154462385504127)), ((1, 21), np.float64(0.016391934887833123)), ((1, 22), np.float64(0.0034798266799708805)), ((1, 23), np.float64(0.015558654589004448)), ((1, 24), np.float64(0.01118508384271032)), ((1, 25), np.float64(0.01657180407178058)), ((1, 26), np.float64(0.019491110293778813)), ((1, 27), np.float64(0.012014924618949293)), ((1, 28), np.float64(0.004732519361133719)), ((1, 29), np.float64(0.00866240301952742)), ((1, 30), np.float64(0.013344360455779077)), ((1, 31), np.float64(0.017183409032129487)), ((1, 32), np.float64(0.013009654950511377)), ((1, 33), np.float64(0.011156225163971897)), ((1, 34), np.float64(0.006449394158625995)), ((1, 35), np.float64(0.00980359593563632)), ((1, 36), np.float64(0.014730317307760534)), ((1, 37), np.float64(0.003322365072874269)), ((1, 38), np.float64(0.019237295424818484)), ((1, 39), np.float64(0.010434394687087777)), ((0, 0), np.float64(0.44834006591487546)), ((0, 1), np.float64(0.4121814631388377)), ((0, 2), np.float64(0.7882480531458628)), ((0, 3), np.float64(0.2781569583591287)), ((0, 4), np.float64(0.633356337787571)), ((0, 5), np.float64(0.3015087034274874)), ((0, 6), np.float64(0.4015781020902038)), ((0, 7), np.float64(0.23846747610293598)), ((0, 8), np.float64(0.7644337085256198)), ((0, 9), np.float64(0.6630742411622291)), ((0, 10), np.float64(0.31046562236365677)), ((0, 11), np.float64(0.18957051984927967)), ((0, 12), np.float64(0.42180490118713865)), ((0, 13), np.float64(0.005692214801275713)), ((0, 14), np.float64(0.41844809037604785)), ((0, 15), np.float64(0.43711242028772995)), ((0, 16), np.float64(0.09385965301158807)), ((0, 17), np.float64(0.05323507183606643)), ((0, 18), np.float64(0.10923347147557244)), ((0, 19), np.float64(0.4438525885534424)), ((0, 20), np.float64(0.23210069289163499)), ((0, 21), np.float64(0.5538562612783082)), ((0, 22), np.float64(0.11507208773433086)), ((0, 23), np.float64(0.22068438049717)), ((0, 24), np.float64(0.5406719476573174)), ((0, 25), np.float64(0.053462371072755206)), ((0, 26), np.float64(0.3115002040392928)), ((0, 27), np.float64(0.18710667311003684)), ((0, 28), np.float64(0.6706915970262659)), ((0, 29), np.float64(0.6644351706410594)), ((0, 30), np.float64(0.47971819852537484)), ((0, 31), np.float64(0.39971033458384525)), ((0, 32), np.float64(0.04160892771559135)), ((0, 33), np.float64(0.0019605862240315137)), ((0, 34), np.float64(0.3061978712474068)), ((0, 35), np.float64(0.4781999463114497)), ((0, 36), np.float64(0.14798494850332353)), ((0, 37), np.float64(0.5493840452887586)), ((0, 38), np.float64(0.32944846448248294)), ((0, 39), np.float64(0.7568276827224464)), ((1, 0), np.float64(0.13838026841169296)), ((1, 1), np.float64(0.1272199070299156)), ((1, 2), np.float64(0.2432929498431869)), ((1, 3), np.float64(0.08585321162357268)), ((1, 4), np.float64(0.1954855849085136)), ((1, 5), np.float64(0.09306073331549848)), ((1, 6), np.float64(0.12394717711009033)), ((1, 7), np.float64(0.07360304344704424)), ((1, 8), np.float64(0.23594264668909967)), ((1, 9), np.float64(0.20465802288196638)), ((1, 10), np.float64(0.09582528848412851)), ((1, 11), np.float64(0.058510986222382835)), ((1, 12), np.float64(0.13019018348167494)), ((1, 13), np.float64(0.0017569034577585583)), ((1, 14), np.float64(0.12915410302319943)), ((1, 15), np.float64(0.13491485290762611)), ((1, 16), np.float64(0.028969804316435914)), ((1, 17), np.float64(0.016431017635147763)), ((1, 18), np.float64(0.03371493705673115)), ((1, 19), np.float64(0.13699520745244242)), ((1, 20), np.float64(0.07163793428843923)), ((1, 21), np.float64(0.170947867308698)), ((1, 22), np.float64(0.035517027359303545)), ((1, 23), np.float64(0.06811428674158415)), ((1, 24), np.float64(0.16687852576106335)), ((1, 25), np.float64(0.016501173598832564)), ((1, 26), np.float64(0.09614461236537965)), ((1, 27), np.float64(0.05775051933792993)), ((1, 28), np.float64(0.20700912158848467)), ((1, 29), np.float64(0.2050780740906078)), ((1, 30), np.float64(0.14806513653526374)), ((1, 31), np.float64(0.12337069022321547)), ((1, 32), np.float64(0.012842605475950217)), ((1, 33), np.float64(0.0006051354062504427)), ((1, 34), np.float64(0.09450804608292607)), ((1, 35), np.float64(0.1475965276268654)), ((1, 36), np.float64(0.0456755896954982)), ((1, 37), np.float64(0.1695675167755238)), ((1, 38), np.float64(0.10168434723735334)), ((1, 39), np.float64(0.23359504500857256))])\n",
      "aa (1, [((0, 0), np.float64(0.13518378835168376)), ((0, 1), np.float64(0.21006146832762107)), ((0, 2), np.float64(0.8900786864236234)), ((0, 3), np.float64(0.28725563312784647)), ((0, 4), np.float64(0.021803911064122713)), ((0, 5), np.float64(0.338218712726217)), ((0, 6), np.float64(0.4924453124122443)), ((0, 7), np.float64(0.6939300643168411)), ((0, 8), np.float64(0.8981120307496068)), ((0, 9), np.float64(0.5423248447164084)), ((0, 10), np.float64(0.8446079329028455)), ((0, 11), np.float64(0.842442601534899)), ((0, 12), np.float64(0.8459966948866813)), ((0, 13), np.float64(0.20334189869628858)), ((0, 14), np.float64(0.7921883253272135)), ((0, 15), np.float64(0.5445295217524794)), ((0, 16), np.float64(0.6522374145922225)), ((0, 17), np.float64(0.3245383757759385)), ((0, 18), np.float64(0.19033509750967811)), ((0, 19), np.float64(0.45849419936524904)), ((0, 20), np.float64(0.8107697841567464)), ((0, 21), np.float64(0.025868060717425055)), ((0, 22), np.float64(0.6198492647507282)), ((0, 23), np.float64(0.6617540850123695)), ((0, 24), np.float64(0.5832141784482837)), ((0, 25), np.float64(0.5647935680940248)), ((0, 26), np.float64(0.3280563016793584)), ((0, 27), np.float64(0.6047027568398673)), ((0, 28), np.float64(0.5209429724537389)), ((0, 29), np.float64(0.507414723692401)), ((0, 30), np.float64(0.04036454711176422)), ((0, 31), np.float64(0.592452052359303)), ((0, 32), np.float64(0.40429602773439594)), ((0, 33), np.float64(0.7974433422190893)), ((0, 34), np.float64(0.3685833048017241)), ((0, 35), np.float64(0.713290141163675)), ((0, 36), np.float64(0.39516434137680756)), ((0, 37), np.float64(0.204640286022785)), ((0, 38), np.float64(0.622104307658108)), ((0, 39), np.float64(0.09197103250137069)), ((1, 0), np.float64(0.06675961792260243)), ((1, 1), np.float64(0.10373746391342469)), ((1, 2), np.float64(0.4395594601336888)), ((1, 3), np.float64(0.1418592905818017)), ((1, 4), np.float64(0.010767716969673944)), ((1, 5), np.float64(0.16702706967447878)), ((1, 6), np.float64(0.24319085376488891)), ((1, 7), np.float64(0.34269276311653407)), ((1, 8), np.float64(0.4435266739866409)), ((1, 9), np.float64(0.26782353020772676)), ((1, 10), np.float64(0.4171040298730517)), ((1, 11), np.float64(0.4160346953281145)), ((1, 12), np.float64(0.4177898607744991)), ((1, 13), np.float64(0.1004190489861477)), ((1, 14), np.float64(0.39121695409220514)), ((1, 15), np.float64(0.26891229535009675)), ((1, 16), np.float64(0.32210312437556765)), ((1, 17), np.float64(0.16027112594047796)), ((1, 18), np.float64(0.09399572642505488)), ((1, 19), np.float64(0.22642432160373976)), ((1, 20), np.float64(0.4003932843832088)), ((1, 21), np.float64(0.012774770340074345)), ((1, 22), np.float64(0.3061084512346353)), ((1, 23), np.float64(0.32680286898911204)), ((1, 24), np.float64(0.28801645666979814)), ((1, 25), np.float64(0.27891956033225634)), ((1, 26), np.float64(0.16200843033219509)), ((1, 27), np.float64(0.2986284486890627)), ((1, 28), np.float64(0.2572642343030124)), ((1, 29), np.float64(0.25058339831312804)), ((1, 30), np.float64(0.019933764067847273)), ((1, 31), np.float64(0.29257851947508384)), ((1, 32), np.float64(0.19965891375197556)), ((1, 33), np.float64(0.3938121093556882)), ((1, 34), np.float64(0.18202242222417145)), ((1, 35), np.float64(0.3522536087549508)), ((1, 36), np.float64(0.19514929096617467)), ((1, 37), np.float64(0.10106024896204237)), ((1, 38), np.float64(0.3072220892287423)), ((1, 39), np.float64(0.045419284846238604))])\n",
      "240 key-value pairs were sent over a network.\n",
      "[(0, [((0, 1), np.float64(0.8576000263800703)), ((0, 2), np.float64(1.9153375486760986)), ((0, 4), np.float64(0.818722038380225)), ((0, 5), np.float64(0.8090364245964001)), ((0, 8), np.float64(1.8404931366095156)), ((0, 9), np.float64(1.441116079931418)), ((0, 11), np.float64(1.268513134672145)), ((0, 12), np.float64(1.4747324838699565)), ((0, 15), np.float64(0.9930562100207719)), ((0, 16), np.float64(0.9194626338408478)), ((0, 18), np.float64(0.47839465500482914)), ((0, 19), np.float64(0.9666867616229978)), ((0, 22), np.float64(0.7786318741351635)), ((0, 23), np.float64(1.077872597954569)), ((0, 25), np.float64(0.8264163641759117)), ((0, 26), np.float64(0.8843866874585998)), ((0, 29), np.float64(1.280659380997363)), ((0, 32), np.float64(0.6093207967181147)), ((0, 33), np.float64(0.9395386151417453)), ((0, 36), np.float64(0.7281785780627147)), ((0, 39), np.float64(0.9798664024453835)), ((1, 0), np.float64(0.2150713255528821)), ((1, 1), np.float64(0.24969432184858914)), ((1, 3), np.float64(0.2300872333486259)), ((1, 4), np.float64(0.21927457587672844)), ((1, 7), np.float64(0.4199789734947642)), ((1, 10), np.float64(0.5272420819497572)), ((1, 11), np.float64(0.49337362102559085)), ((1, 14), np.float64(0.5241314688953005)), ((1, 17), np.float64(0.19193874783435882)), ((1, 18), np.float64(0.14194713931675723)), ((1, 21), np.float64(0.20011457253660547)), ((1, 24), np.float64(0.4660800662735718)), ((1, 25), np.float64(0.31199253800286947)), ((1, 27), np.float64(0.3683938926459419)), ((1, 28), np.float64(0.46900587525263077)), ((1, 31), np.float64(0.4331326187304288)), ((1, 32), np.float64(0.22551117417843716)), ((1, 34), np.float64(0.2829798624657235)), ((1, 35), np.float64(0.5096537323174526)), ((1, 38), np.float64(0.4281437318909141)), ((1, 39), np.float64(0.28944872454189896))]), (1, [((0, 0), np.float64(0.7082738573283107)), ((0, 3), np.float64(0.5952418751256483)), ((0, 6), np.float64(1.0261450396444145)), ((0, 7), np.float64(0.9786622434330594)), ((0, 10), np.float64(1.3348579009889736)), ((0, 13), np.float64(0.21690372291745325)), ((0, 14), np.float64(1.2578714005559615)), ((0, 17), np.float64(0.5691622671066011)), ((0, 20), np.float64(1.1578607806171768)), ((0, 21), np.float64(0.7856253885418776)), ((0, 24), np.float64(1.2643833101403859)), ((0, 27), np.float64(0.9427303438286813)), ((0, 28), np.float64(1.2510803146330667)), ((0, 30), np.float64(0.6877028630316094)), ((0, 31), np.float64(1.2080052554528469)), ((0, 34), np.float64(0.7557927921227906)), ((0, 35), np.float64(1.314634235676521)), ((0, 37), np.float64(0.7957569587677584)), ((0, 38), np.float64(1.193194754770318)), ((1, 2), np.float64(0.7017210142816405)), ((1, 5), np.float64(0.27356661730051063)), ((1, 6), np.float64(0.3776563303327261)), ((1, 8), np.float64(0.6936358434601639)), ((1, 9), np.float64(0.4912471558293128)), ((1, 12), np.float64(0.5644539639688512)), ((1, 13), np.float64(0.10280245782033465)), ((1, 15), np.float64(0.4047358465013414)), ((1, 16), np.float64(0.3648746885430773)), ((1, 19), np.float64(0.36854168154104816)), ((1, 20), np.float64(0.4811856810571522)), ((1, 22), np.float64(0.34510530527390976)), ((1, 23), np.float64(0.41047581031970065)), ((1, 26), np.float64(0.27764415299135353)), ((1, 29), np.float64(0.46432387542326325)), ((1, 30), np.float64(0.1813432610588901)), ((1, 33), np.float64(0.4055734699259106)), ((1, 36), np.float64(0.2555551979694334)), ((1, 37), np.float64(0.27395013081044045))])]\n",
      "[((0, 1), np.float64(0.8576000263800703)), ((0, 2), np.float64(1.9153375486760986)), ((0, 4), np.float64(0.818722038380225)), ((0, 5), np.float64(0.8090364245964001)), ((0, 8), np.float64(1.8404931366095156)), ((0, 9), np.float64(1.441116079931418)), ((0, 11), np.float64(1.268513134672145)), ((0, 12), np.float64(1.4747324838699565)), ((0, 15), np.float64(0.9930562100207719)), ((0, 16), np.float64(0.9194626338408478)), ((0, 18), np.float64(0.47839465500482914)), ((0, 19), np.float64(0.9666867616229978)), ((0, 22), np.float64(0.7786318741351635)), ((0, 23), np.float64(1.077872597954569)), ((0, 25), np.float64(0.8264163641759117)), ((0, 26), np.float64(0.8843866874585998)), ((0, 29), np.float64(1.280659380997363)), ((0, 32), np.float64(0.6093207967181147)), ((0, 33), np.float64(0.9395386151417453)), ((0, 36), np.float64(0.7281785780627147)), ((0, 39), np.float64(0.9798664024453835)), ((1, 0), np.float64(0.2150713255528821)), ((1, 1), np.float64(0.24969432184858914)), ((1, 3), np.float64(0.2300872333486259)), ((1, 4), np.float64(0.21927457587672844)), ((1, 7), np.float64(0.4199789734947642)), ((1, 10), np.float64(0.5272420819497572)), ((1, 11), np.float64(0.49337362102559085)), ((1, 14), np.float64(0.5241314688953005)), ((1, 17), np.float64(0.19193874783435882)), ((1, 18), np.float64(0.14194713931675723)), ((1, 21), np.float64(0.20011457253660547)), ((1, 24), np.float64(0.4660800662735718)), ((1, 25), np.float64(0.31199253800286947)), ((1, 27), np.float64(0.3683938926459419)), ((1, 28), np.float64(0.46900587525263077)), ((1, 31), np.float64(0.4331326187304288)), ((1, 32), np.float64(0.22551117417843716)), ((1, 34), np.float64(0.2829798624657235)), ((1, 35), np.float64(0.5096537323174526)), ((1, 38), np.float64(0.4281437318909141)), ((1, 39), np.float64(0.28944872454189896)), ((0, 0), np.float64(0.7082738573283107)), ((0, 3), np.float64(0.5952418751256483)), ((0, 6), np.float64(1.0261450396444145)), ((0, 7), np.float64(0.9786622434330594)), ((0, 10), np.float64(1.3348579009889736)), ((0, 13), np.float64(0.21690372291745325)), ((0, 14), np.float64(1.2578714005559615)), ((0, 17), np.float64(0.5691622671066011)), ((0, 20), np.float64(1.1578607806171768)), ((0, 21), np.float64(0.7856253885418776)), ((0, 24), np.float64(1.2643833101403859)), ((0, 27), np.float64(0.9427303438286813)), ((0, 28), np.float64(1.2510803146330667)), ((0, 30), np.float64(0.6877028630316094)), ((0, 31), np.float64(1.2080052554528469)), ((0, 34), np.float64(0.7557927921227906)), ((0, 35), np.float64(1.314634235676521)), ((0, 37), np.float64(0.7957569587677584)), ((0, 38), np.float64(1.193194754770318)), ((1, 2), np.float64(0.7017210142816405)), ((1, 5), np.float64(0.27356661730051063)), ((1, 6), np.float64(0.3776563303327261)), ((1, 8), np.float64(0.6936358434601639)), ((1, 9), np.float64(0.4912471558293128)), ((1, 12), np.float64(0.5644539639688512)), ((1, 13), np.float64(0.10280245782033465)), ((1, 15), np.float64(0.4047358465013414)), ((1, 16), np.float64(0.3648746885430773)), ((1, 19), np.float64(0.36854168154104816)), ((1, 20), np.float64(0.4811856810571522)), ((1, 22), np.float64(0.34510530527390976)), ((1, 23), np.float64(0.41047581031970065)), ((1, 26), np.float64(0.27764415299135353)), ((1, 29), np.float64(0.46432387542326325)), ((1, 30), np.float64(0.1813432610588901)), ((1, 33), np.float64(0.4055734699259106)), ((1, 36), np.float64(0.2555551979694334)), ((1, 37), np.float64(0.27395013081044045))]\n"
     ]
    },
    {
     "data": {
      "text/plain": [
       "True"
      ]
     },
     "execution_count": 38,
     "metadata": {},
     "output_type": "execute_result"
    }
   ],
   "execution_count": 38
  }
 ]
}
